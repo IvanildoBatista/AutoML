{
  "nbformat": 4,
  "nbformat_minor": 0,
  "metadata": {
    "colab": {
      "name": "Regressão com MLBOX (Tutorial).ipynb",
      "provenance": [],
      "toc_visible": true
    },
    "kernelspec": {
      "name": "python3",
      "display_name": "Python 3"
    },
    "language_info": {
      "name": "python"
    }
  },
  "cells": [
    {
      "cell_type": "markdown",
      "metadata": {
        "id": "J8bSBy5QakEY"
      },
      "source": [
        "# Preço de veículos com *MLBOX*\n",
        "\n",
        "Tutorial para aplicação da biblioteca de *Auto Machine Learning MLbox* para previsão por regressão. O problema envolve a previsão de preço de veículos da marca *Hyundai*; como esse *notebook* é apenas um tutorial, irei apenas passar as principais etapas da biblioteca para o problema de regressão. \n",
        "\n",
        "A *MLBox* fornece os seguintes recursos:\n",
        "\n",
        "1) Leitura rápida e pré-processamento/limpeza/formatação de dados distribuídos.\n",
        "\n",
        "2) Seleção de *features*.\n",
        "\n",
        "3) Otimização de hiperparâmetro precisa em espaço de alta dimensão.\n",
        "\n",
        "4) Modelos preditivos de última geração para classificação e regressão (*Deep Learning*, *Stacking*, *LightGBM*, etc).\n",
        "\n",
        "5) Predição com interpretação de modelos.\n",
        "\n",
        "Os dados com as variáveis e os preços de carros podem ser obtidos [aqui](https://www.kaggle.com/adityadesai13/used-car-dataset-ford-and-mercedes) e documentação dessa biblioteca pode ser encontrada [aqui](https://mlbox.readthedocs.io/en/latest/).\n",
        "\n",
        "### Instalação e importação das bibliotecas"
      ]
    },
    {
      "cell_type": "code",
      "metadata": {
        "colab": {
          "base_uri": "https://localhost:8080/"
        },
        "id": "1q2H3V6WSbbO",
        "outputId": "e9a756ca-f546-446a-e334-afcc2dc3c0f7"
      },
      "source": [
        "pip install mlbox"
      ],
      "execution_count": 160,
      "outputs": [
        {
          "output_type": "stream",
          "text": [
            "Requirement already satisfied: mlbox in /usr/local/lib/python3.7/dist-packages (0.8.5)\n",
            "Requirement already satisfied: scipy==1.4.1 in /usr/local/lib/python3.7/dist-packages (from mlbox) (1.4.1)\n",
            "Requirement already satisfied: matplotlib==3.0.3 in /usr/local/lib/python3.7/dist-packages (from mlbox) (3.0.3)\n",
            "Requirement already satisfied: numpy==1.18.2 in /usr/local/lib/python3.7/dist-packages (from mlbox) (1.18.2)\n",
            "Requirement already satisfied: xlrd==1.2.0 in /usr/local/lib/python3.7/dist-packages (from mlbox) (1.2.0)\n",
            "Requirement already satisfied: scikit-learn==0.22.1 in /usr/local/lib/python3.7/dist-packages (from mlbox) (0.22.1)\n",
            "Requirement already satisfied: tensorflow==2.0.0 in /usr/local/lib/python3.7/dist-packages (from mlbox) (2.0.0)\n",
            "Requirement already satisfied: lightgbm==2.3.1 in /usr/local/lib/python3.7/dist-packages (from mlbox) (2.3.1)\n",
            "Requirement already satisfied: tables==3.5.2 in /usr/local/lib/python3.7/dist-packages (from mlbox) (3.5.2)\n",
            "Requirement already satisfied: pandas==0.25.3 in /usr/local/lib/python3.7/dist-packages (from mlbox) (0.25.3)\n",
            "Requirement already satisfied: hyperopt==0.2.3 in /usr/local/lib/python3.7/dist-packages (from mlbox) (0.2.3)\n",
            "Requirement already satisfied: joblib==0.14.1 in /usr/local/lib/python3.7/dist-packages (from mlbox) (0.14.1)\n",
            "Requirement already satisfied: cycler>=0.10 in /usr/local/lib/python3.7/dist-packages (from matplotlib==3.0.3->mlbox) (0.10.0)\n",
            "Requirement already satisfied: python-dateutil>=2.1 in /usr/local/lib/python3.7/dist-packages (from matplotlib==3.0.3->mlbox) (2.8.1)\n",
            "Requirement already satisfied: pyparsing!=2.0.4,!=2.1.2,!=2.1.6,>=2.0.1 in /usr/local/lib/python3.7/dist-packages (from matplotlib==3.0.3->mlbox) (2.4.7)\n",
            "Requirement already satisfied: kiwisolver>=1.0.1 in /usr/local/lib/python3.7/dist-packages (from matplotlib==3.0.3->mlbox) (1.3.1)\n",
            "Requirement already satisfied: wrapt>=1.11.1 in /usr/local/lib/python3.7/dist-packages (from tensorflow==2.0.0->mlbox) (1.12.1)\n",
            "Requirement already satisfied: tensorboard<2.1.0,>=2.0.0 in /usr/local/lib/python3.7/dist-packages (from tensorflow==2.0.0->mlbox) (2.0.2)\n",
            "Requirement already satisfied: protobuf>=3.6.1 in /usr/local/lib/python3.7/dist-packages (from tensorflow==2.0.0->mlbox) (3.12.4)\n",
            "Requirement already satisfied: wheel>=0.26 in /usr/local/lib/python3.7/dist-packages (from tensorflow==2.0.0->mlbox) (0.36.2)\n",
            "Requirement already satisfied: google-pasta>=0.1.6 in /usr/local/lib/python3.7/dist-packages (from tensorflow==2.0.0->mlbox) (0.2.0)\n",
            "Requirement already satisfied: keras-applications>=1.0.8 in /usr/local/lib/python3.7/dist-packages (from tensorflow==2.0.0->mlbox) (1.0.8)\n",
            "Requirement already satisfied: astor>=0.6.0 in /usr/local/lib/python3.7/dist-packages (from tensorflow==2.0.0->mlbox) (0.8.1)\n",
            "Requirement already satisfied: tensorflow-estimator<2.1.0,>=2.0.0 in /usr/local/lib/python3.7/dist-packages (from tensorflow==2.0.0->mlbox) (2.0.1)\n",
            "Requirement already satisfied: grpcio>=1.8.6 in /usr/local/lib/python3.7/dist-packages (from tensorflow==2.0.0->mlbox) (1.32.0)\n",
            "Requirement already satisfied: six>=1.10.0 in /usr/local/lib/python3.7/dist-packages (from tensorflow==2.0.0->mlbox) (1.15.0)\n",
            "Requirement already satisfied: termcolor>=1.1.0 in /usr/local/lib/python3.7/dist-packages (from tensorflow==2.0.0->mlbox) (1.1.0)\n",
            "Requirement already satisfied: gast==0.2.2 in /usr/local/lib/python3.7/dist-packages (from tensorflow==2.0.0->mlbox) (0.2.2)\n",
            "Requirement already satisfied: keras-preprocessing>=1.0.5 in /usr/local/lib/python3.7/dist-packages (from tensorflow==2.0.0->mlbox) (1.1.2)\n",
            "Requirement already satisfied: absl-py>=0.7.0 in /usr/local/lib/python3.7/dist-packages (from tensorflow==2.0.0->mlbox) (0.12.0)\n",
            "Requirement already satisfied: opt-einsum>=2.3.2 in /usr/local/lib/python3.7/dist-packages (from tensorflow==2.0.0->mlbox) (3.3.0)\n",
            "Requirement already satisfied: mock>=2.0 in /usr/local/lib/python3.7/dist-packages (from tables==3.5.2->mlbox) (4.0.3)\n",
            "Requirement already satisfied: numexpr>=2.6.2 in /usr/local/lib/python3.7/dist-packages (from tables==3.5.2->mlbox) (2.7.3)\n",
            "Requirement already satisfied: pytz>=2017.2 in /usr/local/lib/python3.7/dist-packages (from pandas==0.25.3->mlbox) (2018.9)\n",
            "Requirement already satisfied: networkx==2.2 in /usr/local/lib/python3.7/dist-packages (from hyperopt==0.2.3->mlbox) (2.2)\n",
            "Requirement already satisfied: cloudpickle in /usr/local/lib/python3.7/dist-packages (from hyperopt==0.2.3->mlbox) (1.3.0)\n",
            "Requirement already satisfied: future in /usr/local/lib/python3.7/dist-packages (from hyperopt==0.2.3->mlbox) (0.16.0)\n",
            "Requirement already satisfied: tqdm in /usr/local/lib/python3.7/dist-packages (from hyperopt==0.2.3->mlbox) (4.41.1)\n",
            "Requirement already satisfied: google-auth-oauthlib<0.5,>=0.4.1 in /usr/local/lib/python3.7/dist-packages (from tensorboard<2.1.0,>=2.0.0->tensorflow==2.0.0->mlbox) (0.4.4)\n",
            "Requirement already satisfied: markdown>=2.6.8 in /usr/local/lib/python3.7/dist-packages (from tensorboard<2.1.0,>=2.0.0->tensorflow==2.0.0->mlbox) (3.3.4)\n",
            "Requirement already satisfied: google-auth<2,>=1.6.3 in /usr/local/lib/python3.7/dist-packages (from tensorboard<2.1.0,>=2.0.0->tensorflow==2.0.0->mlbox) (1.30.0)\n",
            "Requirement already satisfied: setuptools>=41.0.0 in /usr/local/lib/python3.7/dist-packages (from tensorboard<2.1.0,>=2.0.0->tensorflow==2.0.0->mlbox) (56.1.0)\n",
            "Requirement already satisfied: requests<3,>=2.21.0 in /usr/local/lib/python3.7/dist-packages (from tensorboard<2.1.0,>=2.0.0->tensorflow==2.0.0->mlbox) (2.23.0)\n",
            "Requirement already satisfied: werkzeug>=0.11.15 in /usr/local/lib/python3.7/dist-packages (from tensorboard<2.1.0,>=2.0.0->tensorflow==2.0.0->mlbox) (2.0.0)\n",
            "Requirement already satisfied: h5py in /usr/local/lib/python3.7/dist-packages (from keras-applications>=1.0.8->tensorflow==2.0.0->mlbox) (2.10.0)\n",
            "Requirement already satisfied: decorator>=4.3.0 in /usr/local/lib/python3.7/dist-packages (from networkx==2.2->hyperopt==0.2.3->mlbox) (4.4.2)\n",
            "Requirement already satisfied: requests-oauthlib>=0.7.0 in /usr/local/lib/python3.7/dist-packages (from google-auth-oauthlib<0.5,>=0.4.1->tensorboard<2.1.0,>=2.0.0->tensorflow==2.0.0->mlbox) (1.3.0)\n",
            "Requirement already satisfied: importlib-metadata; python_version < \"3.8\" in /usr/local/lib/python3.7/dist-packages (from markdown>=2.6.8->tensorboard<2.1.0,>=2.0.0->tensorflow==2.0.0->mlbox) (4.0.1)\n",
            "Requirement already satisfied: cachetools<5.0,>=2.0.0 in /usr/local/lib/python3.7/dist-packages (from google-auth<2,>=1.6.3->tensorboard<2.1.0,>=2.0.0->tensorflow==2.0.0->mlbox) (4.2.2)\n",
            "Requirement already satisfied: pyasn1-modules>=0.2.1 in /usr/local/lib/python3.7/dist-packages (from google-auth<2,>=1.6.3->tensorboard<2.1.0,>=2.0.0->tensorflow==2.0.0->mlbox) (0.2.8)\n",
            "Requirement already satisfied: rsa<5,>=3.1.4; python_version >= \"3.6\" in /usr/local/lib/python3.7/dist-packages (from google-auth<2,>=1.6.3->tensorboard<2.1.0,>=2.0.0->tensorflow==2.0.0->mlbox) (4.7.2)\n",
            "Requirement already satisfied: urllib3!=1.25.0,!=1.25.1,<1.26,>=1.21.1 in /usr/local/lib/python3.7/dist-packages (from requests<3,>=2.21.0->tensorboard<2.1.0,>=2.0.0->tensorflow==2.0.0->mlbox) (1.24.3)\n",
            "Requirement already satisfied: certifi>=2017.4.17 in /usr/local/lib/python3.7/dist-packages (from requests<3,>=2.21.0->tensorboard<2.1.0,>=2.0.0->tensorflow==2.0.0->mlbox) (2020.12.5)\n",
            "Requirement already satisfied: chardet<4,>=3.0.2 in /usr/local/lib/python3.7/dist-packages (from requests<3,>=2.21.0->tensorboard<2.1.0,>=2.0.0->tensorflow==2.0.0->mlbox) (3.0.4)\n",
            "Requirement already satisfied: idna<3,>=2.5 in /usr/local/lib/python3.7/dist-packages (from requests<3,>=2.21.0->tensorboard<2.1.0,>=2.0.0->tensorflow==2.0.0->mlbox) (2.10)\n",
            "Requirement already satisfied: oauthlib>=3.0.0 in /usr/local/lib/python3.7/dist-packages (from requests-oauthlib>=0.7.0->google-auth-oauthlib<0.5,>=0.4.1->tensorboard<2.1.0,>=2.0.0->tensorflow==2.0.0->mlbox) (3.1.0)\n",
            "Requirement already satisfied: zipp>=0.5 in /usr/local/lib/python3.7/dist-packages (from importlib-metadata; python_version < \"3.8\"->markdown>=2.6.8->tensorboard<2.1.0,>=2.0.0->tensorflow==2.0.0->mlbox) (3.4.1)\n",
            "Requirement already satisfied: typing-extensions>=3.6.4; python_version < \"3.8\" in /usr/local/lib/python3.7/dist-packages (from importlib-metadata; python_version < \"3.8\"->markdown>=2.6.8->tensorboard<2.1.0,>=2.0.0->tensorflow==2.0.0->mlbox) (3.7.4.3)\n",
            "Requirement already satisfied: pyasn1<0.5.0,>=0.4.6 in /usr/local/lib/python3.7/dist-packages (from pyasn1-modules>=0.2.1->google-auth<2,>=1.6.3->tensorboard<2.1.0,>=2.0.0->tensorflow==2.0.0->mlbox) (0.4.8)\n"
          ],
          "name": "stdout"
        }
      ]
    },
    {
      "cell_type": "code",
      "metadata": {
        "id": "EH-zgeDjScK8"
      },
      "source": [
        "import pandas as pd\n",
        "import numpy as np\n",
        "import matplotlib.pyplot as plt\n",
        "import seaborn as sns\n",
        "\n",
        "from mlbox.preprocessing import *\n",
        "from mlbox.optimisation import *\n",
        "from mlbox.prediction import *\n",
        "\n",
        "from scipy.stats import skew, trim_mean, iqr\n",
        "from sklearn.model_selection import train_test_split\n",
        "from statsmodels.graphics.tsaplots import plot_acf\n",
        "from statsmodels.graphics.gofplots import qqplot\n",
        "from statsmodels.stats.stattools import jarque_bera\n",
        "\n",
        "from sklearn.metrics import mean_absolute_error, mean_squared_error,median_absolute_error, r2_score\n",
        "plt.style.use('ggplot')"
      ],
      "execution_count": 161,
      "outputs": []
    },
    {
      "cell_type": "markdown",
      "metadata": {
        "id": "pgXr-wj5dRl2"
      },
      "source": [
        "## Conhecendo a base de dados."
      ]
    },
    {
      "cell_type": "code",
      "metadata": {
        "id": "duiKt3YdU2CR"
      },
      "source": [
        "carro = pd.read_csv(\"hyundi.csv\")"
      ],
      "execution_count": 162,
      "outputs": []
    },
    {
      "cell_type": "markdown",
      "metadata": {
        "id": "Q8E2awNpU-q9"
      },
      "source": [
        "Primeiras observações da base de dados."
      ]
    },
    {
      "cell_type": "code",
      "metadata": {
        "colab": {
          "base_uri": "https://localhost:8080/",
          "height": 191
        },
        "id": "M40-179u1rKk",
        "outputId": "fded60b6-bd69-4c22-9708-de9ae87150a3"
      },
      "source": [
        "carro.head()"
      ],
      "execution_count": 163,
      "outputs": [
        {
          "output_type": "execute_result",
          "data": {
            "text/html": [
              "<div>\n",
              "<style scoped>\n",
              "    .dataframe tbody tr th:only-of-type {\n",
              "        vertical-align: middle;\n",
              "    }\n",
              "\n",
              "    .dataframe tbody tr th {\n",
              "        vertical-align: top;\n",
              "    }\n",
              "\n",
              "    .dataframe thead th {\n",
              "        text-align: right;\n",
              "    }\n",
              "</style>\n",
              "<table border=\"1\" class=\"dataframe\">\n",
              "  <thead>\n",
              "    <tr style=\"text-align: right;\">\n",
              "      <th></th>\n",
              "      <th>model</th>\n",
              "      <th>year</th>\n",
              "      <th>price</th>\n",
              "      <th>transmission</th>\n",
              "      <th>mileage</th>\n",
              "      <th>fuelType</th>\n",
              "      <th>tax(£)</th>\n",
              "      <th>mpg</th>\n",
              "      <th>engineSize</th>\n",
              "    </tr>\n",
              "  </thead>\n",
              "  <tbody>\n",
              "    <tr>\n",
              "      <th>0</th>\n",
              "      <td>I20</td>\n",
              "      <td>2017</td>\n",
              "      <td>7999</td>\n",
              "      <td>Manual</td>\n",
              "      <td>17307</td>\n",
              "      <td>Petrol</td>\n",
              "      <td>145</td>\n",
              "      <td>58.9</td>\n",
              "      <td>1.2</td>\n",
              "    </tr>\n",
              "    <tr>\n",
              "      <th>1</th>\n",
              "      <td>Tucson</td>\n",
              "      <td>2016</td>\n",
              "      <td>14499</td>\n",
              "      <td>Automatic</td>\n",
              "      <td>25233</td>\n",
              "      <td>Diesel</td>\n",
              "      <td>235</td>\n",
              "      <td>43.5</td>\n",
              "      <td>2.0</td>\n",
              "    </tr>\n",
              "    <tr>\n",
              "      <th>2</th>\n",
              "      <td>Tucson</td>\n",
              "      <td>2016</td>\n",
              "      <td>11399</td>\n",
              "      <td>Manual</td>\n",
              "      <td>37877</td>\n",
              "      <td>Diesel</td>\n",
              "      <td>30</td>\n",
              "      <td>61.7</td>\n",
              "      <td>1.7</td>\n",
              "    </tr>\n",
              "    <tr>\n",
              "      <th>3</th>\n",
              "      <td>I10</td>\n",
              "      <td>2016</td>\n",
              "      <td>6499</td>\n",
              "      <td>Manual</td>\n",
              "      <td>23789</td>\n",
              "      <td>Petrol</td>\n",
              "      <td>20</td>\n",
              "      <td>60.1</td>\n",
              "      <td>1.0</td>\n",
              "    </tr>\n",
              "    <tr>\n",
              "      <th>4</th>\n",
              "      <td>IX35</td>\n",
              "      <td>2015</td>\n",
              "      <td>10199</td>\n",
              "      <td>Manual</td>\n",
              "      <td>33177</td>\n",
              "      <td>Diesel</td>\n",
              "      <td>160</td>\n",
              "      <td>51.4</td>\n",
              "      <td>2.0</td>\n",
              "    </tr>\n",
              "  </tbody>\n",
              "</table>\n",
              "</div>"
            ],
            "text/plain": [
              "     model  year  price transmission  ...  fuelType tax(£)   mpg  engineSize\n",
              "0      I20  2017   7999       Manual  ...    Petrol    145  58.9         1.2\n",
              "1   Tucson  2016  14499    Automatic  ...    Diesel    235  43.5         2.0\n",
              "2   Tucson  2016  11399       Manual  ...    Diesel     30  61.7         1.7\n",
              "3      I10  2016   6499       Manual  ...    Petrol     20  60.1         1.0\n",
              "4     IX35  2015  10199       Manual  ...    Diesel    160  51.4         2.0\n",
              "\n",
              "[5 rows x 9 columns]"
            ]
          },
          "metadata": {
            "tags": []
          },
          "execution_count": 163
        }
      ]
    },
    {
      "cell_type": "markdown",
      "metadata": {
        "id": "IlRX12wY_GQd"
      },
      "source": [
        "Últimas observações da base de dados."
      ]
    },
    {
      "cell_type": "code",
      "metadata": {
        "colab": {
          "base_uri": "https://localhost:8080/",
          "height": 191
        },
        "id": "QPAvA7Jv_Gb0",
        "outputId": "db2a1413-7902-4149-bfcf-5abe1874b917"
      },
      "source": [
        "carro.tail()"
      ],
      "execution_count": 164,
      "outputs": [
        {
          "output_type": "execute_result",
          "data": {
            "text/html": [
              "<div>\n",
              "<style scoped>\n",
              "    .dataframe tbody tr th:only-of-type {\n",
              "        vertical-align: middle;\n",
              "    }\n",
              "\n",
              "    .dataframe tbody tr th {\n",
              "        vertical-align: top;\n",
              "    }\n",
              "\n",
              "    .dataframe thead th {\n",
              "        text-align: right;\n",
              "    }\n",
              "</style>\n",
              "<table border=\"1\" class=\"dataframe\">\n",
              "  <thead>\n",
              "    <tr style=\"text-align: right;\">\n",
              "      <th></th>\n",
              "      <th>model</th>\n",
              "      <th>year</th>\n",
              "      <th>price</th>\n",
              "      <th>transmission</th>\n",
              "      <th>mileage</th>\n",
              "      <th>fuelType</th>\n",
              "      <th>tax(£)</th>\n",
              "      <th>mpg</th>\n",
              "      <th>engineSize</th>\n",
              "    </tr>\n",
              "  </thead>\n",
              "  <tbody>\n",
              "    <tr>\n",
              "      <th>4855</th>\n",
              "      <td>I30</td>\n",
              "      <td>2016</td>\n",
              "      <td>8680</td>\n",
              "      <td>Manual</td>\n",
              "      <td>25906</td>\n",
              "      <td>Diesel</td>\n",
              "      <td>0</td>\n",
              "      <td>78.4</td>\n",
              "      <td>1.6</td>\n",
              "    </tr>\n",
              "    <tr>\n",
              "      <th>4856</th>\n",
              "      <td>I40</td>\n",
              "      <td>2015</td>\n",
              "      <td>7830</td>\n",
              "      <td>Manual</td>\n",
              "      <td>59508</td>\n",
              "      <td>Diesel</td>\n",
              "      <td>30</td>\n",
              "      <td>65.7</td>\n",
              "      <td>1.7</td>\n",
              "    </tr>\n",
              "    <tr>\n",
              "      <th>4857</th>\n",
              "      <td>I10</td>\n",
              "      <td>2017</td>\n",
              "      <td>6830</td>\n",
              "      <td>Manual</td>\n",
              "      <td>13810</td>\n",
              "      <td>Petrol</td>\n",
              "      <td>20</td>\n",
              "      <td>60.1</td>\n",
              "      <td>1.0</td>\n",
              "    </tr>\n",
              "    <tr>\n",
              "      <th>4858</th>\n",
              "      <td>Tucson</td>\n",
              "      <td>2018</td>\n",
              "      <td>13994</td>\n",
              "      <td>Manual</td>\n",
              "      <td>23313</td>\n",
              "      <td>Petrol</td>\n",
              "      <td>145</td>\n",
              "      <td>44.8</td>\n",
              "      <td>1.6</td>\n",
              "    </tr>\n",
              "    <tr>\n",
              "      <th>4859</th>\n",
              "      <td>Tucson</td>\n",
              "      <td>2016</td>\n",
              "      <td>15999</td>\n",
              "      <td>Automatic</td>\n",
              "      <td>11472</td>\n",
              "      <td>Diesel</td>\n",
              "      <td>125</td>\n",
              "      <td>57.6</td>\n",
              "      <td>1.7</td>\n",
              "    </tr>\n",
              "  </tbody>\n",
              "</table>\n",
              "</div>"
            ],
            "text/plain": [
              "        model  year  price transmission  ...  fuelType tax(£)   mpg  engineSize\n",
              "4855      I30  2016   8680       Manual  ...    Diesel      0  78.4         1.6\n",
              "4856      I40  2015   7830       Manual  ...    Diesel     30  65.7         1.7\n",
              "4857      I10  2017   6830       Manual  ...    Petrol     20  60.1         1.0\n",
              "4858   Tucson  2018  13994       Manual  ...    Petrol    145  44.8         1.6\n",
              "4859   Tucson  2016  15999    Automatic  ...    Diesel    125  57.6         1.7\n",
              "\n",
              "[5 rows x 9 columns]"
            ]
          },
          "metadata": {
            "tags": []
          },
          "execution_count": 164
        }
      ]
    },
    {
      "cell_type": "markdown",
      "metadata": {
        "id": "AqzTw4uMVBTk"
      },
      "source": [
        "Dimensão da base de dados."
      ]
    },
    {
      "cell_type": "code",
      "metadata": {
        "colab": {
          "base_uri": "https://localhost:8080/"
        },
        "id": "4lAo5M1jKeMM",
        "outputId": "f9bb32eb-47fc-43a2-b61c-29c7f73577a1"
      },
      "source": [
        "carro.shape"
      ],
      "execution_count": 165,
      "outputs": [
        {
          "output_type": "execute_result",
          "data": {
            "text/plain": [
              "(4860, 9)"
            ]
          },
          "metadata": {
            "tags": []
          },
          "execution_count": 165
        }
      ]
    },
    {
      "cell_type": "markdown",
      "metadata": {
        "id": "raDkl-TQVE4E"
      },
      "source": [
        "Tipo dos dados."
      ]
    },
    {
      "cell_type": "code",
      "metadata": {
        "colab": {
          "base_uri": "https://localhost:8080/"
        },
        "id": "H6Mz75F0flII",
        "outputId": "5403e4a8-f066-4740-c2fa-172b7a36b631"
      },
      "source": [
        "carro.dtypes"
      ],
      "execution_count": 166,
      "outputs": [
        {
          "output_type": "execute_result",
          "data": {
            "text/plain": [
              "model            object\n",
              "year              int64\n",
              "price             int64\n",
              "transmission     object\n",
              "mileage           int64\n",
              "fuelType         object\n",
              "tax(£)            int64\n",
              "mpg             float64\n",
              "engineSize      float64\n",
              "dtype: object"
            ]
          },
          "metadata": {
            "tags": []
          },
          "execution_count": 166
        }
      ]
    },
    {
      "cell_type": "markdown",
      "metadata": {
        "id": "P4xYkaGek_7m"
      },
      "source": [
        "Convertendo os dados inteiros para *float64*."
      ]
    },
    {
      "cell_type": "code",
      "metadata": {
        "id": "t5EWNm-qgBBv"
      },
      "source": [
        "for i in carro.select_dtypes('int64').columns:\n",
        "  carro[i] = carro[i].astype('float64')"
      ],
      "execution_count": 167,
      "outputs": []
    },
    {
      "cell_type": "markdown",
      "metadata": {
        "id": "qkAT-qcWYSDu"
      },
      "source": [
        "O coeficiente de correlação entre as *features* mostra uma relação fraca."
      ]
    },
    {
      "cell_type": "code",
      "metadata": {
        "colab": {
          "base_uri": "https://localhost:8080/"
        },
        "id": "wVMG4NIs1wUG",
        "outputId": "46a1fcf1-bd54-4668-d889-67297b9ccbb1"
      },
      "source": [
        "carro.corr()['price']"
      ],
      "execution_count": 168,
      "outputs": [
        {
          "output_type": "execute_result",
          "data": {
            "text/plain": [
              "year          0.575765\n",
              "price         1.000000\n",
              "mileage      -0.443576\n",
              "tax(£)        0.321028\n",
              "mpg          -0.320355\n",
              "engineSize    0.522384\n",
              "Name: price, dtype: float64"
            ]
          },
          "metadata": {
            "tags": []
          },
          "execution_count": 168
        }
      ]
    },
    {
      "cell_type": "markdown",
      "metadata": {
        "id": "hiJG-PO3DYdz"
      },
      "source": [
        "Tabela estatística da base de dados."
      ]
    },
    {
      "cell_type": "code",
      "metadata": {
        "colab": {
          "base_uri": "https://localhost:8080/",
          "height": 277
        },
        "id": "dz2stic3DYlj",
        "outputId": "afb7a458-43b7-4bf1-c7c6-0a7210d49745"
      },
      "source": [
        "carro.describe()"
      ],
      "execution_count": 169,
      "outputs": [
        {
          "output_type": "execute_result",
          "data": {
            "text/html": [
              "<div>\n",
              "<style scoped>\n",
              "    .dataframe tbody tr th:only-of-type {\n",
              "        vertical-align: middle;\n",
              "    }\n",
              "\n",
              "    .dataframe tbody tr th {\n",
              "        vertical-align: top;\n",
              "    }\n",
              "\n",
              "    .dataframe thead th {\n",
              "        text-align: right;\n",
              "    }\n",
              "</style>\n",
              "<table border=\"1\" class=\"dataframe\">\n",
              "  <thead>\n",
              "    <tr style=\"text-align: right;\">\n",
              "      <th></th>\n",
              "      <th>year</th>\n",
              "      <th>price</th>\n",
              "      <th>mileage</th>\n",
              "      <th>tax(£)</th>\n",
              "      <th>mpg</th>\n",
              "      <th>engineSize</th>\n",
              "    </tr>\n",
              "  </thead>\n",
              "  <tbody>\n",
              "    <tr>\n",
              "      <th>count</th>\n",
              "      <td>4860.000000</td>\n",
              "      <td>4860.00000</td>\n",
              "      <td>4860.000000</td>\n",
              "      <td>4860.000000</td>\n",
              "      <td>4860.000000</td>\n",
              "      <td>4860.000000</td>\n",
              "    </tr>\n",
              "    <tr>\n",
              "      <th>mean</th>\n",
              "      <td>2017.107613</td>\n",
              "      <td>12750.13107</td>\n",
              "      <td>21486.049588</td>\n",
              "      <td>121.147119</td>\n",
              "      <td>53.827798</td>\n",
              "      <td>1.457922</td>\n",
              "    </tr>\n",
              "    <tr>\n",
              "      <th>std</th>\n",
              "      <td>1.920456</td>\n",
              "      <td>5992.92231</td>\n",
              "      <td>17710.196964</td>\n",
              "      <td>58.003289</td>\n",
              "      <td>12.736042</td>\n",
              "      <td>0.400788</td>\n",
              "    </tr>\n",
              "    <tr>\n",
              "      <th>min</th>\n",
              "      <td>2000.000000</td>\n",
              "      <td>1200.00000</td>\n",
              "      <td>1.000000</td>\n",
              "      <td>0.000000</td>\n",
              "      <td>1.100000</td>\n",
              "      <td>0.000000</td>\n",
              "    </tr>\n",
              "    <tr>\n",
              "      <th>25%</th>\n",
              "      <td>2016.000000</td>\n",
              "      <td>8000.00000</td>\n",
              "      <td>8339.250000</td>\n",
              "      <td>125.000000</td>\n",
              "      <td>44.800000</td>\n",
              "      <td>1.200000</td>\n",
              "    </tr>\n",
              "    <tr>\n",
              "      <th>50%</th>\n",
              "      <td>2017.000000</td>\n",
              "      <td>11990.00000</td>\n",
              "      <td>17462.000000</td>\n",
              "      <td>145.000000</td>\n",
              "      <td>55.400000</td>\n",
              "      <td>1.600000</td>\n",
              "    </tr>\n",
              "    <tr>\n",
              "      <th>75%</th>\n",
              "      <td>2019.000000</td>\n",
              "      <td>15733.75000</td>\n",
              "      <td>30967.000000</td>\n",
              "      <td>145.000000</td>\n",
              "      <td>60.100000</td>\n",
              "      <td>1.700000</td>\n",
              "    </tr>\n",
              "    <tr>\n",
              "      <th>max</th>\n",
              "      <td>2020.000000</td>\n",
              "      <td>92000.00000</td>\n",
              "      <td>138000.000000</td>\n",
              "      <td>555.000000</td>\n",
              "      <td>256.800000</td>\n",
              "      <td>2.900000</td>\n",
              "    </tr>\n",
              "  </tbody>\n",
              "</table>\n",
              "</div>"
            ],
            "text/plain": [
              "              year        price  ...          mpg   engineSize\n",
              "count  4860.000000   4860.00000  ...  4860.000000  4860.000000\n",
              "mean   2017.107613  12750.13107  ...    53.827798     1.457922\n",
              "std       1.920456   5992.92231  ...    12.736042     0.400788\n",
              "min    2000.000000   1200.00000  ...     1.100000     0.000000\n",
              "25%    2016.000000   8000.00000  ...    44.800000     1.200000\n",
              "50%    2017.000000  11990.00000  ...    55.400000     1.600000\n",
              "75%    2019.000000  15733.75000  ...    60.100000     1.700000\n",
              "max    2020.000000  92000.00000  ...   256.800000     2.900000\n",
              "\n",
              "[8 rows x 6 columns]"
            ]
          },
          "metadata": {
            "tags": []
          },
          "execution_count": 169
        }
      ]
    },
    {
      "cell_type": "markdown",
      "metadata": {
        "id": "gSlqJh9aim9i"
      },
      "source": [
        "Identificando *outliers*."
      ]
    },
    {
      "cell_type": "code",
      "metadata": {
        "colab": {
          "base_uri": "https://localhost:8080/",
          "height": 322
        },
        "id": "aGnqXr6O_yGk",
        "outputId": "d32c694d-c17c-4bf2-ea9d-08ad3ccc8af0"
      },
      "source": [
        "carro[['price','mileage']].plot.box(figsize=(20,5));"
      ],
      "execution_count": 170,
      "outputs": [
        {
          "output_type": "display_data",
          "data": {
            "image/png": "[encoded data removed]",
            "text/plain": [
              "<Figure size 1440x360 with 1 Axes>"
            ]
          },
          "metadata": {
            "tags": []
          }
        }
      ]
    },
    {
      "cell_type": "code",
      "metadata": {
        "colab": {
          "base_uri": "https://localhost:8080/",
          "height": 322
        },
        "id": "xiv4mtU1AhpS",
        "outputId": "ae546dbc-1e07-49f2-af97-ac812454328d"
      },
      "source": [
        "carro[['tax(£)','engineSize']].plot.box(figsize=(20,5));"
      ],
      "execution_count": 171,
      "outputs": [
        {
          "output_type": "display_data",
          "data": {
            "image/png": "[encoded data removed]",
            "text/plain": [
              "<Figure size 1440x360 with 1 Axes>"
            ]
          },
          "metadata": {
            "tags": []
          }
        }
      ]
    },
    {
      "cell_type": "markdown",
      "metadata": {
        "id": "QZg_sE4cAf1t"
      },
      "source": [
        "Excluindo os *outliers*."
      ]
    },
    {
      "cell_type": "code",
      "metadata": {
        "id": "XaCkUd9GAt4Y"
      },
      "source": [
        "#definindo os quartis\n",
        "q1p,q3p = np.percentile(carro['price'], [25,75])\n",
        "#ntervalo Interquartil\n",
        "intervalo_qr = iqr(carro['price'])\n",
        "#limites inferiores e superiores\n",
        "limite_inferior_price = q1p-(intervalo_qr*1.5)\n",
        "limite_superior_price = q3p+(intervalo_qr*1.5)\n",
        "\n",
        "#definindo os quartis\n",
        "q1m,q3m = np.percentile(carro['mileage'], [25,75])\n",
        "#ntervalo Interquartil\n",
        "intervalo_qr2 = iqr(carro['mileage'])\n",
        "#limites inferiores e superiores\n",
        "limite_inferior_mileage = q1m-(intervalo_qr2*1.5)\n",
        "limite_superior_mileage = q3m+(intervalo_qr2*1.5)"
      ],
      "execution_count": 173,
      "outputs": []
    },
    {
      "cell_type": "code",
      "metadata": {
        "id": "qhCg40NpVbTV"
      },
      "source": [
        "carro = carro.drop(carro[carro['price']>limite_superior_price].index)\n",
        "carro = carro.drop(carro[carro['mileage']>limite_superior_mileage].index)"
      ],
      "execution_count": 200,
      "outputs": []
    },
    {
      "cell_type": "code",
      "metadata": {
        "id": "4XsqJLMWRQzl"
      },
      "source": [
        "#SUBSTITUINDO OS OUTLIERS PELA MÉDIA (OU MEDIANA)\n",
        "#for x in carro:\n",
        " #   carro['price'] = np.where(carro['price'] > limite_superior_price, limite_superior_price, carro['price'])\n",
        "  #  carro['mileage'] = np.where(carro['mileage'] > limite_superior_mileage, limite_superior_mileage, carro['mileage'])"
      ],
      "execution_count": 201,
      "outputs": []
    },
    {
      "cell_type": "markdown",
      "metadata": {
        "id": "44vMLScXVPgO"
      },
      "source": [
        "Separando as *features* e a variável *target*. Além disso exclui as variáveis do tipo objeto."
      ]
    },
    {
      "cell_type": "code",
      "metadata": {
        "id": "S4DPIAYkKHL2"
      },
      "source": [
        "X = carro.drop(['price','model','transmission','fuelType'], axis=1)\n",
        "y = carro['price']"
      ],
      "execution_count": 202,
      "outputs": []
    },
    {
      "cell_type": "code",
      "metadata": {
        "id": "TfTR_UOMjeLc",
        "colab": {
          "base_uri": "https://localhost:8080/"
        },
        "outputId": "7a3d4e22-36ba-4582-e20f-ed66323900c1"
      },
      "source": [
        "carro.shape"
      ],
      "execution_count": 203,
      "outputs": [
        {
          "output_type": "execute_result",
          "data": {
            "text/plain": [
              "(4618, 9)"
            ]
          },
          "metadata": {
            "tags": []
          },
          "execution_count": 203
        }
      ]
    },
    {
      "cell_type": "markdown",
      "metadata": {
        "id": "UNsWkWTmVYmR"
      },
      "source": [
        "Separando os dados de treino e teste."
      ]
    },
    {
      "cell_type": "code",
      "metadata": {
        "id": "7UfOfrNy1tYp"
      },
      "source": [
        "treino, teste, y_treino, y_teste = train_test_split(X, y,test_size=0.2,random_state=42)"
      ],
      "execution_count": 204,
      "outputs": []
    },
    {
      "cell_type": "markdown",
      "metadata": {
        "id": "FWfMatr5WCWD"
      },
      "source": [
        "Para a base de treino a variável de preço precisa fazer parte do *dataset*."
      ]
    },
    {
      "cell_type": "code",
      "metadata": {
        "colab": {
          "base_uri": "https://localhost:8080/"
        },
        "id": "odwW8XLpKwlS",
        "outputId": "e0f6984d-e127-461f-b02a-10e062ddb6bc"
      },
      "source": [
        "treino['price']=y_treino\n",
        "#teste['price'] = y_teste"
      ],
      "execution_count": 205,
      "outputs": [
        {
          "output_type": "stream",
          "text": [
            "/usr/local/lib/python3.7/dist-packages/ipykernel_launcher.py:1: SettingWithCopyWarning: \n",
            "A value is trying to be set on a copy of a slice from a DataFrame.\n",
            "Try using .loc[row_indexer,col_indexer] = value instead\n",
            "\n",
            "See the caveats in the documentation: http://pandas.pydata.org/pandas-docs/stable/user_guide/indexing.html#returning-a-view-versus-a-copy\n",
            "  \"\"\"Entry point for launching an IPython kernel.\n"
          ],
          "name": "stderr"
        }
      ]
    },
    {
      "cell_type": "markdown",
      "metadata": {
        "id": "tXBxcUtqWXJU"
      },
      "source": [
        "Base de treino."
      ]
    },
    {
      "cell_type": "code",
      "metadata": {
        "colab": {
          "base_uri": "https://localhost:8080/",
          "height": 391
        },
        "id": "NLE_m0RaK5on",
        "outputId": "66a06216-ef03-4f18-e627-475c94c32192"
      },
      "source": [
        "treino"
      ],
      "execution_count": 206,
      "outputs": [
        {
          "output_type": "execute_result",
          "data": {
            "text/html": [
              "<div>\n",
              "<style scoped>\n",
              "    .dataframe tbody tr th:only-of-type {\n",
              "        vertical-align: middle;\n",
              "    }\n",
              "\n",
              "    .dataframe tbody tr th {\n",
              "        vertical-align: top;\n",
              "    }\n",
              "\n",
              "    .dataframe thead th {\n",
              "        text-align: right;\n",
              "    }\n",
              "</style>\n",
              "<table border=\"1\" class=\"dataframe\">\n",
              "  <thead>\n",
              "    <tr style=\"text-align: right;\">\n",
              "      <th></th>\n",
              "      <th>year</th>\n",
              "      <th>mileage</th>\n",
              "      <th>tax(£)</th>\n",
              "      <th>mpg</th>\n",
              "      <th>engineSize</th>\n",
              "      <th>price</th>\n",
              "    </tr>\n",
              "  </thead>\n",
              "  <tbody>\n",
              "    <tr>\n",
              "      <th>3459</th>\n",
              "      <td>2018.0</td>\n",
              "      <td>14985.0</td>\n",
              "      <td>145.0</td>\n",
              "      <td>60.1</td>\n",
              "      <td>1.0</td>\n",
              "      <td>7281.0</td>\n",
              "    </tr>\n",
              "    <tr>\n",
              "      <th>2737</th>\n",
              "      <td>2017.0</td>\n",
              "      <td>49081.0</td>\n",
              "      <td>20.0</td>\n",
              "      <td>62.8</td>\n",
              "      <td>1.0</td>\n",
              "      <td>7995.0</td>\n",
              "    </tr>\n",
              "    <tr>\n",
              "      <th>521</th>\n",
              "      <td>2017.0</td>\n",
              "      <td>30000.0</td>\n",
              "      <td>145.0</td>\n",
              "      <td>74.3</td>\n",
              "      <td>1.6</td>\n",
              "      <td>13995.0</td>\n",
              "    </tr>\n",
              "    <tr>\n",
              "      <th>403</th>\n",
              "      <td>2018.0</td>\n",
              "      <td>19001.0</td>\n",
              "      <td>145.0</td>\n",
              "      <td>52.3</td>\n",
              "      <td>1.0</td>\n",
              "      <td>12998.0</td>\n",
              "    </tr>\n",
              "    <tr>\n",
              "      <th>4609</th>\n",
              "      <td>2016.0</td>\n",
              "      <td>55000.0</td>\n",
              "      <td>235.0</td>\n",
              "      <td>42.8</td>\n",
              "      <td>2.2</td>\n",
              "      <td>17490.0</td>\n",
              "    </tr>\n",
              "    <tr>\n",
              "      <th>...</th>\n",
              "      <td>...</td>\n",
              "      <td>...</td>\n",
              "      <td>...</td>\n",
              "      <td>...</td>\n",
              "      <td>...</td>\n",
              "      <td>...</td>\n",
              "    </tr>\n",
              "    <tr>\n",
              "      <th>4639</th>\n",
              "      <td>2018.0</td>\n",
              "      <td>25637.0</td>\n",
              "      <td>150.0</td>\n",
              "      <td>35.3</td>\n",
              "      <td>1.6</td>\n",
              "      <td>13700.0</td>\n",
              "    </tr>\n",
              "    <tr>\n",
              "      <th>480</th>\n",
              "      <td>2016.0</td>\n",
              "      <td>23793.0</td>\n",
              "      <td>30.0</td>\n",
              "      <td>61.7</td>\n",
              "      <td>1.7</td>\n",
              "      <td>12998.0</td>\n",
              "    </tr>\n",
              "    <tr>\n",
              "      <th>3197</th>\n",
              "      <td>2018.0</td>\n",
              "      <td>26799.0</td>\n",
              "      <td>145.0</td>\n",
              "      <td>60.1</td>\n",
              "      <td>1.0</td>\n",
              "      <td>7495.0</td>\n",
              "    </tr>\n",
              "    <tr>\n",
              "      <th>3915</th>\n",
              "      <td>2013.0</td>\n",
              "      <td>25976.0</td>\n",
              "      <td>260.0</td>\n",
              "      <td>41.5</td>\n",
              "      <td>2.2</td>\n",
              "      <td>15739.0</td>\n",
              "    </tr>\n",
              "    <tr>\n",
              "      <th>885</th>\n",
              "      <td>2017.0</td>\n",
              "      <td>14010.0</td>\n",
              "      <td>20.0</td>\n",
              "      <td>60.1</td>\n",
              "      <td>1.0</td>\n",
              "      <td>6610.0</td>\n",
              "    </tr>\n",
              "  </tbody>\n",
              "</table>\n",
              "<p>3694 rows × 6 columns</p>\n",
              "</div>"
            ],
            "text/plain": [
              "        year  mileage  tax(£)   mpg  engineSize    price\n",
              "3459  2018.0  14985.0   145.0  60.1         1.0   7281.0\n",
              "2737  2017.0  49081.0    20.0  62.8         1.0   7995.0\n",
              "521   2017.0  30000.0   145.0  74.3         1.6  13995.0\n",
              "403   2018.0  19001.0   145.0  52.3         1.0  12998.0\n",
              "4609  2016.0  55000.0   235.0  42.8         2.2  17490.0\n",
              "...      ...      ...     ...   ...         ...      ...\n",
              "4639  2018.0  25637.0   150.0  35.3         1.6  13700.0\n",
              "480   2016.0  23793.0    30.0  61.7         1.7  12998.0\n",
              "3197  2018.0  26799.0   145.0  60.1         1.0   7495.0\n",
              "3915  2013.0  25976.0   260.0  41.5         2.2  15739.0\n",
              "885   2017.0  14010.0    20.0  60.1         1.0   6610.0\n",
              "\n",
              "[3694 rows x 6 columns]"
            ]
          },
          "metadata": {
            "tags": []
          },
          "execution_count": 206
        }
      ]
    },
    {
      "cell_type": "markdown",
      "metadata": {
        "id": "SBot_bQ7WaWJ"
      },
      "source": [
        "Base de teste."
      ]
    },
    {
      "cell_type": "code",
      "metadata": {
        "colab": {
          "base_uri": "https://localhost:8080/",
          "height": 391
        },
        "id": "Yq5QCS56LFef",
        "outputId": "d7ab7cd7-f0b0-4f4c-b411-8ce4558635e0"
      },
      "source": [
        "teste"
      ],
      "execution_count": 207,
      "outputs": [
        {
          "output_type": "execute_result",
          "data": {
            "text/html": [
              "<div>\n",
              "<style scoped>\n",
              "    .dataframe tbody tr th:only-of-type {\n",
              "        vertical-align: middle;\n",
              "    }\n",
              "\n",
              "    .dataframe tbody tr th {\n",
              "        vertical-align: top;\n",
              "    }\n",
              "\n",
              "    .dataframe thead th {\n",
              "        text-align: right;\n",
              "    }\n",
              "</style>\n",
              "<table border=\"1\" class=\"dataframe\">\n",
              "  <thead>\n",
              "    <tr style=\"text-align: right;\">\n",
              "      <th></th>\n",
              "      <th>year</th>\n",
              "      <th>mileage</th>\n",
              "      <th>tax(£)</th>\n",
              "      <th>mpg</th>\n",
              "      <th>engineSize</th>\n",
              "    </tr>\n",
              "  </thead>\n",
              "  <tbody>\n",
              "    <tr>\n",
              "      <th>3660</th>\n",
              "      <td>2018.0</td>\n",
              "      <td>15395.0</td>\n",
              "      <td>150.0</td>\n",
              "      <td>60.1</td>\n",
              "      <td>1.0</td>\n",
              "    </tr>\n",
              "    <tr>\n",
              "      <th>4536</th>\n",
              "      <td>2016.0</td>\n",
              "      <td>10618.0</td>\n",
              "      <td>30.0</td>\n",
              "      <td>55.4</td>\n",
              "      <td>1.2</td>\n",
              "    </tr>\n",
              "    <tr>\n",
              "      <th>3859</th>\n",
              "      <td>2017.0</td>\n",
              "      <td>30067.0</td>\n",
              "      <td>145.0</td>\n",
              "      <td>44.8</td>\n",
              "      <td>1.6</td>\n",
              "    </tr>\n",
              "    <tr>\n",
              "      <th>23</th>\n",
              "      <td>2016.0</td>\n",
              "      <td>7447.0</td>\n",
              "      <td>30.0</td>\n",
              "      <td>57.6</td>\n",
              "      <td>1.2</td>\n",
              "    </tr>\n",
              "    <tr>\n",
              "      <th>1896</th>\n",
              "      <td>2018.0</td>\n",
              "      <td>29890.0</td>\n",
              "      <td>145.0</td>\n",
              "      <td>39.8</td>\n",
              "      <td>1.6</td>\n",
              "    </tr>\n",
              "    <tr>\n",
              "      <th>...</th>\n",
              "      <td>...</td>\n",
              "      <td>...</td>\n",
              "      <td>...</td>\n",
              "      <td>...</td>\n",
              "      <td>...</td>\n",
              "    </tr>\n",
              "    <tr>\n",
              "      <th>2565</th>\n",
              "      <td>2019.0</td>\n",
              "      <td>3000.0</td>\n",
              "      <td>145.0</td>\n",
              "      <td>49.6</td>\n",
              "      <td>1.0</td>\n",
              "    </tr>\n",
              "    <tr>\n",
              "      <th>2098</th>\n",
              "      <td>2016.0</td>\n",
              "      <td>11000.0</td>\n",
              "      <td>145.0</td>\n",
              "      <td>47.9</td>\n",
              "      <td>1.2</td>\n",
              "    </tr>\n",
              "    <tr>\n",
              "      <th>2032</th>\n",
              "      <td>2018.0</td>\n",
              "      <td>33026.0</td>\n",
              "      <td>145.0</td>\n",
              "      <td>57.7</td>\n",
              "      <td>1.7</td>\n",
              "    </tr>\n",
              "    <tr>\n",
              "      <th>2186</th>\n",
              "      <td>2019.0</td>\n",
              "      <td>9616.0</td>\n",
              "      <td>145.0</td>\n",
              "      <td>36.2</td>\n",
              "      <td>1.6</td>\n",
              "    </tr>\n",
              "    <tr>\n",
              "      <th>2743</th>\n",
              "      <td>2015.0</td>\n",
              "      <td>54076.0</td>\n",
              "      <td>165.0</td>\n",
              "      <td>51.4</td>\n",
              "      <td>2.0</td>\n",
              "    </tr>\n",
              "  </tbody>\n",
              "</table>\n",
              "<p>924 rows × 5 columns</p>\n",
              "</div>"
            ],
            "text/plain": [
              "        year  mileage  tax(£)   mpg  engineSize\n",
              "3660  2018.0  15395.0   150.0  60.1         1.0\n",
              "4536  2016.0  10618.0    30.0  55.4         1.2\n",
              "3859  2017.0  30067.0   145.0  44.8         1.6\n",
              "23    2016.0   7447.0    30.0  57.6         1.2\n",
              "1896  2018.0  29890.0   145.0  39.8         1.6\n",
              "...      ...      ...     ...   ...         ...\n",
              "2565  2019.0   3000.0   145.0  49.6         1.0\n",
              "2098  2016.0  11000.0   145.0  47.9         1.2\n",
              "2032  2018.0  33026.0   145.0  57.7         1.7\n",
              "2186  2019.0   9616.0   145.0  36.2         1.6\n",
              "2743  2015.0  54076.0   165.0  51.4         2.0\n",
              "\n",
              "[924 rows x 5 columns]"
            ]
          },
          "metadata": {
            "tags": []
          },
          "execution_count": 207
        }
      ]
    },
    {
      "cell_type": "markdown",
      "metadata": {
        "id": "K_o1Lw8xV4tX"
      },
      "source": [
        "Covertendo as bases para o formato *csv*."
      ]
    },
    {
      "cell_type": "code",
      "metadata": {
        "id": "4J34GdNJLcRC"
      },
      "source": [
        "treino.to_csv('treino.csv', index=False)\n",
        "teste.to_csv('teste.csv',index=False)"
      ],
      "execution_count": 208,
      "outputs": []
    },
    {
      "cell_type": "markdown",
      "metadata": {
        "id": "S8XKL48N6DwA"
      },
      "source": [
        "## Modelagem com *MLBOX*"
      ]
    },
    {
      "cell_type": "markdown",
      "metadata": {
        "id": "FM1j5EelWczU"
      },
      "source": [
        "Definindo o *path* para ser usado na biblioteca."
      ]
    },
    {
      "cell_type": "code",
      "metadata": {
        "id": "FKGF-fz8POZW"
      },
      "source": [
        "dados = ['treino.csv','teste.csv']\n",
        "alvo = 'price'"
      ],
      "execution_count": 209,
      "outputs": []
    },
    {
      "cell_type": "markdown",
      "metadata": {
        "id": "c7Yey3roWjiI"
      },
      "source": [
        "Realizando o *train_test_split* dos dados."
      ]
    },
    {
      "cell_type": "code",
      "metadata": {
        "id": "RhHCDTMB14ex",
        "colab": {
          "base_uri": "https://localhost:8080/"
        },
        "outputId": "3799c9b8-65ec-41a4-c8ac-162962af6503"
      },
      "source": [
        "carro_df=Reader(sep=\",\",to_path = 'save', verbose = True).train_test_split(dados,alvo)"
      ],
      "execution_count": 210,
      "outputs": [
        {
          "output_type": "stream",
          "text": [
            "\n",
            "reading csv : treino.csv ...\n",
            "cleaning data ...\n",
            "CPU time: 4.740772247314453 seconds\n",
            "\n",
            "reading csv : teste.csv ...\n",
            "cleaning data ...\n",
            "CPU time: 0.038465023040771484 seconds\n",
            "\n",
            "> Number of common features : 5\n",
            "\n",
            "gathering and crunching for train and test datasets ...\n",
            "reindexing for train and test datasets ...\n",
            "dropping training duplicates ...\n",
            "dropping constant variables on training set ...\n",
            "\n",
            "> Number of categorical features: 0\n",
            "> Number of numerical features: 5\n",
            "> Number of training samples : 3640\n",
            "> Number of test samples : 924\n",
            "\n",
            "> You have no missing values on train set...\n",
            "\n",
            "> Task : regression\n",
            "count     3640.000000\n",
            "mean     12352.264011\n",
            "std       4914.350770\n",
            "min       1295.000000\n",
            "25%       8000.000000\n",
            "50%      11980.000000\n",
            "75%      15498.000000\n",
            "max      26999.000000\n",
            "Name: price, dtype: float64\n"
          ],
          "name": "stdout"
        }
      ]
    },
    {
      "cell_type": "markdown",
      "metadata": {
        "id": "k3-j89SLaEsp"
      },
      "source": [
        "Objeto criado."
      ]
    },
    {
      "cell_type": "code",
      "metadata": {
        "id": "0dyXwAuG14hj",
        "colab": {
          "base_uri": "https://localhost:8080/"
        },
        "outputId": "139517a9-8213-4fb5-8b8d-14ff076153ac"
      },
      "source": [
        "carro_df"
      ],
      "execution_count": 211,
      "outputs": [
        {
          "output_type": "execute_result",
          "data": {
            "text/plain": [
              "{'target': 0        7281.0\n",
              " 1        7995.0\n",
              " 2       13995.0\n",
              " 3       12998.0\n",
              " 4       17490.0\n",
              "          ...   \n",
              " 3689    13700.0\n",
              " 3690    12998.0\n",
              " 3691     7495.0\n",
              " 3692    15739.0\n",
              " 3693     6610.0\n",
              " Name: price, Length: 3640, dtype: float64,\n",
              " 'test':      engineSize  mileage   mpg  tax(£)    year\n",
              " 0           1.0  15395.0  60.1   150.0  2018.0\n",
              " 1           1.2  10618.0  55.4    30.0  2016.0\n",
              " 2           1.6  30067.0  44.8   145.0  2017.0\n",
              " 3           1.2   7447.0  57.6    30.0  2016.0\n",
              " 4           1.6  29890.0  39.8   145.0  2018.0\n",
              " ..          ...      ...   ...     ...     ...\n",
              " 919         1.0   3000.0  49.6   145.0  2019.0\n",
              " 920         1.2  11000.0  47.9   145.0  2016.0\n",
              " 921         1.7  33026.0  57.7   145.0  2018.0\n",
              " 922         1.6   9616.0  36.2   145.0  2019.0\n",
              " 923         2.0  54076.0  51.4   165.0  2015.0\n",
              " \n",
              " [924 rows x 5 columns],\n",
              " 'train':       engineSize  mileage   mpg  tax(£)    year\n",
              " 0            1.0  14985.0  60.1   145.0  2018.0\n",
              " 1            1.0  49081.0  62.8    20.0  2017.0\n",
              " 2            1.6  30000.0  74.3   145.0  2017.0\n",
              " 3            1.0  19001.0  52.3   145.0  2018.0\n",
              " 4            2.2  55000.0  42.8   235.0  2016.0\n",
              " ...          ...      ...   ...     ...     ...\n",
              " 3689         1.6  25637.0  35.3   150.0  2018.0\n",
              " 3690         1.7  23793.0  61.7    30.0  2016.0\n",
              " 3691         1.0  26799.0  60.1   145.0  2018.0\n",
              " 3692         2.2  25976.0  41.5   260.0  2013.0\n",
              " 3693         1.0  14010.0  60.1    20.0  2017.0\n",
              " \n",
              " [3640 rows x 5 columns]}"
            ]
          },
          "metadata": {
            "tags": []
          },
          "execution_count": 211
        }
      ]
    },
    {
      "cell_type": "markdown",
      "metadata": {
        "id": "zy5EKZvPaJWT"
      },
      "source": [
        "Reaizando o pré-processamento."
      ]
    },
    {
      "cell_type": "code",
      "metadata": {
        "id": "chfg_IUO14jj",
        "colab": {
          "base_uri": "https://localhost:8080/"
        },
        "outputId": "961946e1-21c7-460d-fcb8-3ba1c52b5588"
      },
      "source": [
        "carro_df = Drift_thresholder().fit_transform(carro_df)"
      ],
      "execution_count": 212,
      "outputs": [
        {
          "output_type": "stream",
          "text": [
            "\n",
            "computing drifts ...\n",
            "CPU time: 0.13710713386535645 seconds\n",
            "\n",
            "> Top 10 drifts\n",
            "\n",
            "('engineSize', 0.048441439512868056)\n",
            "('year', 0.0424325674325674)\n",
            "('tax(£)', 0.017189358260786936)\n",
            "('mpg', 0.012973336187621864)\n",
            "('mileage', 0.0061723990295419195)\n",
            "\n",
            "> Deleted variables : []\n",
            "> Drift coefficients dumped into directory : save\n"
          ],
          "name": "stdout"
        }
      ]
    },
    {
      "cell_type": "markdown",
      "metadata": {
        "id": "R6VNV0PcXEy8"
      },
      "source": [
        "Otimização do modelo.\n",
        "\n",
        "Abaixo é uma otimização de modelo sem a inserção de parâmetros."
      ]
    },
    {
      "cell_type": "code",
      "metadata": {
        "colab": {
          "base_uri": "https://localhost:8080/"
        },
        "id": "NA_8_p1tdSPh",
        "outputId": "96165a22-3dfb-403d-8815-a167470df4ed"
      },
      "source": [
        "Optimiser().evaluate(None, carro_df)"
      ],
      "execution_count": 213,
      "outputs": [
        {
          "output_type": "stream",
          "text": [
            "/usr/local/lib/python3.7/dist-packages/mlbox/optimisation/optimiser.py:74: UserWarning: Optimiser will save all your fitted models into directory 'save/joblib'. Please clear it regularly.\n",
            "  +str(self.to_path)+\"/joblib'. Please clear it regularly.\")\n"
          ],
          "name": "stderr"
        },
        {
          "output_type": "stream",
          "text": [
            "No parameters set. Default configuration is tested\n",
            "\n",
            "##################################################### testing hyper-parameters... #####################################################\n",
            "\n",
            ">>> NA ENCODER :{'numerical_strategy': 'mean', 'categorical_strategy': '<NULL>'}\n",
            "\n",
            ">>> CA ENCODER :{'strategy': 'label_encoding'}\n",
            "\n",
            ">>> ESTIMATOR :{'strategy': 'LightGBM', 'boosting_type': 'gbdt', 'class_weight': None, 'colsample_bytree': 0.8, 'importance_type': 'split', 'learning_rate': 0.05, 'max_depth': -1, 'min_child_samples': 20, 'min_child_weight': 0.001, 'min_split_gain': 0.0, 'n_estimators': 500, 'n_jobs': -1, 'num_leaves': 31, 'objective': None, 'random_state': None, 'reg_alpha': 0.0, 'reg_lambda': 0.0, 'silent': True, 'subsample': 0.9, 'subsample_for_bin': 200000, 'subsample_freq': 0, 'nthread': -1, 'seed': 0}\n",
            "\n",
            "\n",
            "MEAN SCORE : neg_mean_squared_error = -1658835.0932478365\n",
            "VARIANCE : 5772.845811283332 (fold 1 = -1653062.2474365532, fold 2 = -1664607.93905912)\n",
            "CPU time: 1.0483653545379639 seconds\n",
            "\n"
          ],
          "name": "stdout"
        },
        {
          "output_type": "execute_result",
          "data": {
            "text/plain": [
              "-1658835.0932478365"
            ]
          },
          "metadata": {
            "tags": []
          },
          "execution_count": 213
        }
      ]
    },
    {
      "cell_type": "markdown",
      "metadata": {
        "id": "V26nipzaXYrK"
      },
      "source": [
        "Definindo parâmetros."
      ]
    },
    {
      "cell_type": "code",
      "metadata": {
        "id": "wzIVyx6FRxVF"
      },
      "source": [
        "parametros = {\n",
        "\n",
        "        'ne__numerical_strategy' : {\"space\" : [0, 'mean']},\n",
        "\n",
        "        #'ce__strategy' : [\"label_encoding\", \"random_projection\", \"entity_embedding\"],\n",
        "\n",
        "        'fs__strategy' : {\"space\" : [\"variance\", \"rf_feature_importance\"]},\n",
        "        'fs__threshold': {\"search\" : \"choice\", \"space\" : [0.1, 0.2, 0.3]},\n",
        "\n",
        "        'est__strategy' : {\"space\" : [\"LightGBM\"]},\n",
        "        'est__max_depth' : {\"search\" : \"choice\", \"space\" : [5,6]},\n",
        "        'est__subsample' : {\"search\" : \"uniform\", \"space\" : [0.6,0.9]}\n",
        "\n",
        "        }"
      ],
      "execution_count": 214,
      "outputs": []
    },
    {
      "cell_type": "markdown",
      "metadata": {
        "id": "3_bCCiMiXeWZ"
      },
      "source": [
        "Escolhendo os melhores parâmetros para o modelo."
      ]
    },
    {
      "cell_type": "code",
      "metadata": {
        "colab": {
          "base_uri": "https://localhost:8080/"
        },
        "id": "HTF99r-cRgro",
        "outputId": "5f81e556-92db-4f29-8a13-32997f16efc4"
      },
      "source": [
        "melhores_parametros = Optimiser().optimise(parametros, carro_df)"
      ],
      "execution_count": 215,
      "outputs": [
        {
          "output_type": "stream",
          "text": [
            "##################################################### testing hyper-parameters... #####################################################\n",
            ">>> NA ENCODER :{'numerical_strategy': 'mean', 'categorical_strategy': '<NULL>'}\n",
            ">>> CA ENCODER :{'strategy': 'label_encoding'}\n",
            ">>> FEATURE SELECTOR :{'strategy': 'rf_feature_importance', 'threshold': 0.1}\n",
            ">>> ESTIMATOR :{'strategy': 'LightGBM', 'max_depth': 6, 'subsample': 0.7730973094809753, 'boosting_type': 'gbdt', 'class_weight': None, 'colsample_bytree': 0.8, 'importance_type': 'split', 'learning_rate': 0.05, 'min_child_samples': 20, 'min_child_weight': 0.001, 'min_split_gain': 0.0, 'n_estimators': 500, 'n_jobs': -1, 'num_leaves': 31, 'objective': None, 'random_state': None, 'reg_alpha': 0.0, 'reg_lambda': 0.0, 'silent': True, 'subsample_for_bin': 200000, 'subsample_freq': 0, 'nthread': -1, 'seed': 0}\n",
            "  0%|          | 0/40 [00:00<?, ?trial/s, best loss=?]"
          ],
          "name": "stdout"
        },
        {
          "output_type": "stream",
          "text": [
            "/usr/local/lib/python3.7/dist-packages/mlbox/optimisation/optimiser.py:74: UserWarning: Optimiser will save all your fitted models into directory 'save/joblib'. Please clear it regularly.\n",
            "  +str(self.to_path)+\"/joblib'. Please clear it regularly.\")\n"
          ],
          "name": "stderr"
        },
        {
          "output_type": "stream",
          "text": [
            "MEAN SCORE : neg_mean_squared_error = -1671854.563974319\n",
            "VARIANCE : 52588.14096095157 (fold 1 = -1619266.4230133675, fold 2 = -1724442.7049352706)\n",
            "CPU time: 1.4623510837554932 seconds\n",
            "##################################################### testing hyper-parameters... #####################################################\n",
            ">>> NA ENCODER :{'numerical_strategy': 0, 'categorical_strategy': '<NULL>'}\n",
            ">>> CA ENCODER :{'strategy': 'label_encoding'}\n",
            ">>> FEATURE SELECTOR :{'strategy': 'rf_feature_importance', 'threshold': 0.3}\n",
            ">>> ESTIMATOR :{'strategy': 'LightGBM', 'max_depth': 6, 'subsample': 0.7867277380394324, 'boosting_type': 'gbdt', 'class_weight': None, 'colsample_bytree': 0.8, 'importance_type': 'split', 'learning_rate': 0.05, 'min_child_samples': 20, 'min_child_weight': 0.001, 'min_split_gain': 0.0, 'n_estimators': 500, 'n_jobs': -1, 'num_leaves': 31, 'objective': None, 'random_state': None, 'reg_alpha': 0.0, 'reg_lambda': 0.0, 'silent': True, 'subsample_for_bin': 200000, 'subsample_freq': 0, 'nthread': -1, 'seed': 0}\n",
            "MEAN SCORE : neg_mean_squared_error = -1922794.2593678301\n",
            "VARIANCE : 11100.352918776334 (fold 1 = -1911693.906449054, fold 2 = -1933894.6122866066)\n",
            "CPU time: 1.3315761089324951 seconds\n",
            "##################################################### testing hyper-parameters... #####################################################\n",
            ">>> NA ENCODER :{'numerical_strategy': 0, 'categorical_strategy': '<NULL>'}\n",
            ">>> CA ENCODER :{'strategy': 'label_encoding'}\n",
            ">>> FEATURE SELECTOR :{'strategy': 'variance', 'threshold': 0.2}\n",
            ">>> ESTIMATOR :{'strategy': 'LightGBM', 'max_depth': 5, 'subsample': 0.70374092902205, 'boosting_type': 'gbdt', 'class_weight': None, 'colsample_bytree': 0.8, 'importance_type': 'split', 'learning_rate': 0.05, 'min_child_samples': 20, 'min_child_weight': 0.001, 'min_split_gain': 0.0, 'n_estimators': 500, 'n_jobs': -1, 'num_leaves': 31, 'objective': None, 'random_state': None, 'reg_alpha': 0.0, 'reg_lambda': 0.0, 'silent': True, 'subsample_for_bin': 200000, 'subsample_freq': 0, 'nthread': -1, 'seed': 0}\n",
            "MEAN SCORE : neg_mean_squared_error = -3660523.4893270284\n",
            "VARIANCE : 177951.81818322302 (fold 1 = -3838475.307510251, fold 2 = -3482571.671143805)\n",
            "CPU time: 0.5447685718536377 seconds\n",
            "##################################################### testing hyper-parameters... #####################################################\n",
            ">>> NA ENCODER :{'numerical_strategy': 0, 'categorical_strategy': '<NULL>'}\n",
            ">>> CA ENCODER :{'strategy': 'label_encoding'}\n",
            ">>> FEATURE SELECTOR :{'strategy': 'variance', 'threshold': 0.1}\n",
            ">>> ESTIMATOR :{'strategy': 'LightGBM', 'max_depth': 5, 'subsample': 0.8043026400359505, 'boosting_type': 'gbdt', 'class_weight': None, 'colsample_bytree': 0.8, 'importance_type': 'split', 'learning_rate': 0.05, 'min_child_samples': 20, 'min_child_weight': 0.001, 'min_split_gain': 0.0, 'n_estimators': 500, 'n_jobs': -1, 'num_leaves': 31, 'objective': None, 'random_state': None, 'reg_alpha': 0.0, 'reg_lambda': 0.0, 'silent': True, 'subsample_for_bin': 200000, 'subsample_freq': 0, 'nthread': -1, 'seed': 0}\n",
            "MEAN SCORE : neg_mean_squared_error = -3660523.4893270284\n",
            "VARIANCE : 177951.81818322302 (fold 1 = -3838475.307510251, fold 2 = -3482571.671143805)\n",
            "CPU time: 0.5382163524627686 seconds\n",
            "##################################################### testing hyper-parameters... #####################################################\n",
            ">>> NA ENCODER :{'numerical_strategy': 'mean', 'categorical_strategy': '<NULL>'}\n",
            ">>> CA ENCODER :{'strategy': 'label_encoding'}\n",
            ">>> FEATURE SELECTOR :{'strategy': 'rf_feature_importance', 'threshold': 0.1}\n",
            ">>> ESTIMATOR :{'strategy': 'LightGBM', 'max_depth': 5, 'subsample': 0.6597765814150229, 'boosting_type': 'gbdt', 'class_weight': None, 'colsample_bytree': 0.8, 'importance_type': 'split', 'learning_rate': 0.05, 'min_child_samples': 20, 'min_child_weight': 0.001, 'min_split_gain': 0.0, 'n_estimators': 500, 'n_jobs': -1, 'num_leaves': 31, 'objective': None, 'random_state': None, 'reg_alpha': 0.0, 'reg_lambda': 0.0, 'silent': True, 'subsample_for_bin': 200000, 'subsample_freq': 0, 'nthread': -1, 'seed': 0}\n",
            "MEAN SCORE : neg_mean_squared_error = -1676912.2731965724\n",
            "VARIANCE : 50269.07466453186 (fold 1 = -1626643.1985320405, fold 2 = -1727181.3478611042)\n",
            "CPU time: 0.5954689979553223 seconds\n",
            "##################################################### testing hyper-parameters... #####################################################\n",
            ">>> NA ENCODER :{'numerical_strategy': 0, 'categorical_strategy': '<NULL>'}\n",
            ">>> CA ENCODER :{'strategy': 'label_encoding'}\n",
            ">>> FEATURE SELECTOR :{'strategy': 'rf_feature_importance', 'threshold': 0.2}\n",
            ">>> ESTIMATOR :{'strategy': 'LightGBM', 'max_depth': 6, 'subsample': 0.8822152572115376, 'boosting_type': 'gbdt', 'class_weight': None, 'colsample_bytree': 0.8, 'importance_type': 'split', 'learning_rate': 0.05, 'min_child_samples': 20, 'min_child_weight': 0.001, 'min_split_gain': 0.0, 'n_estimators': 500, 'n_jobs': -1, 'num_leaves': 31, 'objective': None, 'random_state': None, 'reg_alpha': 0.0, 'reg_lambda': 0.0, 'silent': True, 'subsample_for_bin': 200000, 'subsample_freq': 0, 'nthread': -1, 'seed': 0}\n",
            "MEAN SCORE : neg_mean_squared_error = -1671854.563974319\n",
            "VARIANCE : 52588.14096095157 (fold 1 = -1619266.4230133675, fold 2 = -1724442.7049352706)\n",
            "CPU time: 1.3319401741027832 seconds\n",
            "##################################################### testing hyper-parameters... #####################################################\n",
            ">>> NA ENCODER :{'numerical_strategy': 0, 'categorical_strategy': '<NULL>'}\n",
            ">>> CA ENCODER :{'strategy': 'label_encoding'}\n",
            ">>> FEATURE SELECTOR :{'strategy': 'rf_feature_importance', 'threshold': 0.3}\n",
            ">>> ESTIMATOR :{'strategy': 'LightGBM', 'max_depth': 5, 'subsample': 0.6746066966224532, 'boosting_type': 'gbdt', 'class_weight': None, 'colsample_bytree': 0.8, 'importance_type': 'split', 'learning_rate': 0.05, 'min_child_samples': 20, 'min_child_weight': 0.001, 'min_split_gain': 0.0, 'n_estimators': 500, 'n_jobs': -1, 'num_leaves': 31, 'objective': None, 'random_state': None, 'reg_alpha': 0.0, 'reg_lambda': 0.0, 'silent': True, 'subsample_for_bin': 200000, 'subsample_freq': 0, 'nthread': -1, 'seed': 0}\n",
            "MEAN SCORE : neg_mean_squared_error = -1992372.41701097\n",
            "VARIANCE : 16627.418607996427 (fold 1 = -2008999.8356189665, fold 2 = -1975744.9984029736)\n",
            "CPU time: 0.5418393611907959 seconds\n",
            "##################################################### testing hyper-parameters... #####################################################\n",
            ">>> NA ENCODER :{'numerical_strategy': 'mean', 'categorical_strategy': '<NULL>'}\n",
            ">>> CA ENCODER :{'strategy': 'label_encoding'}\n",
            ">>> FEATURE SELECTOR :{'strategy': 'variance', 'threshold': 0.1}\n",
            ">>> ESTIMATOR :{'strategy': 'LightGBM', 'max_depth': 5, 'subsample': 0.6144912132717079, 'boosting_type': 'gbdt', 'class_weight': None, 'colsample_bytree': 0.8, 'importance_type': 'split', 'learning_rate': 0.05, 'min_child_samples': 20, 'min_child_weight': 0.001, 'min_split_gain': 0.0, 'n_estimators': 500, 'n_jobs': -1, 'num_leaves': 31, 'objective': None, 'random_state': None, 'reg_alpha': 0.0, 'reg_lambda': 0.0, 'silent': True, 'subsample_for_bin': 200000, 'subsample_freq': 0, 'nthread': -1, 'seed': 0}\n",
            "MEAN SCORE : neg_mean_squared_error = -3660523.4893270284\n",
            "VARIANCE : 177951.81818322302 (fold 1 = -3838475.307510251, fold 2 = -3482571.671143805)\n",
            "CPU time: 0.5758767127990723 seconds\n",
            "##################################################### testing hyper-parameters... #####################################################\n",
            ">>> NA ENCODER :{'numerical_strategy': 0, 'categorical_strategy': '<NULL>'}\n",
            ">>> CA ENCODER :{'strategy': 'label_encoding'}\n",
            ">>> FEATURE SELECTOR :{'strategy': 'rf_feature_importance', 'threshold': 0.2}\n",
            ">>> ESTIMATOR :{'strategy': 'LightGBM', 'max_depth': 5, 'subsample': 0.8256685797825067, 'boosting_type': 'gbdt', 'class_weight': None, 'colsample_bytree': 0.8, 'importance_type': 'split', 'learning_rate': 0.05, 'min_child_samples': 20, 'min_child_weight': 0.001, 'min_split_gain': 0.0, 'n_estimators': 500, 'n_jobs': -1, 'num_leaves': 31, 'objective': None, 'random_state': None, 'reg_alpha': 0.0, 'reg_lambda': 0.0, 'silent': True, 'subsample_for_bin': 200000, 'subsample_freq': 0, 'nthread': -1, 'seed': 0}\n",
            "MEAN SCORE : neg_mean_squared_error = -1676912.2731965724\n",
            "VARIANCE : 50269.07466453186 (fold 1 = -1626643.1985320405, fold 2 = -1727181.3478611042)\n",
            "CPU time: 0.6449177265167236 seconds\n",
            "##################################################### testing hyper-parameters... #####################################################\n",
            ">>> NA ENCODER :{'numerical_strategy': 0, 'categorical_strategy': '<NULL>'}\n",
            ">>> CA ENCODER :{'strategy': 'label_encoding'}\n",
            ">>> FEATURE SELECTOR :{'strategy': 'variance', 'threshold': 0.3}\n",
            ">>> ESTIMATOR :{'strategy': 'LightGBM', 'max_depth': 6, 'subsample': 0.6632024397732059, 'boosting_type': 'gbdt', 'class_weight': None, 'colsample_bytree': 0.8, 'importance_type': 'split', 'learning_rate': 0.05, 'min_child_samples': 20, 'min_child_weight': 0.001, 'min_split_gain': 0.0, 'n_estimators': 500, 'n_jobs': -1, 'num_leaves': 31, 'objective': None, 'random_state': None, 'reg_alpha': 0.0, 'reg_lambda': 0.0, 'silent': True, 'subsample_for_bin': 200000, 'subsample_freq': 0, 'nthread': -1, 'seed': 0}\n",
            "MEAN SCORE : neg_mean_squared_error = -4981617.637306654\n",
            "VARIANCE : 148676.64876769297 (fold 1 = -5130294.286074347, fold 2 = -4832940.988538961)\n",
            "CPU time: 0.6660449504852295 seconds\n",
            "##################################################### testing hyper-parameters... #####################################################\n",
            ">>> NA ENCODER :{'numerical_strategy': 0, 'categorical_strategy': '<NULL>'}\n",
            ">>> CA ENCODER :{'strategy': 'label_encoding'}\n",
            ">>> FEATURE SELECTOR :{'strategy': 'variance', 'threshold': 0.1}\n",
            ">>> ESTIMATOR :{'strategy': 'LightGBM', 'max_depth': 5, 'subsample': 0.6489612371170722, 'boosting_type': 'gbdt', 'class_weight': None, 'colsample_bytree': 0.8, 'importance_type': 'split', 'learning_rate': 0.05, 'min_child_samples': 20, 'min_child_weight': 0.001, 'min_split_gain': 0.0, 'n_estimators': 500, 'n_jobs': -1, 'num_leaves': 31, 'objective': None, 'random_state': None, 'reg_alpha': 0.0, 'reg_lambda': 0.0, 'silent': True, 'subsample_for_bin': 200000, 'subsample_freq': 0, 'nthread': -1, 'seed': 0}\n",
            "MEAN SCORE : neg_mean_squared_error = -3660523.4893270284\n",
            "VARIANCE : 177951.81818322302 (fold 1 = -3838475.307510251, fold 2 = -3482571.671143805)\n",
            "CPU time: 0.5634279251098633 seconds\n",
            "##################################################### testing hyper-parameters... #####################################################\n",
            ">>> NA ENCODER :{'numerical_strategy': 0, 'categorical_strategy': '<NULL>'}\n",
            ">>> CA ENCODER :{'strategy': 'label_encoding'}\n",
            ">>> FEATURE SELECTOR :{'strategy': 'variance', 'threshold': 0.2}\n",
            ">>> ESTIMATOR :{'strategy': 'LightGBM', 'max_depth': 5, 'subsample': 0.8264299249762802, 'boosting_type': 'gbdt', 'class_weight': None, 'colsample_bytree': 0.8, 'importance_type': 'split', 'learning_rate': 0.05, 'min_child_samples': 20, 'min_child_weight': 0.001, 'min_split_gain': 0.0, 'n_estimators': 500, 'n_jobs': -1, 'num_leaves': 31, 'objective': None, 'random_state': None, 'reg_alpha': 0.0, 'reg_lambda': 0.0, 'silent': True, 'subsample_for_bin': 200000, 'subsample_freq': 0, 'nthread': -1, 'seed': 0}\n",
            "MEAN SCORE : neg_mean_squared_error = -3660523.4893270284\n",
            "VARIANCE : 177951.81818322302 (fold 1 = -3838475.307510251, fold 2 = -3482571.671143805)\n",
            "CPU time: 0.5893113613128662 seconds\n",
            "##################################################### testing hyper-parameters... #####################################################\n",
            ">>> NA ENCODER :{'numerical_strategy': 0, 'categorical_strategy': '<NULL>'}\n",
            ">>> CA ENCODER :{'strategy': 'label_encoding'}\n",
            ">>> FEATURE SELECTOR :{'strategy': 'rf_feature_importance', 'threshold': 0.1}\n",
            ">>> ESTIMATOR :{'strategy': 'LightGBM', 'max_depth': 6, 'subsample': 0.8012434736749501, 'boosting_type': 'gbdt', 'class_weight': None, 'colsample_bytree': 0.8, 'importance_type': 'split', 'learning_rate': 0.05, 'min_child_samples': 20, 'min_child_weight': 0.001, 'min_split_gain': 0.0, 'n_estimators': 500, 'n_jobs': -1, 'num_leaves': 31, 'objective': None, 'random_state': None, 'reg_alpha': 0.0, 'reg_lambda': 0.0, 'silent': True, 'subsample_for_bin': 200000, 'subsample_freq': 0, 'nthread': -1, 'seed': 0}\n",
            "MEAN SCORE : neg_mean_squared_error = -1671854.563974319\n",
            "VARIANCE : 52588.14096095157 (fold 1 = -1619266.4230133675, fold 2 = -1724442.7049352706)\n",
            "CPU time: 0.6960024833679199 seconds\n",
            "##################################################### testing hyper-parameters... #####################################################\n",
            ">>> NA ENCODER :{'numerical_strategy': 'mean', 'categorical_strategy': '<NULL>'}\n",
            ">>> CA ENCODER :{'strategy': 'label_encoding'}\n",
            ">>> FEATURE SELECTOR :{'strategy': 'variance', 'threshold': 0.1}\n",
            ">>> ESTIMATOR :{'strategy': 'LightGBM', 'max_depth': 6, 'subsample': 0.8860994332955383, 'boosting_type': 'gbdt', 'class_weight': None, 'colsample_bytree': 0.8, 'importance_type': 'split', 'learning_rate': 0.05, 'min_child_samples': 20, 'min_child_weight': 0.001, 'min_split_gain': 0.0, 'n_estimators': 500, 'n_jobs': -1, 'num_leaves': 31, 'objective': None, 'random_state': None, 'reg_alpha': 0.0, 'reg_lambda': 0.0, 'silent': True, 'subsample_for_bin': 200000, 'subsample_freq': 0, 'nthread': -1, 'seed': 0}\n",
            "MEAN SCORE : neg_mean_squared_error = -3582564.3554957653\n",
            "VARIANCE : 163000.1724337251 (fold 1 = -3745564.5279294904, fold 2 = -3419564.1830620402)\n",
            "CPU time: 0.6766023635864258 seconds\n",
            "##################################################### testing hyper-parameters... #####################################################\n",
            ">>> NA ENCODER :{'numerical_strategy': 'mean', 'categorical_strategy': '<NULL>'}\n",
            ">>> CA ENCODER :{'strategy': 'label_encoding'}\n",
            ">>> FEATURE SELECTOR :{'strategy': 'rf_feature_importance', 'threshold': 0.3}\n",
            ">>> ESTIMATOR :{'strategy': 'LightGBM', 'max_depth': 5, 'subsample': 0.8470101098604144, 'boosting_type': 'gbdt', 'class_weight': None, 'colsample_bytree': 0.8, 'importance_type': 'split', 'learning_rate': 0.05, 'min_child_samples': 20, 'min_child_weight': 0.001, 'min_split_gain': 0.0, 'n_estimators': 500, 'n_jobs': -1, 'num_leaves': 31, 'objective': None, 'random_state': None, 'reg_alpha': 0.0, 'reg_lambda': 0.0, 'silent': True, 'subsample_for_bin': 200000, 'subsample_freq': 0, 'nthread': -1, 'seed': 0}\n",
            "MEAN SCORE : neg_mean_squared_error = -1992372.41701097\n",
            "VARIANCE : 16627.418607996427 (fold 1 = -2008999.8356189665, fold 2 = -1975744.9984029736)\n",
            "CPU time: 0.5216410160064697 seconds\n",
            "##################################################### testing hyper-parameters... #####################################################\n",
            ">>> NA ENCODER :{'numerical_strategy': 'mean', 'categorical_strategy': '<NULL>'}\n",
            ">>> CA ENCODER :{'strategy': 'label_encoding'}\n",
            ">>> FEATURE SELECTOR :{'strategy': 'variance', 'threshold': 0.2}\n",
            ">>> ESTIMATOR :{'strategy': 'LightGBM', 'max_depth': 6, 'subsample': 0.8007304764450202, 'boosting_type': 'gbdt', 'class_weight': None, 'colsample_bytree': 0.8, 'importance_type': 'split', 'learning_rate': 0.05, 'min_child_samples': 20, 'min_child_weight': 0.001, 'min_split_gain': 0.0, 'n_estimators': 500, 'n_jobs': -1, 'num_leaves': 31, 'objective': None, 'random_state': None, 'reg_alpha': 0.0, 'reg_lambda': 0.0, 'silent': True, 'subsample_for_bin': 200000, 'subsample_freq': 0, 'nthread': -1, 'seed': 0}\n",
            "MEAN SCORE : neg_mean_squared_error = -3582564.3554957653\n",
            "VARIANCE : 163000.1724337251 (fold 1 = -3745564.5279294904, fold 2 = -3419564.1830620402)\n",
            "CPU time: 0.6900851726531982 seconds\n",
            "##################################################### testing hyper-parameters... #####################################################\n",
            ">>> NA ENCODER :{'numerical_strategy': 0, 'categorical_strategy': '<NULL>'}\n",
            ">>> CA ENCODER :{'strategy': 'label_encoding'}\n",
            ">>> FEATURE SELECTOR :{'strategy': 'variance', 'threshold': 0.2}\n",
            ">>> ESTIMATOR :{'strategy': 'LightGBM', 'max_depth': 6, 'subsample': 0.786260742013831, 'boosting_type': 'gbdt', 'class_weight': None, 'colsample_bytree': 0.8, 'importance_type': 'split', 'learning_rate': 0.05, 'min_child_samples': 20, 'min_child_weight': 0.001, 'min_split_gain': 0.0, 'n_estimators': 500, 'n_jobs': -1, 'num_leaves': 31, 'objective': None, 'random_state': None, 'reg_alpha': 0.0, 'reg_lambda': 0.0, 'silent': True, 'subsample_for_bin': 200000, 'subsample_freq': 0, 'nthread': -1, 'seed': 0}\n",
            "MEAN SCORE : neg_mean_squared_error = -3582564.3554957653\n",
            "VARIANCE : 163000.1724337251 (fold 1 = -3745564.5279294904, fold 2 = -3419564.1830620402)\n",
            "CPU time: 0.6197547912597656 seconds\n",
            "##################################################### testing hyper-parameters... #####################################################\n",
            ">>> NA ENCODER :{'numerical_strategy': 'mean', 'categorical_strategy': '<NULL>'}\n",
            ">>> CA ENCODER :{'strategy': 'label_encoding'}\n",
            ">>> FEATURE SELECTOR :{'strategy': 'variance', 'threshold': 0.3}\n",
            ">>> ESTIMATOR :{'strategy': 'LightGBM', 'max_depth': 6, 'subsample': 0.7572527001938664, 'boosting_type': 'gbdt', 'class_weight': None, 'colsample_bytree': 0.8, 'importance_type': 'split', 'learning_rate': 0.05, 'min_child_samples': 20, 'min_child_weight': 0.001, 'min_split_gain': 0.0, 'n_estimators': 500, 'n_jobs': -1, 'num_leaves': 31, 'objective': None, 'random_state': None, 'reg_alpha': 0.0, 'reg_lambda': 0.0, 'silent': True, 'subsample_for_bin': 200000, 'subsample_freq': 0, 'nthread': -1, 'seed': 0}\n",
            "MEAN SCORE : neg_mean_squared_error = -4981617.637306654\n",
            "VARIANCE : 148676.64876769297 (fold 1 = -5130294.286074347, fold 2 = -4832940.988538961)\n",
            "CPU time: 0.6538069248199463 seconds\n",
            "##################################################### testing hyper-parameters... #####################################################\n",
            ">>> NA ENCODER :{'numerical_strategy': 'mean', 'categorical_strategy': '<NULL>'}\n",
            ">>> CA ENCODER :{'strategy': 'label_encoding'}\n",
            ">>> FEATURE SELECTOR :{'strategy': 'variance', 'threshold': 0.3}\n",
            ">>> ESTIMATOR :{'strategy': 'LightGBM', 'max_depth': 6, 'subsample': 0.8493138032704257, 'boosting_type': 'gbdt', 'class_weight': None, 'colsample_bytree': 0.8, 'importance_type': 'split', 'learning_rate': 0.05, 'min_child_samples': 20, 'min_child_weight': 0.001, 'min_split_gain': 0.0, 'n_estimators': 500, 'n_jobs': -1, 'num_leaves': 31, 'objective': None, 'random_state': None, 'reg_alpha': 0.0, 'reg_lambda': 0.0, 'silent': True, 'subsample_for_bin': 200000, 'subsample_freq': 0, 'nthread': -1, 'seed': 0}\n",
            "MEAN SCORE : neg_mean_squared_error = -4981617.637306654\n",
            "VARIANCE : 148676.64876769297 (fold 1 = -5130294.286074347, fold 2 = -4832940.988538961)\n",
            "CPU time: 0.656998872756958 seconds\n",
            "##################################################### testing hyper-parameters... #####################################################\n",
            ">>> NA ENCODER :{'numerical_strategy': 'mean', 'categorical_strategy': '<NULL>'}\n",
            ">>> CA ENCODER :{'strategy': 'label_encoding'}\n",
            ">>> FEATURE SELECTOR :{'strategy': 'variance', 'threshold': 0.2}\n",
            ">>> ESTIMATOR :{'strategy': 'LightGBM', 'max_depth': 6, 'subsample': 0.7051102830980643, 'boosting_type': 'gbdt', 'class_weight': None, 'colsample_bytree': 0.8, 'importance_type': 'split', 'learning_rate': 0.05, 'min_child_samples': 20, 'min_child_weight': 0.001, 'min_split_gain': 0.0, 'n_estimators': 500, 'n_jobs': -1, 'num_leaves': 31, 'objective': None, 'random_state': None, 'reg_alpha': 0.0, 'reg_lambda': 0.0, 'silent': True, 'subsample_for_bin': 200000, 'subsample_freq': 0, 'nthread': -1, 'seed': 0}\n",
            "MEAN SCORE : neg_mean_squared_error = -3582564.3554957653\n",
            "VARIANCE : 163000.1724337251 (fold 1 = -3745564.5279294904, fold 2 = -3419564.1830620402)\n",
            "CPU time: 0.6515462398529053 seconds\n",
            "##################################################### testing hyper-parameters... #####################################################\n",
            ">>> NA ENCODER :{'numerical_strategy': 'mean', 'categorical_strategy': '<NULL>'}\n",
            ">>> CA ENCODER :{'strategy': 'label_encoding'}\n",
            ">>> FEATURE SELECTOR :{'strategy': 'rf_feature_importance', 'threshold': 0.1}\n",
            ">>> ESTIMATOR :{'strategy': 'LightGBM', 'max_depth': 6, 'subsample': 0.8813579541841237, 'boosting_type': 'gbdt', 'class_weight': None, 'colsample_bytree': 0.8, 'importance_type': 'split', 'learning_rate': 0.05, 'min_child_samples': 20, 'min_child_weight': 0.001, 'min_split_gain': 0.0, 'n_estimators': 500, 'n_jobs': -1, 'num_leaves': 31, 'objective': None, 'random_state': None, 'reg_alpha': 0.0, 'reg_lambda': 0.0, 'silent': True, 'subsample_for_bin': 200000, 'subsample_freq': 0, 'nthread': -1, 'seed': 0}\n",
            "MEAN SCORE : neg_mean_squared_error = -1671854.563974319\n",
            "VARIANCE : 52588.14096095157 (fold 1 = -1619266.4230133675, fold 2 = -1724442.7049352706)\n",
            "CPU time: 0.6920332908630371 seconds\n",
            "##################################################### testing hyper-parameters... #####################################################\n",
            ">>> NA ENCODER :{'numerical_strategy': 'mean', 'categorical_strategy': '<NULL>'}\n",
            ">>> CA ENCODER :{'strategy': 'label_encoding'}\n",
            ">>> FEATURE SELECTOR :{'strategy': 'rf_feature_importance', 'threshold': 0.1}\n",
            ">>> ESTIMATOR :{'strategy': 'LightGBM', 'max_depth': 6, 'subsample': 0.7441896111049482, 'boosting_type': 'gbdt', 'class_weight': None, 'colsample_bytree': 0.8, 'importance_type': 'split', 'learning_rate': 0.05, 'min_child_samples': 20, 'min_child_weight': 0.001, 'min_split_gain': 0.0, 'n_estimators': 500, 'n_jobs': -1, 'num_leaves': 31, 'objective': None, 'random_state': None, 'reg_alpha': 0.0, 'reg_lambda': 0.0, 'silent': True, 'subsample_for_bin': 200000, 'subsample_freq': 0, 'nthread': -1, 'seed': 0}\n",
            "MEAN SCORE : neg_mean_squared_error = -1671854.563974319\n",
            "VARIANCE : 52588.14096095157 (fold 1 = -1619266.4230133675, fold 2 = -1724442.7049352706)\n",
            "CPU time: 0.6357815265655518 seconds\n",
            "##################################################### testing hyper-parameters... #####################################################\n",
            ">>> NA ENCODER :{'numerical_strategy': 0, 'categorical_strategy': '<NULL>'}\n",
            ">>> CA ENCODER :{'strategy': 'label_encoding'}\n",
            ">>> FEATURE SELECTOR :{'strategy': 'rf_feature_importance', 'threshold': 0.1}\n",
            ">>> ESTIMATOR :{'strategy': 'LightGBM', 'max_depth': 6, 'subsample': 0.7562397316172476, 'boosting_type': 'gbdt', 'class_weight': None, 'colsample_bytree': 0.8, 'importance_type': 'split', 'learning_rate': 0.05, 'min_child_samples': 20, 'min_child_weight': 0.001, 'min_split_gain': 0.0, 'n_estimators': 500, 'n_jobs': -1, 'num_leaves': 31, 'objective': None, 'random_state': None, 'reg_alpha': 0.0, 'reg_lambda': 0.0, 'silent': True, 'subsample_for_bin': 200000, 'subsample_freq': 0, 'nthread': -1, 'seed': 0}\n",
            "MEAN SCORE : neg_mean_squared_error = -1671854.563974319\n",
            "VARIANCE : 52588.14096095157 (fold 1 = -1619266.4230133675, fold 2 = -1724442.7049352706)\n",
            "CPU time: 0.663834810256958 seconds\n",
            "##################################################### testing hyper-parameters... #####################################################\n",
            ">>> NA ENCODER :{'numerical_strategy': 'mean', 'categorical_strategy': '<NULL>'}\n",
            ">>> CA ENCODER :{'strategy': 'label_encoding'}\n",
            ">>> FEATURE SELECTOR :{'strategy': 'rf_feature_importance', 'threshold': 0.1}\n",
            ">>> ESTIMATOR :{'strategy': 'LightGBM', 'max_depth': 6, 'subsample': 0.8961527805577784, 'boosting_type': 'gbdt', 'class_weight': None, 'colsample_bytree': 0.8, 'importance_type': 'split', 'learning_rate': 0.05, 'min_child_samples': 20, 'min_child_weight': 0.001, 'min_split_gain': 0.0, 'n_estimators': 500, 'n_jobs': -1, 'num_leaves': 31, 'objective': None, 'random_state': None, 'reg_alpha': 0.0, 'reg_lambda': 0.0, 'silent': True, 'subsample_for_bin': 200000, 'subsample_freq': 0, 'nthread': -1, 'seed': 0}\n",
            "MEAN SCORE : neg_mean_squared_error = -1671854.563974319\n",
            "VARIANCE : 52588.14096095157 (fold 1 = -1619266.4230133675, fold 2 = -1724442.7049352706)\n",
            "CPU time: 0.6907851696014404 seconds\n",
            "##################################################### testing hyper-parameters... #####################################################\n",
            ">>> NA ENCODER :{'numerical_strategy': 'mean', 'categorical_strategy': '<NULL>'}\n",
            ">>> CA ENCODER :{'strategy': 'label_encoding'}\n",
            ">>> FEATURE SELECTOR :{'strategy': 'rf_feature_importance', 'threshold': 0.1}\n",
            ">>> ESTIMATOR :{'strategy': 'LightGBM', 'max_depth': 6, 'subsample': 0.7258478929939082, 'boosting_type': 'gbdt', 'class_weight': None, 'colsample_bytree': 0.8, 'importance_type': 'split', 'learning_rate': 0.05, 'min_child_samples': 20, 'min_child_weight': 0.001, 'min_split_gain': 0.0, 'n_estimators': 500, 'n_jobs': -1, 'num_leaves': 31, 'objective': None, 'random_state': None, 'reg_alpha': 0.0, 'reg_lambda': 0.0, 'silent': True, 'subsample_for_bin': 200000, 'subsample_freq': 0, 'nthread': -1, 'seed': 0}\n",
            "MEAN SCORE : neg_mean_squared_error = -1671854.563974319\n",
            "VARIANCE : 52588.14096095157 (fold 1 = -1619266.4230133675, fold 2 = -1724442.7049352706)\n",
            "CPU time: 0.6633696556091309 seconds\n",
            "##################################################### testing hyper-parameters... #####################################################\n",
            ">>> NA ENCODER :{'numerical_strategy': 0, 'categorical_strategy': '<NULL>'}\n",
            ">>> CA ENCODER :{'strategy': 'label_encoding'}\n",
            ">>> FEATURE SELECTOR :{'strategy': 'rf_feature_importance', 'threshold': 0.1}\n",
            ">>> ESTIMATOR :{'strategy': 'LightGBM', 'max_depth': 6, 'subsample': 0.7445449561774939, 'boosting_type': 'gbdt', 'class_weight': None, 'colsample_bytree': 0.8, 'importance_type': 'split', 'learning_rate': 0.05, 'min_child_samples': 20, 'min_child_weight': 0.001, 'min_split_gain': 0.0, 'n_estimators': 500, 'n_jobs': -1, 'num_leaves': 31, 'objective': None, 'random_state': None, 'reg_alpha': 0.0, 'reg_lambda': 0.0, 'silent': True, 'subsample_for_bin': 200000, 'subsample_freq': 0, 'nthread': -1, 'seed': 0}\n",
            "MEAN SCORE : neg_mean_squared_error = -1671854.563974319\n",
            "VARIANCE : 52588.14096095157 (fold 1 = -1619266.4230133675, fold 2 = -1724442.7049352706)\n",
            "CPU time: 0.66420578956604 seconds\n",
            "##################################################### testing hyper-parameters... #####################################################\n",
            ">>> NA ENCODER :{'numerical_strategy': 'mean', 'categorical_strategy': '<NULL>'}\n",
            ">>> CA ENCODER :{'strategy': 'label_encoding'}\n",
            ">>> FEATURE SELECTOR :{'strategy': 'rf_feature_importance', 'threshold': 0.1}\n",
            ">>> ESTIMATOR :{'strategy': 'LightGBM', 'max_depth': 6, 'subsample': 0.8636150203685932, 'boosting_type': 'gbdt', 'class_weight': None, 'colsample_bytree': 0.8, 'importance_type': 'split', 'learning_rate': 0.05, 'min_child_samples': 20, 'min_child_weight': 0.001, 'min_split_gain': 0.0, 'n_estimators': 500, 'n_jobs': -1, 'num_leaves': 31, 'objective': None, 'random_state': None, 'reg_alpha': 0.0, 'reg_lambda': 0.0, 'silent': True, 'subsample_for_bin': 200000, 'subsample_freq': 0, 'nthread': -1, 'seed': 0}\n",
            "MEAN SCORE : neg_mean_squared_error = -1671854.563974319\n",
            "VARIANCE : 52588.14096095157 (fold 1 = -1619266.4230133675, fold 2 = -1724442.7049352706)\n",
            "CPU time: 0.6403598785400391 seconds\n",
            "##################################################### testing hyper-parameters... #####################################################\n",
            ">>> NA ENCODER :{'numerical_strategy': 'mean', 'categorical_strategy': '<NULL>'}\n",
            ">>> CA ENCODER :{'strategy': 'label_encoding'}\n",
            ">>> FEATURE SELECTOR :{'strategy': 'rf_feature_importance', 'threshold': 0.1}\n",
            ">>> ESTIMATOR :{'strategy': 'LightGBM', 'max_depth': 6, 'subsample': 0.7162537934793307, 'boosting_type': 'gbdt', 'class_weight': None, 'colsample_bytree': 0.8, 'importance_type': 'split', 'learning_rate': 0.05, 'min_child_samples': 20, 'min_child_weight': 0.001, 'min_split_gain': 0.0, 'n_estimators': 500, 'n_jobs': -1, 'num_leaves': 31, 'objective': None, 'random_state': None, 'reg_alpha': 0.0, 'reg_lambda': 0.0, 'silent': True, 'subsample_for_bin': 200000, 'subsample_freq': 0, 'nthread': -1, 'seed': 0}\n",
            "MEAN SCORE : neg_mean_squared_error = -1671854.563974319\n",
            "VARIANCE : 52588.14096095157 (fold 1 = -1619266.4230133675, fold 2 = -1724442.7049352706)\n",
            "CPU time: 0.6809749603271484 seconds\n",
            "##################################################### testing hyper-parameters... #####################################################\n",
            ">>> NA ENCODER :{'numerical_strategy': 0, 'categorical_strategy': '<NULL>'}\n",
            ">>> CA ENCODER :{'strategy': 'label_encoding'}\n",
            ">>> FEATURE SELECTOR :{'strategy': 'rf_feature_importance', 'threshold': 0.1}\n",
            ">>> ESTIMATOR :{'strategy': 'LightGBM', 'max_depth': 6, 'subsample': 0.7818949693153026, 'boosting_type': 'gbdt', 'class_weight': None, 'colsample_bytree': 0.8, 'importance_type': 'split', 'learning_rate': 0.05, 'min_child_samples': 20, 'min_child_weight': 0.001, 'min_split_gain': 0.0, 'n_estimators': 500, 'n_jobs': -1, 'num_leaves': 31, 'objective': None, 'random_state': None, 'reg_alpha': 0.0, 'reg_lambda': 0.0, 'silent': True, 'subsample_for_bin': 200000, 'subsample_freq': 0, 'nthread': -1, 'seed': 0}\n",
            "MEAN SCORE : neg_mean_squared_error = -1671854.563974319\n",
            "VARIANCE : 52588.14096095157 (fold 1 = -1619266.4230133675, fold 2 = -1724442.7049352706)\n",
            "CPU time: 0.6614582538604736 seconds\n",
            "##################################################### testing hyper-parameters... #####################################################\n",
            ">>> NA ENCODER :{'numerical_strategy': 'mean', 'categorical_strategy': '<NULL>'}\n",
            ">>> CA ENCODER :{'strategy': 'label_encoding'}\n",
            ">>> FEATURE SELECTOR :{'strategy': 'rf_feature_importance', 'threshold': 0.1}\n",
            ">>> ESTIMATOR :{'strategy': 'LightGBM', 'max_depth': 6, 'subsample': 0.8603906383670138, 'boosting_type': 'gbdt', 'class_weight': None, 'colsample_bytree': 0.8, 'importance_type': 'split', 'learning_rate': 0.05, 'min_child_samples': 20, 'min_child_weight': 0.001, 'min_split_gain': 0.0, 'n_estimators': 500, 'n_jobs': -1, 'num_leaves': 31, 'objective': None, 'random_state': None, 'reg_alpha': 0.0, 'reg_lambda': 0.0, 'silent': True, 'subsample_for_bin': 200000, 'subsample_freq': 0, 'nthread': -1, 'seed': 0}\n",
            "MEAN SCORE : neg_mean_squared_error = -1671854.563974319\n",
            "VARIANCE : 52588.14096095157 (fold 1 = -1619266.4230133675, fold 2 = -1724442.7049352706)\n",
            "CPU time: 0.6597411632537842 seconds\n",
            "##################################################### testing hyper-parameters... #####################################################\n",
            ">>> NA ENCODER :{'numerical_strategy': 'mean', 'categorical_strategy': '<NULL>'}\n",
            ">>> CA ENCODER :{'strategy': 'label_encoding'}\n",
            ">>> FEATURE SELECTOR :{'strategy': 'rf_feature_importance', 'threshold': 0.1}\n",
            ">>> ESTIMATOR :{'strategy': 'LightGBM', 'max_depth': 6, 'subsample': 0.6912929155734053, 'boosting_type': 'gbdt', 'class_weight': None, 'colsample_bytree': 0.8, 'importance_type': 'split', 'learning_rate': 0.05, 'min_child_samples': 20, 'min_child_weight': 0.001, 'min_split_gain': 0.0, 'n_estimators': 500, 'n_jobs': -1, 'num_leaves': 31, 'objective': None, 'random_state': None, 'reg_alpha': 0.0, 'reg_lambda': 0.0, 'silent': True, 'subsample_for_bin': 200000, 'subsample_freq': 0, 'nthread': -1, 'seed': 0}\n",
            "MEAN SCORE : neg_mean_squared_error = -1671854.563974319\n",
            "VARIANCE : 52588.14096095157 (fold 1 = -1619266.4230133675, fold 2 = -1724442.7049352706)\n",
            "CPU time: 0.700347900390625 seconds\n",
            "##################################################### testing hyper-parameters... #####################################################\n",
            ">>> NA ENCODER :{'numerical_strategy': 0, 'categorical_strategy': '<NULL>'}\n",
            ">>> CA ENCODER :{'strategy': 'label_encoding'}\n",
            ">>> FEATURE SELECTOR :{'strategy': 'rf_feature_importance', 'threshold': 0.1}\n",
            ">>> ESTIMATOR :{'strategy': 'LightGBM', 'max_depth': 6, 'subsample': 0.7779741705480282, 'boosting_type': 'gbdt', 'class_weight': None, 'colsample_bytree': 0.8, 'importance_type': 'split', 'learning_rate': 0.05, 'min_child_samples': 20, 'min_child_weight': 0.001, 'min_split_gain': 0.0, 'n_estimators': 500, 'n_jobs': -1, 'num_leaves': 31, 'objective': None, 'random_state': None, 'reg_alpha': 0.0, 'reg_lambda': 0.0, 'silent': True, 'subsample_for_bin': 200000, 'subsample_freq': 0, 'nthread': -1, 'seed': 0}\n",
            "MEAN SCORE : neg_mean_squared_error = -1671854.563974319\n",
            "VARIANCE : 52588.14096095157 (fold 1 = -1619266.4230133675, fold 2 = -1724442.7049352706)\n",
            "CPU time: 0.6477491855621338 seconds\n",
            "##################################################### testing hyper-parameters... #####################################################\n",
            ">>> NA ENCODER :{'numerical_strategy': 'mean', 'categorical_strategy': '<NULL>'}\n",
            ">>> CA ENCODER :{'strategy': 'label_encoding'}\n",
            ">>> FEATURE SELECTOR :{'strategy': 'rf_feature_importance', 'threshold': 0.1}\n",
            ">>> ESTIMATOR :{'strategy': 'LightGBM', 'max_depth': 6, 'subsample': 0.8229922951697412, 'boosting_type': 'gbdt', 'class_weight': None, 'colsample_bytree': 0.8, 'importance_type': 'split', 'learning_rate': 0.05, 'min_child_samples': 20, 'min_child_weight': 0.001, 'min_split_gain': 0.0, 'n_estimators': 500, 'n_jobs': -1, 'num_leaves': 31, 'objective': None, 'random_state': None, 'reg_alpha': 0.0, 'reg_lambda': 0.0, 'silent': True, 'subsample_for_bin': 200000, 'subsample_freq': 0, 'nthread': -1, 'seed': 0}\n",
            "MEAN SCORE : neg_mean_squared_error = -1671854.563974319\n",
            "VARIANCE : 52588.14096095157 (fold 1 = -1619266.4230133675, fold 2 = -1724442.7049352706)\n",
            "CPU time: 0.6733336448669434 seconds\n",
            "##################################################### testing hyper-parameters... #####################################################\n",
            ">>> NA ENCODER :{'numerical_strategy': 'mean', 'categorical_strategy': '<NULL>'}\n",
            ">>> CA ENCODER :{'strategy': 'label_encoding'}\n",
            ">>> FEATURE SELECTOR :{'strategy': 'rf_feature_importance', 'threshold': 0.1}\n",
            ">>> ESTIMATOR :{'strategy': 'LightGBM', 'max_depth': 6, 'subsample': 0.60081043171369, 'boosting_type': 'gbdt', 'class_weight': None, 'colsample_bytree': 0.8, 'importance_type': 'split', 'learning_rate': 0.05, 'min_child_samples': 20, 'min_child_weight': 0.001, 'min_split_gain': 0.0, 'n_estimators': 500, 'n_jobs': -1, 'num_leaves': 31, 'objective': None, 'random_state': None, 'reg_alpha': 0.0, 'reg_lambda': 0.0, 'silent': True, 'subsample_for_bin': 200000, 'subsample_freq': 0, 'nthread': -1, 'seed': 0}\n",
            "MEAN SCORE : neg_mean_squared_error = -1671854.563974319\n",
            "VARIANCE : 52588.14096095157 (fold 1 = -1619266.4230133675, fold 2 = -1724442.7049352706)\n",
            "CPU time: 0.6741237640380859 seconds\n",
            "##################################################### testing hyper-parameters... #####################################################\n",
            ">>> NA ENCODER :{'numerical_strategy': 0, 'categorical_strategy': '<NULL>'}\n",
            ">>> CA ENCODER :{'strategy': 'label_encoding'}\n",
            ">>> FEATURE SELECTOR :{'strategy': 'rf_feature_importance', 'threshold': 0.3}\n",
            ">>> ESTIMATOR :{'strategy': 'LightGBM', 'max_depth': 6, 'subsample': 0.7738266938861801, 'boosting_type': 'gbdt', 'class_weight': None, 'colsample_bytree': 0.8, 'importance_type': 'split', 'learning_rate': 0.05, 'min_child_samples': 20, 'min_child_weight': 0.001, 'min_split_gain': 0.0, 'n_estimators': 500, 'n_jobs': -1, 'num_leaves': 31, 'objective': None, 'random_state': None, 'reg_alpha': 0.0, 'reg_lambda': 0.0, 'silent': True, 'subsample_for_bin': 200000, 'subsample_freq': 0, 'nthread': -1, 'seed': 0}\n",
            "MEAN SCORE : neg_mean_squared_error = -1922794.2593678301\n",
            "VARIANCE : 11100.352918776334 (fold 1 = -1911693.906449054, fold 2 = -1933894.6122866066)\n",
            "CPU time: 0.5685129165649414 seconds\n",
            "##################################################### testing hyper-parameters... #####################################################\n",
            ">>> NA ENCODER :{'numerical_strategy': 'mean', 'categorical_strategy': '<NULL>'}\n",
            ">>> CA ENCODER :{'strategy': 'label_encoding'}\n",
            ">>> FEATURE SELECTOR :{'strategy': 'rf_feature_importance', 'threshold': 0.1}\n",
            ">>> ESTIMATOR :{'strategy': 'LightGBM', 'max_depth': 5, 'subsample': 0.7350375109988246, 'boosting_type': 'gbdt', 'class_weight': None, 'colsample_bytree': 0.8, 'importance_type': 'split', 'learning_rate': 0.05, 'min_child_samples': 20, 'min_child_weight': 0.001, 'min_split_gain': 0.0, 'n_estimators': 500, 'n_jobs': -1, 'num_leaves': 31, 'objective': None, 'random_state': None, 'reg_alpha': 0.0, 'reg_lambda': 0.0, 'silent': True, 'subsample_for_bin': 200000, 'subsample_freq': 0, 'nthread': -1, 'seed': 0}\n",
            "MEAN SCORE : neg_mean_squared_error = -1676912.2731965724\n",
            "VARIANCE : 50269.07466453186 (fold 1 = -1626643.1985320405, fold 2 = -1727181.3478611042)\n",
            "CPU time: 0.6474051475524902 seconds\n",
            "##################################################### testing hyper-parameters... #####################################################\n",
            ">>> NA ENCODER :{'numerical_strategy': 0, 'categorical_strategy': '<NULL>'}\n",
            ">>> CA ENCODER :{'strategy': 'label_encoding'}\n",
            ">>> FEATURE SELECTOR :{'strategy': 'rf_feature_importance', 'threshold': 0.1}\n",
            ">>> ESTIMATOR :{'strategy': 'LightGBM', 'max_depth': 6, 'subsample': 0.633791174250983, 'boosting_type': 'gbdt', 'class_weight': None, 'colsample_bytree': 0.8, 'importance_type': 'split', 'learning_rate': 0.05, 'min_child_samples': 20, 'min_child_weight': 0.001, 'min_split_gain': 0.0, 'n_estimators': 500, 'n_jobs': -1, 'num_leaves': 31, 'objective': None, 'random_state': None, 'reg_alpha': 0.0, 'reg_lambda': 0.0, 'silent': True, 'subsample_for_bin': 200000, 'subsample_freq': 0, 'nthread': -1, 'seed': 0}\n",
            "MEAN SCORE : neg_mean_squared_error = -1671854.563974319\n",
            "VARIANCE : 52588.14096095157 (fold 1 = -1619266.4230133675, fold 2 = -1724442.7049352706)\n",
            "CPU time: 0.7187278270721436 seconds\n",
            "##################################################### testing hyper-parameters... #####################################################\n",
            ">>> NA ENCODER :{'numerical_strategy': 'mean', 'categorical_strategy': '<NULL>'}\n",
            ">>> CA ENCODER :{'strategy': 'label_encoding'}\n",
            ">>> FEATURE SELECTOR :{'strategy': 'rf_feature_importance', 'threshold': 0.2}\n",
            ">>> ESTIMATOR :{'strategy': 'LightGBM', 'max_depth': 5, 'subsample': 0.6034269701085693, 'boosting_type': 'gbdt', 'class_weight': None, 'colsample_bytree': 0.8, 'importance_type': 'split', 'learning_rate': 0.05, 'min_child_samples': 20, 'min_child_weight': 0.001, 'min_split_gain': 0.0, 'n_estimators': 500, 'n_jobs': -1, 'num_leaves': 31, 'objective': None, 'random_state': None, 'reg_alpha': 0.0, 'reg_lambda': 0.0, 'silent': True, 'subsample_for_bin': 200000, 'subsample_freq': 0, 'nthread': -1, 'seed': 0}\n",
            "MEAN SCORE : neg_mean_squared_error = -1676912.2731965724\n",
            "VARIANCE : 50269.07466453186 (fold 1 = -1626643.1985320405, fold 2 = -1727181.3478611042)\n",
            "CPU time: 0.6055819988250732 seconds\n",
            "##################################################### testing hyper-parameters... #####################################################\n",
            ">>> NA ENCODER :{'numerical_strategy': 'mean', 'categorical_strategy': '<NULL>'}\n",
            ">>> CA ENCODER :{'strategy': 'label_encoding'}\n",
            ">>> FEATURE SELECTOR :{'strategy': 'rf_feature_importance', 'threshold': 0.3}\n",
            ">>> ESTIMATOR :{'strategy': 'LightGBM', 'max_depth': 6, 'subsample': 0.6804082174800343, 'boosting_type': 'gbdt', 'class_weight': None, 'colsample_bytree': 0.8, 'importance_type': 'split', 'learning_rate': 0.05, 'min_child_samples': 20, 'min_child_weight': 0.001, 'min_split_gain': 0.0, 'n_estimators': 500, 'n_jobs': -1, 'num_leaves': 31, 'objective': None, 'random_state': None, 'reg_alpha': 0.0, 'reg_lambda': 0.0, 'silent': True, 'subsample_for_bin': 200000, 'subsample_freq': 0, 'nthread': -1, 'seed': 0}\n",
            "MEAN SCORE : neg_mean_squared_error = -1922794.2593678301\n",
            "VARIANCE : 11100.352918776334 (fold 1 = -1911693.906449054, fold 2 = -1933894.6122866066)\n",
            "CPU time: 0.6008381843566895 seconds\n",
            "##################################################### testing hyper-parameters... #####################################################\n",
            ">>> NA ENCODER :{'numerical_strategy': 'mean', 'categorical_strategy': '<NULL>'}\n",
            ">>> CA ENCODER :{'strategy': 'label_encoding'}\n",
            ">>> FEATURE SELECTOR :{'strategy': 'rf_feature_importance', 'threshold': 0.1}\n",
            ">>> ESTIMATOR :{'strategy': 'LightGBM', 'max_depth': 5, 'subsample': 0.8978503494089699, 'boosting_type': 'gbdt', 'class_weight': None, 'colsample_bytree': 0.8, 'importance_type': 'split', 'learning_rate': 0.05, 'min_child_samples': 20, 'min_child_weight': 0.001, 'min_split_gain': 0.0, 'n_estimators': 500, 'n_jobs': -1, 'num_leaves': 31, 'objective': None, 'random_state': None, 'reg_alpha': 0.0, 'reg_lambda': 0.0, 'silent': True, 'subsample_for_bin': 200000, 'subsample_freq': 0, 'nthread': -1, 'seed': 0}\n",
            "MEAN SCORE : neg_mean_squared_error = -1676912.2731965724\n",
            "VARIANCE : 50269.07466453186 (fold 1 = -1626643.1985320405, fold 2 = -1727181.3478611042)\n",
            "CPU time: 0.642568826675415 seconds\n",
            "100%|██████████| 40/40 [00:28<00:00,  1.38trial/s, best loss: 1671854.563974319]\n",
            "\n",
            "\n",
            "~~~~~~~~~~~~~~~~~~~~~~~~~~~~~~~~~~~~~~~~~~~~~~~~~~~~~~~~~~~~~~~~~~~~~~~~~~~~~~~~~~~~~~~~~~~~~~~~~~~~~~~~~~~~~~~~~~~~~~~~~~~~~~~~~~~~~~~~~\n",
            "~~~~~~~~~~~~~~~~~~~~~~~~~~~~~~~~~~~~~~~~~~~~~~~~~~~~~~~~~ BEST HYPER-PARAMETERS ~~~~~~~~~~~~~~~~~~~~~~~~~~~~~~~~~~~~~~~~~~~~~~~~~~~~~~~~~\n",
            "~~~~~~~~~~~~~~~~~~~~~~~~~~~~~~~~~~~~~~~~~~~~~~~~~~~~~~~~~~~~~~~~~~~~~~~~~~~~~~~~~~~~~~~~~~~~~~~~~~~~~~~~~~~~~~~~~~~~~~~~~~~~~~~~~~~~~~~~~\n",
            "\n",
            "{'est__max_depth': 6, 'est__strategy': 'LightGBM', 'est__subsample': 0.7730973094809753, 'fs__strategy': 'rf_feature_importance', 'fs__threshold': 0.1, 'ne__numerical_strategy': 'mean'}\n"
          ],
          "name": "stdout"
        }
      ]
    },
    {
      "cell_type": "markdown",
      "metadata": {
        "id": "ferMMGRDXiuL"
      },
      "source": [
        "Melhores parâmetros."
      ]
    },
    {
      "cell_type": "code",
      "metadata": {
        "colab": {
          "base_uri": "https://localhost:8080/"
        },
        "id": "Q_WNaO-rsf2S",
        "outputId": "f5eb83ef-c310-4e27-ecc2-c8d6ff084ef8"
      },
      "source": [
        "melhores_parametros"
      ],
      "execution_count": 216,
      "outputs": [
        {
          "output_type": "execute_result",
          "data": {
            "text/plain": [
              "{'est__max_depth': 6,\n",
              " 'est__strategy': 'LightGBM',\n",
              " 'est__subsample': 0.7730973094809753,\n",
              " 'fs__strategy': 'rf_feature_importance',\n",
              " 'fs__threshold': 0.1,\n",
              " 'ne__numerical_strategy': 'mean'}"
            ]
          },
          "metadata": {
            "tags": []
          },
          "execution_count": 216
        }
      ]
    },
    {
      "cell_type": "markdown",
      "metadata": {
        "id": "DAVzZ0RK-31J"
      },
      "source": [
        "Gerando as previsões: aqui irei inserir a relação de parâmetros acima que irão otimizar o modelo para gerar os melhores resultados possíveis."
      ]
    },
    {
      "cell_type": "code",
      "metadata": {
        "id": "-8wZL6SZ14q3",
        "colab": {
          "base_uri": "https://localhost:8080/",
          "height": 672
        },
        "outputId": "b6bcfeff-b545-4674-9d3e-5fc55d52c188"
      },
      "source": [
        "prd = Predictor()\n",
        "predictions = prd.fit_predict(melhores_parametros, carro_df)"
      ],
      "execution_count": 217,
      "outputs": [
        {
          "output_type": "stream",
          "text": [
            "\n",
            "fitting the pipeline ...\n",
            "CPU time: 0.8958477973937988 seconds\n"
          ],
          "name": "stdout"
        },
        {
          "output_type": "display_data",
          "data": {
            "image/png": "[encoded data removed]",
            "text/plain": [
              "<Figure size 1440x288 with 1 Axes>"
            ]
          },
          "metadata": {
            "tags": []
          }
        },
        {
          "output_type": "stream",
          "text": [
            "\n",
            "> Feature importances dumped into directory : save\n",
            "\n",
            "predicting...\n",
            "CPU time: 0.04619169235229492 seconds\n",
            "\n",
            "> Overview on predictions : \n",
            "\n",
            "   price_predicted\n",
            "0      7691.033464\n",
            "1      8318.371750\n",
            "2     12762.089390\n",
            "3      8461.338190\n",
            "4     16511.829133\n",
            "5     17723.970928\n",
            "6     24406.635860\n",
            "7      9699.345187\n",
            "8      6099.412978\n",
            "9     12957.870465\n",
            "\n",
            "dumping predictions into directory : save ...\n"
          ],
          "name": "stdout"
        }
      ]
    },
    {
      "cell_type": "markdown",
      "metadata": {
        "id": "_HdhCTEc-7mw"
      },
      "source": [
        "Ao serem geradas as previsões é criada no diretório do projeto um pasta com o nome *save* e dentro dela contém a imagem gerada acima e as previsões no formato *csv*."
      ]
    },
    {
      "cell_type": "code",
      "metadata": {
        "id": "mJgodI4n14tY",
        "colab": {
          "base_uri": "https://localhost:8080/",
          "height": 391
        },
        "outputId": "6d9b42ca-222f-40fb-ec66-dd59caf67aeb"
      },
      "source": [
        "previsoes = pd.read_csv('price_predictions.csv')\n",
        "previsoes['Valores reais'] = y_teste.tolist()\n",
        "previsoes"
      ],
      "execution_count": 219,
      "outputs": [
        {
          "output_type": "execute_result",
          "data": {
            "text/html": [
              "<div>\n",
              "<style scoped>\n",
              "    .dataframe tbody tr th:only-of-type {\n",
              "        vertical-align: middle;\n",
              "    }\n",
              "\n",
              "    .dataframe tbody tr th {\n",
              "        vertical-align: top;\n",
              "    }\n",
              "\n",
              "    .dataframe thead th {\n",
              "        text-align: right;\n",
              "    }\n",
              "</style>\n",
              "<table border=\"1\" class=\"dataframe\">\n",
              "  <thead>\n",
              "    <tr style=\"text-align: right;\">\n",
              "      <th></th>\n",
              "      <th>Unnamed: 0</th>\n",
              "      <th>price_predicted</th>\n",
              "      <th>Valores reais</th>\n",
              "    </tr>\n",
              "  </thead>\n",
              "  <tbody>\n",
              "    <tr>\n",
              "      <th>0</th>\n",
              "      <td>0</td>\n",
              "      <td>7691.033464</td>\n",
              "      <td>7291.0</td>\n",
              "    </tr>\n",
              "    <tr>\n",
              "      <th>1</th>\n",
              "      <td>1</td>\n",
              "      <td>8318.371750</td>\n",
              "      <td>8399.0</td>\n",
              "    </tr>\n",
              "    <tr>\n",
              "      <th>2</th>\n",
              "      <td>2</td>\n",
              "      <td>12762.089390</td>\n",
              "      <td>11399.0</td>\n",
              "    </tr>\n",
              "    <tr>\n",
              "      <th>3</th>\n",
              "      <td>3</td>\n",
              "      <td>8461.338190</td>\n",
              "      <td>8100.0</td>\n",
              "    </tr>\n",
              "    <tr>\n",
              "      <th>4</th>\n",
              "      <td>4</td>\n",
              "      <td>16511.829133</td>\n",
              "      <td>16990.0</td>\n",
              "    </tr>\n",
              "    <tr>\n",
              "      <th>...</th>\n",
              "      <td>...</td>\n",
              "      <td>...</td>\n",
              "      <td>...</td>\n",
              "    </tr>\n",
              "    <tr>\n",
              "      <th>919</th>\n",
              "      <td>919</td>\n",
              "      <td>9955.296201</td>\n",
              "      <td>8990.0</td>\n",
              "    </tr>\n",
              "    <tr>\n",
              "      <th>920</th>\n",
              "      <td>920</td>\n",
              "      <td>8912.376658</td>\n",
              "      <td>7995.0</td>\n",
              "    </tr>\n",
              "    <tr>\n",
              "      <th>921</th>\n",
              "      <td>921</td>\n",
              "      <td>16356.986414</td>\n",
              "      <td>17190.0</td>\n",
              "    </tr>\n",
              "    <tr>\n",
              "      <th>922</th>\n",
              "      <td>922</td>\n",
              "      <td>20576.452366</td>\n",
              "      <td>17990.0</td>\n",
              "    </tr>\n",
              "    <tr>\n",
              "      <th>923</th>\n",
              "      <td>923</td>\n",
              "      <td>9954.869335</td>\n",
              "      <td>9795.0</td>\n",
              "    </tr>\n",
              "  </tbody>\n",
              "</table>\n",
              "<p>924 rows × 3 columns</p>\n",
              "</div>"
            ],
            "text/plain": [
              "     Unnamed: 0  price_predicted  Valores reais\n",
              "0             0      7691.033464         7291.0\n",
              "1             1      8318.371750         8399.0\n",
              "2             2     12762.089390        11399.0\n",
              "3             3      8461.338190         8100.0\n",
              "4             4     16511.829133        16990.0\n",
              "..          ...              ...            ...\n",
              "919         919      9955.296201         8990.0\n",
              "920         920      8912.376658         7995.0\n",
              "921         921     16356.986414        17190.0\n",
              "922         922     20576.452366        17990.0\n",
              "923         923      9954.869335         9795.0\n",
              "\n",
              "[924 rows x 3 columns]"
            ]
          },
          "metadata": {
            "tags": []
          },
          "execution_count": 219
        }
      ]
    },
    {
      "cell_type": "markdown",
      "metadata": {
        "id": "48fbKb8R_SfF"
      },
      "source": [
        "## Comparando os resultados.\n",
        "\n",
        "Tabela estatística dos resultados."
      ]
    },
    {
      "cell_type": "code",
      "metadata": {
        "id": "lAH-e5Pg15JX",
        "colab": {
          "base_uri": "https://localhost:8080/",
          "height": 277
        },
        "outputId": "49394ae4-9106-44b2-e3b5-017c79e8830c"
      },
      "source": [
        "previsoes.describe()"
      ],
      "execution_count": 220,
      "outputs": [
        {
          "output_type": "execute_result",
          "data": {
            "text/html": [
              "<div>\n",
              "<style scoped>\n",
              "    .dataframe tbody tr th:only-of-type {\n",
              "        vertical-align: middle;\n",
              "    }\n",
              "\n",
              "    .dataframe tbody tr th {\n",
              "        vertical-align: top;\n",
              "    }\n",
              "\n",
              "    .dataframe thead th {\n",
              "        text-align: right;\n",
              "    }\n",
              "</style>\n",
              "<table border=\"1\" class=\"dataframe\">\n",
              "  <thead>\n",
              "    <tr style=\"text-align: right;\">\n",
              "      <th></th>\n",
              "      <th>Unnamed: 0</th>\n",
              "      <th>price_predicted</th>\n",
              "      <th>Valores reais</th>\n",
              "    </tr>\n",
              "  </thead>\n",
              "  <tbody>\n",
              "    <tr>\n",
              "      <th>count</th>\n",
              "      <td>924.000000</td>\n",
              "      <td>924.000000</td>\n",
              "      <td>924.000000</td>\n",
              "    </tr>\n",
              "    <tr>\n",
              "      <th>mean</th>\n",
              "      <td>461.500000</td>\n",
              "      <td>12388.643125</td>\n",
              "      <td>12398.004329</td>\n",
              "    </tr>\n",
              "    <tr>\n",
              "      <th>std</th>\n",
              "      <td>266.880123</td>\n",
              "      <td>4741.194602</td>\n",
              "      <td>4895.782523</td>\n",
              "    </tr>\n",
              "    <tr>\n",
              "      <th>min</th>\n",
              "      <td>0.000000</td>\n",
              "      <td>2842.616510</td>\n",
              "      <td>2995.000000</td>\n",
              "    </tr>\n",
              "    <tr>\n",
              "      <th>25%</th>\n",
              "      <td>230.750000</td>\n",
              "      <td>8331.724823</td>\n",
              "      <td>8484.500000</td>\n",
              "    </tr>\n",
              "    <tr>\n",
              "      <th>50%</th>\n",
              "      <td>461.500000</td>\n",
              "      <td>12147.892060</td>\n",
              "      <td>11998.000000</td>\n",
              "    </tr>\n",
              "    <tr>\n",
              "      <th>75%</th>\n",
              "      <td>692.250000</td>\n",
              "      <td>15562.392662</td>\n",
              "      <td>15499.000000</td>\n",
              "    </tr>\n",
              "    <tr>\n",
              "      <th>max</th>\n",
              "      <td>923.000000</td>\n",
              "      <td>25057.774471</td>\n",
              "      <td>27000.000000</td>\n",
              "    </tr>\n",
              "  </tbody>\n",
              "</table>\n",
              "</div>"
            ],
            "text/plain": [
              "       Unnamed: 0  price_predicted  Valores reais\n",
              "count  924.000000       924.000000     924.000000\n",
              "mean   461.500000     12388.643125   12398.004329\n",
              "std    266.880123      4741.194602    4895.782523\n",
              "min      0.000000      2842.616510    2995.000000\n",
              "25%    230.750000      8331.724823    8484.500000\n",
              "50%    461.500000     12147.892060   11998.000000\n",
              "75%    692.250000     15562.392662   15499.000000\n",
              "max    923.000000     25057.774471   27000.000000"
            ]
          },
          "metadata": {
            "tags": []
          },
          "execution_count": 220
        }
      ]
    },
    {
      "cell_type": "markdown",
      "metadata": {
        "id": "5NELJBa1iVUv"
      },
      "source": [
        "Gráfico de dispersão com a reta de regressão."
      ]
    },
    {
      "cell_type": "code",
      "metadata": {
        "colab": {
          "base_uri": "https://localhost:8080/",
          "height": 357
        },
        "id": "UWwKnn8Ik--S",
        "outputId": "2fb79595-a38d-40e3-f4d3-1e203a720c5c"
      },
      "source": [
        "plt.figure(figsize=(20,5))\n",
        "sns.regplot(x='Valores reais', y='price_predicted', data = previsoes)\n",
        "plt.title('Gráfico de regressão das Previsões e os Valores reais', size=15)\n",
        "plt.xlabel('Valores reais',size=15)\n",
        "plt.ylabel('Previsões',size=15);"
      ],
      "execution_count": 221,
      "outputs": [
        {
          "output_type": "display_data",
          "data": {
            "image/png": "[encoded data removed]",
            "text/plain": [
              "<Figure size 1440x360 with 1 Axes>"
            ]
          },
          "metadata": {
            "tags": []
          }
        }
      ]
    },
    {
      "cell_type": "code",
      "metadata": {
        "colab": {
          "base_uri": "https://localhost:8080/",
          "height": 355
        },
        "id": "2QQAj73KqpQB",
        "outputId": "ea2c0956-ad5d-486c-fe14-fcfd85e83925"
      },
      "source": [
        "plt.figure(figsize=(20,5))\n",
        "sns.histplot(x='Valores reais', data = previsoes, color='red')\n",
        "sns.histplot(x='price_predicted', data = previsoes)\n",
        "plt.title('Histograma das previsões e dos valores reais', size=15)\n",
        "plt.ylabel('');"
      ],
      "execution_count": 222,
      "outputs": [
        {
          "output_type": "display_data",
          "data": {
            "image/png": "[encoded data removed]",
            "text/plain": [
              "<Figure size 1440x360 with 1 Axes>"
            ]
          },
          "metadata": {
            "tags": []
          }
        }
      ]
    },
    {
      "cell_type": "markdown",
      "metadata": {
        "id": "s-EYkX9_bGfo"
      },
      "source": [
        "Métricas de avaliação do modelo."
      ]
    },
    {
      "cell_type": "code",
      "metadata": {
        "id": "Jp__sxR814v1",
        "colab": {
          "base_uri": "https://localhost:8080/"
        },
        "outputId": "b5c1718b-8116-4426-ab5c-f5e854bcda83"
      },
      "source": [
        "print('Erro médio absoluto :',mean_absolute_error(previsoes['price_predicted'],previsoes['Valores reais']))\n",
        "print('Erro quadrado médio absoluto :',mean_squared_error(previsoes['price_predicted'],previsoes['Valores reais']))\n",
        "print('Erro mediano absoluto :',median_absolute_error(previsoes['price_predicted'],previsoes['Valores reais']))\n",
        "print('Coeficiente de determinação (R²) :',r2_score(previsoes['price_predicted'],previsoes['Valores reais']))"
      ],
      "execution_count": 223,
      "outputs": [
        {
          "output_type": "stream",
          "text": [
            "Erro médio absoluto : 857.3905049511437\n",
            "Erro quadrado médio absoluto : 1591912.1801324103\n",
            "Erro mediano absoluto : 594.970859626219\n",
            "Coeficiente de determinação (R²) : 0.9291052927814103\n"
          ],
          "name": "stdout"
        }
      ]
    },
    {
      "cell_type": "markdown",
      "metadata": {
        "id": "qJd_V9vpcbRU"
      },
      "source": [
        "Análise dos resíduos.\n",
        "\n",
        "Notar a presença de 2 *outliers* nos resíduos e que provavlemente estão impactando nos gráficos abaixo."
      ]
    },
    {
      "cell_type": "code",
      "metadata": {
        "id": "2Fed668v141N",
        "colab": {
          "base_uri": "https://localhost:8080/",
          "height": 407
        },
        "outputId": "20d5f5f8-7823-4d6e-cd0e-7b78dfe42dd3"
      },
      "source": [
        "residuals = previsoes['price_predicted']-previsoes['Valores reais']\n",
        "fig, ax = plt.subplots(2,2,figsize=(15,6))\n",
        "residuals.plot(title=\"Resíduos\", ax=ax[0][0])\n",
        "sns.histplot(residuals,ax=ax[0][1])\n",
        "plot_acf(residuals,lags=40, ax=ax[1][0])\n",
        "qqplot(residuals,line='s', ax=ax[1][1]);"
      ],
      "execution_count": 224,
      "outputs": [
        {
          "output_type": "display_data",
          "data": {
            "image/png": "[encoded data removed]",
            "text/plain": [
              "<Figure size 1080x432 with 4 Axes>"
            ]
          },
          "metadata": {
            "tags": []
          }
        }
      ]
    }
  ]
}