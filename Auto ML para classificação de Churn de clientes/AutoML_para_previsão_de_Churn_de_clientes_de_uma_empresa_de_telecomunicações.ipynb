{
  "nbformat": 4,
  "nbformat_minor": 0,
  "metadata": {
    "colab": {
      "name": "AutoML para previsão de Churn de clientes de uma empresa de telecomunicações.ipynb",
      "provenance": [],
      "collapsed_sections": [],
      "toc_visible": true
    },
    "kernelspec": {
      "display_name": "Python 3",
      "name": "python3"
    },
    "language_info": {
      "name": "python"
    }
  },
  "cells": [
    {
      "cell_type": "markdown",
      "metadata": {
        "id": "FC_vN3Zow8WY"
      },
      "source": [
        "# *Auto-Sklearn* para previsão de *Churn*\n",
        "\n",
        "Nesse projeto eu irei aplicar a biblioteca de *Auto Machine Learning Auto-Sklearn* para gerar um modelo que preveja o *Churn* de clientes de uma empresa de Telecomunicações. A vantagem do processo de *Auto Machine Learning* é que todo processo de escolha, treinamento e *tunning* do modelo é algo automático, permitindo que tempo e esforço sejam aplicados para outras áreas do projeto.\n",
        "\n",
        "#### O que é *churn* ?\n",
        "\n",
        "*Churn* é uma métrica que indica o quanto uma empresa perdeu de receita ou clientes. Para calcular o *churn*, basta dividir a quantidade de clientes que perdeu até o final do período pelo total de clientes que iniciaram. Exemplo: se você perdeu 10 clientes de 100 = 10% de *churn rate*. Essa métrica também usada em departamentos de pessoas para analisar a rotatividade de funcionários de uma empresa em um determinado setor ou em toda a empresa.\n",
        "\n",
        "## Dados\n",
        "\n",
        "Os dados são da plataforma *Kaggle* e podem ser obtidos [aqui](https://www.kaggle.com/blastchar/telco-customer-churn). A base de dados conta com 7043 observações e 21 colunas.\n",
        "\n",
        "Nessas *features* constam :\n",
        "\n",
        "1) Clientes que saíram no último mês - a coluna é chamada de *churn*;\n",
        "\n",
        "2) Serviços que cada cliente assinou - telefone, várias linhas, internet, segurança online, backup online, proteção de dispositivo, suporte técnico e streaming de TV e filmes;\n",
        "\n",
        "3) Informações da conta do cliente - há quanto tempo ele é cliente, contrato, forma de pagamento, faturamento sem papel, cobranças mensais e cobranças totais;\n",
        "\n",
        "4) e informações demográficas sobre clientes - sexo, faixa etária e se eles têm parceiros e dependentes;\n",
        "\n",
        "**Descrição das variáveis**\n",
        "\n",
        "1) *customerID* : Código do cliente;\n",
        "\n",
        "2) *gender* : Gênero do cliente;\n",
        "\n",
        "3) *SeniorCitizen* : Se o cliente é um cidadão idoso ou não (1, 0);\n",
        "\n",
        "4) *Partner* : Se o cliente tem um parceiro ou não (Sim, Não);\n",
        "\n",
        "5) *Dependents* : Se o cliente tem dependentes ou não (Sim, Não);\n",
        "\n",
        "6) *tenure* : Número de meses que o cliente permaneceu na empresa; \n",
        "\n",
        "7) *PhoneService* : Se o cliente tem um serviço de telefone ou não (Sim, Não);\n",
        "\n",
        "8) *MultipleLines* : Se o cliente tem várias linhas ou não (Sim, Não, Sem serviço telefônico);\n",
        "\n",
        "9) *InternetService* : Provedor de serviços de Internet do cliente (DSL, fibra óptica, não);\n",
        "\n",
        "10) *OnlineSecurity* : Se o cliente tem segurança online ou não (Sim, Não, Sem serviço de Internet);\n",
        "\n",
        "11) *OnlineBackup* : Se o cliente tem backup online ou não (Sim, Não, Sem serviço de Internet);\n",
        "\n",
        "12) *DeviceProtection* : Se o cliente tem proteção de dispositivo ou não (Sim, Não, Sem serviço de Internet);\n",
        "\n",
        "13) *TechSupport* : Se o cliente tem suporte técnico ou não (Sim, Não, Sem serviço de Internet);\n",
        "\n",
        "14) *StreamingTV* : Se o cliente tem *streaming* de TV ou não (Sim, Não, Sem serviço de Internet);\n",
        "\n",
        "15) *StreamingMovies* : Se o cliente tem *streaming* de filmes ou não (Sim, Não, Sem serviço de Internet);\n",
        "\n",
        "16) *Contract* : A vigência do contrato do cliente (mês a mês, um ano, dois anos);\n",
        "\n",
        "17) *PaperlessBilling* : Se o cliente tem faturamento sem papel ou não (Sim, Não);\n",
        "\n",
        "18) *PaymentMethod* : O método de pagamento do cliente (cheque eletrônico, cheque enviado, transferência bancária (automático),etc.;\n",
        "\n",
        "19) *MonthlyCharges* : O valor cobrado do cliente mensalmente;\n",
        "\n",
        "20) *TotalCharges* : O valor total cobrado do cliente;\n",
        "\n",
        "21) *Churn* : Se o cliente mudou ou não (sim ou não).\n",
        "\n",
        "## Instalação das bibliotecas"
      ]
    },
    {
      "cell_type": "code",
      "metadata": {
        "colab": {
          "base_uri": "https://localhost:8080/"
        },
        "id": "NuY7snAQw6ft",
        "outputId": "15fcc60c-f96c-4d56-cf6f-60f214c0feb8"
      },
      "source": [
        "!apt-get install swig -y\n",
        "!pip install Cython numpy\n",
        "!pip install auto-sklearn\n",
        "!pip install dask[complete] distributed --upgrade\n",
        "!pip install \"dask[distributed]\" --upgrade"
      ],
      "execution_count": 2,
      "outputs": [
        {
          "output_type": "stream",
          "text": [
            "Reading package lists... Done\n",
            "Building dependency tree       \n",
            "Reading state information... Done\n",
            "swig is already the newest version (3.0.12-1).\n",
            "0 upgraded, 0 newly installed, 0 to remove and 30 not upgraded.\n",
            "Requirement already satisfied: Cython in /usr/local/lib/python3.7/dist-packages (0.29.22)\n",
            "Requirement already satisfied: numpy in /usr/local/lib/python3.7/dist-packages (1.19.5)\n",
            "Requirement already satisfied: auto-sklearn in /usr/local/lib/python3.7/dist-packages (0.12.5)\n",
            "Requirement already satisfied: pandas>=1.0 in /usr/local/lib/python3.7/dist-packages (from auto-sklearn) (1.1.5)\n",
            "Requirement already satisfied: pynisher>=0.6.3 in /usr/local/lib/python3.7/dist-packages (from auto-sklearn) (0.6.4)\n",
            "Requirement already satisfied: pyrfr<0.9,>=0.8.1 in /usr/local/lib/python3.7/dist-packages (from auto-sklearn) (0.8.1)\n",
            "Requirement already satisfied: pyyaml in /usr/local/lib/python3.7/dist-packages (from auto-sklearn) (3.13)\n",
            "Requirement already satisfied: smac<0.14,>=0.13.1 in /usr/local/lib/python3.7/dist-packages (from auto-sklearn) (0.13.1)\n",
            "Requirement already satisfied: ConfigSpace<0.5,>=0.4.14 in /usr/local/lib/python3.7/dist-packages (from auto-sklearn) (0.4.18)\n",
            "Requirement already satisfied: numpy>=1.9.0 in /usr/local/lib/python3.7/dist-packages (from auto-sklearn) (1.19.5)\n",
            "Requirement already satisfied: liac-arff in /usr/local/lib/python3.7/dist-packages (from auto-sklearn) (2.5.0)\n",
            "Requirement already satisfied: dask in /usr/local/lib/python3.7/dist-packages (from auto-sklearn) (2021.3.1)\n",
            "Requirement already satisfied: joblib in /usr/local/lib/python3.7/dist-packages (from auto-sklearn) (1.0.1)\n",
            "Requirement already satisfied: distributed>=2.2.0 in /usr/local/lib/python3.7/dist-packages (from auto-sklearn) (2021.3.1)\n",
            "Requirement already satisfied: setuptools in /usr/local/lib/python3.7/dist-packages (from auto-sklearn) (54.1.2)\n",
            "Requirement already satisfied: scipy>=0.14.1 in /usr/local/lib/python3.7/dist-packages (from auto-sklearn) (1.4.1)\n",
            "Requirement already satisfied: scikit-learn<0.25.0,>=0.24.0 in /usr/local/lib/python3.7/dist-packages (from auto-sklearn) (0.24.1)\n",
            "Requirement already satisfied: python-dateutil>=2.7.3 in /usr/local/lib/python3.7/dist-packages (from pandas>=1.0->auto-sklearn) (2.8.1)\n",
            "Requirement already satisfied: pytz>=2017.2 in /usr/local/lib/python3.7/dist-packages (from pandas>=1.0->auto-sklearn) (2018.9)\n",
            "Requirement already satisfied: psutil in /usr/local/lib/python3.7/dist-packages (from pynisher>=0.6.3->auto-sklearn) (5.4.8)\n",
            "Requirement already satisfied: lazy-import in /usr/local/lib/python3.7/dist-packages (from smac<0.14,>=0.13.1->auto-sklearn) (0.2.2)\n",
            "Requirement already satisfied: cython in /usr/local/lib/python3.7/dist-packages (from ConfigSpace<0.5,>=0.4.14->auto-sklearn) (0.29.22)\n",
            "Requirement already satisfied: pyparsing in /usr/local/lib/python3.7/dist-packages (from ConfigSpace<0.5,>=0.4.14->auto-sklearn) (2.4.7)\n",
            "Requirement already satisfied: cloudpickle>=1.1.1 in /usr/local/lib/python3.7/dist-packages (from dask->auto-sklearn) (1.6.0)\n",
            "Requirement already satisfied: fsspec>=0.6.0 in /usr/local/lib/python3.7/dist-packages (from dask->auto-sklearn) (0.8.7)\n",
            "Requirement already satisfied: toolz>=0.8.2 in /usr/local/lib/python3.7/dist-packages (from dask->auto-sklearn) (0.11.1)\n",
            "Requirement already satisfied: partd>=0.3.10 in /usr/local/lib/python3.7/dist-packages (from dask->auto-sklearn) (1.1.0)\n",
            "Requirement already satisfied: sortedcontainers!=2.0.0,!=2.0.1 in /usr/local/lib/python3.7/dist-packages (from distributed>=2.2.0->auto-sklearn) (2.3.0)\n",
            "Requirement already satisfied: tblib>=1.6.0 in /usr/local/lib/python3.7/dist-packages (from distributed>=2.2.0->auto-sklearn) (1.7.0)\n",
            "Requirement already satisfied: click>=6.6 in /usr/local/lib/python3.7/dist-packages (from distributed>=2.2.0->auto-sklearn) (7.1.2)\n",
            "Requirement already satisfied: zict>=0.1.3 in /usr/local/lib/python3.7/dist-packages (from distributed>=2.2.0->auto-sklearn) (2.0.0)\n",
            "Requirement already satisfied: tornado>=5; python_version < \"3.8\" in /usr/local/lib/python3.7/dist-packages (from distributed>=2.2.0->auto-sklearn) (5.1.1)\n",
            "Requirement already satisfied: msgpack>=0.6.0 in /usr/local/lib/python3.7/dist-packages (from distributed>=2.2.0->auto-sklearn) (1.0.2)\n",
            "Requirement already satisfied: threadpoolctl>=2.0.0 in /usr/local/lib/python3.7/dist-packages (from scikit-learn<0.25.0,>=0.24.0->auto-sklearn) (2.1.0)\n",
            "Requirement already satisfied: six>=1.5 in /usr/local/lib/python3.7/dist-packages (from python-dateutil>=2.7.3->pandas>=1.0->auto-sklearn) (1.15.0)\n",
            "Requirement already satisfied: importlib-metadata; python_version < \"3.8\" in /usr/local/lib/python3.7/dist-packages (from fsspec>=0.6.0->dask->auto-sklearn) (3.7.2)\n",
            "Requirement already satisfied: locket in /usr/local/lib/python3.7/dist-packages (from partd>=0.3.10->dask->auto-sklearn) (0.2.1)\n",
            "Requirement already satisfied: heapdict in /usr/local/lib/python3.7/dist-packages (from zict>=0.1.3->distributed>=2.2.0->auto-sklearn) (1.0.1)\n",
            "Requirement already satisfied: typing-extensions>=3.6.4; python_version < \"3.8\" in /usr/local/lib/python3.7/dist-packages (from importlib-metadata; python_version < \"3.8\"->fsspec>=0.6.0->dask->auto-sklearn) (3.7.4.3)\n",
            "Requirement already satisfied: zipp>=0.5 in /usr/local/lib/python3.7/dist-packages (from importlib-metadata; python_version < \"3.8\"->fsspec>=0.6.0->dask->auto-sklearn) (3.4.1)\n",
            "Requirement already up-to-date: dask[complete] in /usr/local/lib/python3.7/dist-packages (2021.3.1)\n",
            "Requirement already up-to-date: distributed in /usr/local/lib/python3.7/dist-packages (2021.3.1)\n",
            "Requirement already satisfied, skipping upgrade: cloudpickle>=1.1.1 in /usr/local/lib/python3.7/dist-packages (from dask[complete]) (1.6.0)\n",
            "Requirement already satisfied, skipping upgrade: pyyaml in /usr/local/lib/python3.7/dist-packages (from dask[complete]) (3.13)\n",
            "Requirement already satisfied, skipping upgrade: toolz>=0.8.2 in /usr/local/lib/python3.7/dist-packages (from dask[complete]) (0.11.1)\n",
            "Requirement already satisfied, skipping upgrade: fsspec>=0.6.0 in /usr/local/lib/python3.7/dist-packages (from dask[complete]) (0.8.7)\n",
            "Requirement already satisfied, skipping upgrade: partd>=0.3.10 in /usr/local/lib/python3.7/dist-packages (from dask[complete]) (1.1.0)\n",
            "Requirement already satisfied, skipping upgrade: bokeh!=2.0.0,>=1.0.0; extra == \"complete\" in /usr/local/lib/python3.7/dist-packages (from dask[complete]) (2.1.1)\n",
            "Requirement already satisfied, skipping upgrade: pandas>=0.25.0; extra == \"complete\" in /usr/local/lib/python3.7/dist-packages (from dask[complete]) (1.1.5)\n",
            "Requirement already satisfied, skipping upgrade: numpy>=1.16; extra == \"complete\" in /usr/local/lib/python3.7/dist-packages (from dask[complete]) (1.19.5)\n",
            "Requirement already satisfied, skipping upgrade: tblib>=1.6.0 in /usr/local/lib/python3.7/dist-packages (from distributed) (1.7.0)\n",
            "Requirement already satisfied, skipping upgrade: click>=6.6 in /usr/local/lib/python3.7/dist-packages (from distributed) (7.1.2)\n",
            "Requirement already satisfied, skipping upgrade: sortedcontainers!=2.0.0,!=2.0.1 in /usr/local/lib/python3.7/dist-packages (from distributed) (2.3.0)\n",
            "Requirement already satisfied, skipping upgrade: tornado>=5; python_version < \"3.8\" in /usr/local/lib/python3.7/dist-packages (from distributed) (5.1.1)\n",
            "Requirement already satisfied, skipping upgrade: psutil>=5.0 in /usr/local/lib/python3.7/dist-packages (from distributed) (5.4.8)\n",
            "Requirement already satisfied, skipping upgrade: setuptools in /usr/local/lib/python3.7/dist-packages (from distributed) (54.1.2)\n",
            "Requirement already satisfied, skipping upgrade: zict>=0.1.3 in /usr/local/lib/python3.7/dist-packages (from distributed) (2.0.0)\n",
            "Requirement already satisfied, skipping upgrade: msgpack>=0.6.0 in /usr/local/lib/python3.7/dist-packages (from distributed) (1.0.2)\n",
            "Requirement already satisfied, skipping upgrade: importlib-metadata; python_version < \"3.8\" in /usr/local/lib/python3.7/dist-packages (from fsspec>=0.6.0->dask[complete]) (3.7.2)\n",
            "Requirement already satisfied, skipping upgrade: locket in /usr/local/lib/python3.7/dist-packages (from partd>=0.3.10->dask[complete]) (0.2.1)\n",
            "Requirement already satisfied, skipping upgrade: packaging>=16.8 in /usr/local/lib/python3.7/dist-packages (from bokeh!=2.0.0,>=1.0.0; extra == \"complete\"->dask[complete]) (20.9)\n",
            "Requirement already satisfied, skipping upgrade: pillow>=4.0 in /usr/local/lib/python3.7/dist-packages (from bokeh!=2.0.0,>=1.0.0; extra == \"complete\"->dask[complete]) (7.0.0)\n",
            "Requirement already satisfied, skipping upgrade: Jinja2>=2.7 in /usr/local/lib/python3.7/dist-packages (from bokeh!=2.0.0,>=1.0.0; extra == \"complete\"->dask[complete]) (2.11.3)\n",
            "Requirement already satisfied, skipping upgrade: python-dateutil>=2.1 in /usr/local/lib/python3.7/dist-packages (from bokeh!=2.0.0,>=1.0.0; extra == \"complete\"->dask[complete]) (2.8.1)\n",
            "Requirement already satisfied, skipping upgrade: typing-extensions>=3.7.4 in /usr/local/lib/python3.7/dist-packages (from bokeh!=2.0.0,>=1.0.0; extra == \"complete\"->dask[complete]) (3.7.4.3)\n",
            "Requirement already satisfied, skipping upgrade: pytz>=2017.2 in /usr/local/lib/python3.7/dist-packages (from pandas>=0.25.0; extra == \"complete\"->dask[complete]) (2018.9)\n",
            "Requirement already satisfied, skipping upgrade: heapdict in /usr/local/lib/python3.7/dist-packages (from zict>=0.1.3->distributed) (1.0.1)\n",
            "Requirement already satisfied, skipping upgrade: zipp>=0.5 in /usr/local/lib/python3.7/dist-packages (from importlib-metadata; python_version < \"3.8\"->fsspec>=0.6.0->dask[complete]) (3.4.1)\n",
            "Requirement already satisfied, skipping upgrade: pyparsing>=2.0.2 in /usr/local/lib/python3.7/dist-packages (from packaging>=16.8->bokeh!=2.0.0,>=1.0.0; extra == \"complete\"->dask[complete]) (2.4.7)\n",
            "Requirement already satisfied, skipping upgrade: MarkupSafe>=0.23 in /usr/local/lib/python3.7/dist-packages (from Jinja2>=2.7->bokeh!=2.0.0,>=1.0.0; extra == \"complete\"->dask[complete]) (1.1.1)\n",
            "Requirement already satisfied, skipping upgrade: six>=1.5 in /usr/local/lib/python3.7/dist-packages (from python-dateutil>=2.1->bokeh!=2.0.0,>=1.0.0; extra == \"complete\"->dask[complete]) (1.15.0)\n",
            "Requirement already up-to-date: dask[distributed] in /usr/local/lib/python3.7/dist-packages (2021.3.1)\n",
            "Requirement already satisfied, skipping upgrade: cloudpickle>=1.1.1 in /usr/local/lib/python3.7/dist-packages (from dask[distributed]) (1.6.0)\n",
            "Requirement already satisfied, skipping upgrade: pyyaml in /usr/local/lib/python3.7/dist-packages (from dask[distributed]) (3.13)\n",
            "Requirement already satisfied, skipping upgrade: partd>=0.3.10 in /usr/local/lib/python3.7/dist-packages (from dask[distributed]) (1.1.0)\n",
            "Requirement already satisfied, skipping upgrade: fsspec>=0.6.0 in /usr/local/lib/python3.7/dist-packages (from dask[distributed]) (0.8.7)\n",
            "Requirement already satisfied, skipping upgrade: toolz>=0.8.2 in /usr/local/lib/python3.7/dist-packages (from dask[distributed]) (0.11.1)\n",
            "Requirement already satisfied, skipping upgrade: distributed>=2021.03.0; extra == \"distributed\" in /usr/local/lib/python3.7/dist-packages (from dask[distributed]) (2021.3.1)\n",
            "Requirement already satisfied, skipping upgrade: locket in /usr/local/lib/python3.7/dist-packages (from partd>=0.3.10->dask[distributed]) (0.2.1)\n",
            "Requirement already satisfied, skipping upgrade: importlib-metadata; python_version < \"3.8\" in /usr/local/lib/python3.7/dist-packages (from fsspec>=0.6.0->dask[distributed]) (3.7.2)\n",
            "Requirement already satisfied, skipping upgrade: setuptools in /usr/local/lib/python3.7/dist-packages (from distributed>=2021.03.0; extra == \"distributed\"->dask[distributed]) (54.1.2)\n",
            "Requirement already satisfied, skipping upgrade: sortedcontainers!=2.0.0,!=2.0.1 in /usr/local/lib/python3.7/dist-packages (from distributed>=2021.03.0; extra == \"distributed\"->dask[distributed]) (2.3.0)\n",
            "Requirement already satisfied, skipping upgrade: tornado>=5; python_version < \"3.8\" in /usr/local/lib/python3.7/dist-packages (from distributed>=2021.03.0; extra == \"distributed\"->dask[distributed]) (5.1.1)\n",
            "Requirement already satisfied, skipping upgrade: psutil>=5.0 in /usr/local/lib/python3.7/dist-packages (from distributed>=2021.03.0; extra == \"distributed\"->dask[distributed]) (5.4.8)\n",
            "Requirement already satisfied, skipping upgrade: tblib>=1.6.0 in /usr/local/lib/python3.7/dist-packages (from distributed>=2021.03.0; extra == \"distributed\"->dask[distributed]) (1.7.0)\n",
            "Requirement already satisfied, skipping upgrade: zict>=0.1.3 in /usr/local/lib/python3.7/dist-packages (from distributed>=2021.03.0; extra == \"distributed\"->dask[distributed]) (2.0.0)\n",
            "Requirement already satisfied, skipping upgrade: msgpack>=0.6.0 in /usr/local/lib/python3.7/dist-packages (from distributed>=2021.03.0; extra == \"distributed\"->dask[distributed]) (1.0.2)\n",
            "Requirement already satisfied, skipping upgrade: click>=6.6 in /usr/local/lib/python3.7/dist-packages (from distributed>=2021.03.0; extra == \"distributed\"->dask[distributed]) (7.1.2)\n",
            "Requirement already satisfied, skipping upgrade: typing-extensions>=3.6.4; python_version < \"3.8\" in /usr/local/lib/python3.7/dist-packages (from importlib-metadata; python_version < \"3.8\"->fsspec>=0.6.0->dask[distributed]) (3.7.4.3)\n",
            "Requirement already satisfied, skipping upgrade: zipp>=0.5 in /usr/local/lib/python3.7/dist-packages (from importlib-metadata; python_version < \"3.8\"->fsspec>=0.6.0->dask[distributed]) (3.4.1)\n",
            "Requirement already satisfied, skipping upgrade: heapdict in /usr/local/lib/python3.7/dist-packages (from zict>=0.1.3->distributed>=2021.03.0; extra == \"distributed\"->dask[distributed]) (1.0.1)\n"
          ],
          "name": "stdout"
        }
      ]
    },
    {
      "cell_type": "code",
      "metadata": {
        "colab": {
          "base_uri": "https://localhost:8080/"
        },
        "id": "tVCYOSXrijCC",
        "outputId": "483500f7-be0c-466a-b500-3a969a921145"
      },
      "source": [
        "!pip install -U imbalanced-learn"
      ],
      "execution_count": 3,
      "outputs": [
        {
          "output_type": "stream",
          "text": [
            "Collecting imbalanced-learn\n",
            "\u001b[?25l  Downloading https://files.pythonhosted.org/packages/80/98/dc784205a7e3034e84d41ac4781660c67ad6327f2f5a80c568df31673d1c/imbalanced_learn-0.8.0-py3-none-any.whl (206kB)\n",
            "\r\u001b[K     |█▋                              | 10kB 11.8MB/s eta 0:00:01\r\u001b[K     |███▏                            | 20kB 16.2MB/s eta 0:00:01\r\u001b[K     |████▊                           | 30kB 9.4MB/s eta 0:00:01\r\u001b[K     |██████▍                         | 40kB 7.0MB/s eta 0:00:01\r\u001b[K     |████████                        | 51kB 4.5MB/s eta 0:00:01\r\u001b[K     |█████████▌                      | 61kB 5.1MB/s eta 0:00:01\r\u001b[K     |███████████                     | 71kB 4.9MB/s eta 0:00:01\r\u001b[K     |████████████▊                   | 81kB 5.3MB/s eta 0:00:01\r\u001b[K     |██████████████▎                 | 92kB 5.4MB/s eta 0:00:01\r\u001b[K     |███████████████▉                | 102kB 4.4MB/s eta 0:00:01\r\u001b[K     |█████████████████▌              | 112kB 4.4MB/s eta 0:00:01\r\u001b[K     |███████████████████             | 122kB 4.4MB/s eta 0:00:01\r\u001b[K     |████████████████████▋           | 133kB 4.4MB/s eta 0:00:01\r\u001b[K     |██████████████████████▏         | 143kB 4.4MB/s eta 0:00:01\r\u001b[K     |███████████████████████▉        | 153kB 4.4MB/s eta 0:00:01\r\u001b[K     |█████████████████████████▍      | 163kB 4.4MB/s eta 0:00:01\r\u001b[K     |███████████████████████████     | 174kB 4.4MB/s eta 0:00:01\r\u001b[K     |████████████████████████████▋   | 184kB 4.4MB/s eta 0:00:01\r\u001b[K     |██████████████████████████████▏ | 194kB 4.4MB/s eta 0:00:01\r\u001b[K     |███████████████████████████████▊| 204kB 4.4MB/s eta 0:00:01\r\u001b[K     |████████████████████████████████| 215kB 4.4MB/s \n",
            "\u001b[?25hRequirement already satisfied, skipping upgrade: scikit-learn>=0.24 in /usr/local/lib/python3.7/dist-packages (from imbalanced-learn) (0.24.1)\n",
            "Requirement already satisfied, skipping upgrade: joblib>=0.11 in /usr/local/lib/python3.7/dist-packages (from imbalanced-learn) (1.0.1)\n",
            "Requirement already satisfied, skipping upgrade: scipy>=0.19.1 in /usr/local/lib/python3.7/dist-packages (from imbalanced-learn) (1.4.1)\n",
            "Requirement already satisfied, skipping upgrade: numpy>=1.13.3 in /usr/local/lib/python3.7/dist-packages (from imbalanced-learn) (1.19.5)\n",
            "Requirement already satisfied, skipping upgrade: threadpoolctl>=2.0.0 in /usr/local/lib/python3.7/dist-packages (from scikit-learn>=0.24->imbalanced-learn) (2.1.0)\n",
            "Installing collected packages: imbalanced-learn\n",
            "  Found existing installation: imbalanced-learn 0.4.3\n",
            "    Uninstalling imbalanced-learn-0.4.3:\n",
            "      Successfully uninstalled imbalanced-learn-0.4.3\n",
            "Successfully installed imbalanced-learn-0.8.0\n"
          ],
          "name": "stdout"
        }
      ]
    },
    {
      "cell_type": "markdown",
      "metadata": {
        "id": "6nVx5_2l0vCL"
      },
      "source": [
        "## Importando as bibliotecas"
      ]
    },
    {
      "cell_type": "code",
      "metadata": {
        "colab": {
          "base_uri": "https://localhost:8080/"
        },
        "id": "g8L5kdxww7qZ",
        "outputId": "0e834562-58b8-4b38-f7d9-5e369678daa2"
      },
      "source": [
        "import pandas as pd\n",
        "import numpy as np\n",
        "import seaborn as sns\n",
        "import matplotlib.pyplot as plt\n",
        "\n",
        "import sklearn.metrics\n",
        "import autosklearn.classification\n",
        "\n",
        "from sklearn.model_selection import train_test_split\n",
        "from sklearn.dummy import DummyClassifier\n",
        "from sklearn.preprocessing import LabelEncoder\n",
        "from sklearn.metrics import plot_confusion_matrix\n",
        "from sklearn.metrics import accuracy_score\n",
        "from sklearn.model_selection import cross_val_predict\n",
        "from sklearn.metrics import classification_report\n",
        "from sklearn.metrics import plot_roc_curve\n",
        "\n",
        "from imblearn.over_sampling import SMOTE, ADASYN, BorderlineSMOTE, SVMSMOTE, KMeansSMOTE,SMOTEN, SMOTENC, RandomOverSampler\n",
        "from imblearn.under_sampling import RandomUnderSampler, NearMiss, EditedNearestNeighbours, RepeatedEditedNearestNeighbours,AllKNN, CondensedNearestNeighbour\n",
        "from imblearn.under_sampling import OneSidedSelection, NeighbourhoodCleaningRule, InstanceHardnessThreshold\n",
        "from imblearn.combine import SMOTEENN, SMOTETomek"
      ],
      "execution_count": 1,
      "outputs": [
        {
          "output_type": "stream",
          "text": [
            "/usr/local/lib/python3.7/dist-packages/pyparsing.py:3190: FutureWarning: Possible set intersection at position 3\n",
            "  self.re = re.compile(self.reString)\n"
          ],
          "name": "stderr"
        }
      ]
    },
    {
      "cell_type": "markdown",
      "metadata": {
        "id": "kB_NsfE_1lkm"
      },
      "source": [
        "## Importação dos dados"
      ]
    },
    {
      "cell_type": "code",
      "metadata": {
        "id": "2ibO9L3Tw7sm"
      },
      "source": [
        "churn = pd.read_csv('WA_Fn-UseC_-Telco-Customer-Churn (1).csv')"
      ],
      "execution_count": 30,
      "outputs": []
    },
    {
      "cell_type": "markdown",
      "metadata": {
        "id": "zLd_v_ay22Zm"
      },
      "source": [
        "## Análise Exploratória dos dados\n",
        "\n",
        "Primeiras observações da base de dados."
      ]
    },
    {
      "cell_type": "code",
      "metadata": {
        "colab": {
          "base_uri": "https://localhost:8080/",
          "height": 292
        },
        "id": "r4wLwwF-w7ut",
        "outputId": "524a47c4-5c9c-4e25-fa9f-0690bdf9fccb"
      },
      "source": [
        "churn.head()"
      ],
      "execution_count": 4,
      "outputs": [
        {
          "output_type": "execute_result",
          "data": {
            "text/html": [
              "<div>\n",
              "<style scoped>\n",
              "    .dataframe tbody tr th:only-of-type {\n",
              "        vertical-align: middle;\n",
              "    }\n",
              "\n",
              "    .dataframe tbody tr th {\n",
              "        vertical-align: top;\n",
              "    }\n",
              "\n",
              "    .dataframe thead th {\n",
              "        text-align: right;\n",
              "    }\n",
              "</style>\n",
              "<table border=\"1\" class=\"dataframe\">\n",
              "  <thead>\n",
              "    <tr style=\"text-align: right;\">\n",
              "      <th></th>\n",
              "      <th>customerID</th>\n",
              "      <th>gender</th>\n",
              "      <th>SeniorCitizen</th>\n",
              "      <th>Partner</th>\n",
              "      <th>Dependents</th>\n",
              "      <th>tenure</th>\n",
              "      <th>PhoneService</th>\n",
              "      <th>MultipleLines</th>\n",
              "      <th>InternetService</th>\n",
              "      <th>OnlineSecurity</th>\n",
              "      <th>OnlineBackup</th>\n",
              "      <th>DeviceProtection</th>\n",
              "      <th>TechSupport</th>\n",
              "      <th>StreamingTV</th>\n",
              "      <th>StreamingMovies</th>\n",
              "      <th>Contract</th>\n",
              "      <th>PaperlessBilling</th>\n",
              "      <th>PaymentMethod</th>\n",
              "      <th>MonthlyCharges</th>\n",
              "      <th>TotalCharges</th>\n",
              "      <th>Churn</th>\n",
              "    </tr>\n",
              "  </thead>\n",
              "  <tbody>\n",
              "    <tr>\n",
              "      <th>0</th>\n",
              "      <td>7590-VHVEG</td>\n",
              "      <td>Female</td>\n",
              "      <td>0</td>\n",
              "      <td>Yes</td>\n",
              "      <td>No</td>\n",
              "      <td>1</td>\n",
              "      <td>No</td>\n",
              "      <td>No phone service</td>\n",
              "      <td>DSL</td>\n",
              "      <td>No</td>\n",
              "      <td>Yes</td>\n",
              "      <td>No</td>\n",
              "      <td>No</td>\n",
              "      <td>No</td>\n",
              "      <td>No</td>\n",
              "      <td>Month-to-month</td>\n",
              "      <td>Yes</td>\n",
              "      <td>Electronic check</td>\n",
              "      <td>29.85</td>\n",
              "      <td>29.85</td>\n",
              "      <td>No</td>\n",
              "    </tr>\n",
              "    <tr>\n",
              "      <th>1</th>\n",
              "      <td>5575-GNVDE</td>\n",
              "      <td>Male</td>\n",
              "      <td>0</td>\n",
              "      <td>No</td>\n",
              "      <td>No</td>\n",
              "      <td>34</td>\n",
              "      <td>Yes</td>\n",
              "      <td>No</td>\n",
              "      <td>DSL</td>\n",
              "      <td>Yes</td>\n",
              "      <td>No</td>\n",
              "      <td>Yes</td>\n",
              "      <td>No</td>\n",
              "      <td>No</td>\n",
              "      <td>No</td>\n",
              "      <td>One year</td>\n",
              "      <td>No</td>\n",
              "      <td>Mailed check</td>\n",
              "      <td>56.95</td>\n",
              "      <td>1889.5</td>\n",
              "      <td>No</td>\n",
              "    </tr>\n",
              "    <tr>\n",
              "      <th>2</th>\n",
              "      <td>3668-QPYBK</td>\n",
              "      <td>Male</td>\n",
              "      <td>0</td>\n",
              "      <td>No</td>\n",
              "      <td>No</td>\n",
              "      <td>2</td>\n",
              "      <td>Yes</td>\n",
              "      <td>No</td>\n",
              "      <td>DSL</td>\n",
              "      <td>Yes</td>\n",
              "      <td>Yes</td>\n",
              "      <td>No</td>\n",
              "      <td>No</td>\n",
              "      <td>No</td>\n",
              "      <td>No</td>\n",
              "      <td>Month-to-month</td>\n",
              "      <td>Yes</td>\n",
              "      <td>Mailed check</td>\n",
              "      <td>53.85</td>\n",
              "      <td>108.15</td>\n",
              "      <td>Yes</td>\n",
              "    </tr>\n",
              "    <tr>\n",
              "      <th>3</th>\n",
              "      <td>7795-CFOCW</td>\n",
              "      <td>Male</td>\n",
              "      <td>0</td>\n",
              "      <td>No</td>\n",
              "      <td>No</td>\n",
              "      <td>45</td>\n",
              "      <td>No</td>\n",
              "      <td>No phone service</td>\n",
              "      <td>DSL</td>\n",
              "      <td>Yes</td>\n",
              "      <td>No</td>\n",
              "      <td>Yes</td>\n",
              "      <td>Yes</td>\n",
              "      <td>No</td>\n",
              "      <td>No</td>\n",
              "      <td>One year</td>\n",
              "      <td>No</td>\n",
              "      <td>Bank transfer (automatic)</td>\n",
              "      <td>42.30</td>\n",
              "      <td>1840.75</td>\n",
              "      <td>No</td>\n",
              "    </tr>\n",
              "    <tr>\n",
              "      <th>4</th>\n",
              "      <td>9237-HQITU</td>\n",
              "      <td>Female</td>\n",
              "      <td>0</td>\n",
              "      <td>No</td>\n",
              "      <td>No</td>\n",
              "      <td>2</td>\n",
              "      <td>Yes</td>\n",
              "      <td>No</td>\n",
              "      <td>Fiber optic</td>\n",
              "      <td>No</td>\n",
              "      <td>No</td>\n",
              "      <td>No</td>\n",
              "      <td>No</td>\n",
              "      <td>No</td>\n",
              "      <td>No</td>\n",
              "      <td>Month-to-month</td>\n",
              "      <td>Yes</td>\n",
              "      <td>Electronic check</td>\n",
              "      <td>70.70</td>\n",
              "      <td>151.65</td>\n",
              "      <td>Yes</td>\n",
              "    </tr>\n",
              "  </tbody>\n",
              "</table>\n",
              "</div>"
            ],
            "text/plain": [
              "   customerID  gender  SeniorCitizen  ... MonthlyCharges TotalCharges  Churn\n",
              "0  7590-VHVEG  Female              0  ...          29.85        29.85     No\n",
              "1  5575-GNVDE    Male              0  ...          56.95       1889.5     No\n",
              "2  3668-QPYBK    Male              0  ...          53.85       108.15    Yes\n",
              "3  7795-CFOCW    Male              0  ...          42.30      1840.75     No\n",
              "4  9237-HQITU  Female              0  ...          70.70       151.65    Yes\n",
              "\n",
              "[5 rows x 21 columns]"
            ]
          },
          "metadata": {
            "tags": []
          },
          "execution_count": 4
        }
      ]
    },
    {
      "cell_type": "markdown",
      "metadata": {
        "id": "uG1t0etK7Pwn"
      },
      "source": [
        "Últimas observações da base de dados."
      ]
    },
    {
      "cell_type": "code",
      "metadata": {
        "colab": {
          "base_uri": "https://localhost:8080/",
          "height": 292
        },
        "id": "JB4NoAyQ7M7W",
        "outputId": "cff29ab4-3815-4f16-9e1f-c053d9397367"
      },
      "source": [
        "churn.tail()"
      ],
      "execution_count": 5,
      "outputs": [
        {
          "output_type": "execute_result",
          "data": {
            "text/html": [
              "<div>\n",
              "<style scoped>\n",
              "    .dataframe tbody tr th:only-of-type {\n",
              "        vertical-align: middle;\n",
              "    }\n",
              "\n",
              "    .dataframe tbody tr th {\n",
              "        vertical-align: top;\n",
              "    }\n",
              "\n",
              "    .dataframe thead th {\n",
              "        text-align: right;\n",
              "    }\n",
              "</style>\n",
              "<table border=\"1\" class=\"dataframe\">\n",
              "  <thead>\n",
              "    <tr style=\"text-align: right;\">\n",
              "      <th></th>\n",
              "      <th>customerID</th>\n",
              "      <th>gender</th>\n",
              "      <th>SeniorCitizen</th>\n",
              "      <th>Partner</th>\n",
              "      <th>Dependents</th>\n",
              "      <th>tenure</th>\n",
              "      <th>PhoneService</th>\n",
              "      <th>MultipleLines</th>\n",
              "      <th>InternetService</th>\n",
              "      <th>OnlineSecurity</th>\n",
              "      <th>OnlineBackup</th>\n",
              "      <th>DeviceProtection</th>\n",
              "      <th>TechSupport</th>\n",
              "      <th>StreamingTV</th>\n",
              "      <th>StreamingMovies</th>\n",
              "      <th>Contract</th>\n",
              "      <th>PaperlessBilling</th>\n",
              "      <th>PaymentMethod</th>\n",
              "      <th>MonthlyCharges</th>\n",
              "      <th>TotalCharges</th>\n",
              "      <th>Churn</th>\n",
              "    </tr>\n",
              "  </thead>\n",
              "  <tbody>\n",
              "    <tr>\n",
              "      <th>7038</th>\n",
              "      <td>6840-RESVB</td>\n",
              "      <td>Male</td>\n",
              "      <td>0</td>\n",
              "      <td>Yes</td>\n",
              "      <td>Yes</td>\n",
              "      <td>24</td>\n",
              "      <td>Yes</td>\n",
              "      <td>Yes</td>\n",
              "      <td>DSL</td>\n",
              "      <td>Yes</td>\n",
              "      <td>No</td>\n",
              "      <td>Yes</td>\n",
              "      <td>Yes</td>\n",
              "      <td>Yes</td>\n",
              "      <td>Yes</td>\n",
              "      <td>One year</td>\n",
              "      <td>Yes</td>\n",
              "      <td>Mailed check</td>\n",
              "      <td>84.80</td>\n",
              "      <td>1990.5</td>\n",
              "      <td>No</td>\n",
              "    </tr>\n",
              "    <tr>\n",
              "      <th>7039</th>\n",
              "      <td>2234-XADUH</td>\n",
              "      <td>Female</td>\n",
              "      <td>0</td>\n",
              "      <td>Yes</td>\n",
              "      <td>Yes</td>\n",
              "      <td>72</td>\n",
              "      <td>Yes</td>\n",
              "      <td>Yes</td>\n",
              "      <td>Fiber optic</td>\n",
              "      <td>No</td>\n",
              "      <td>Yes</td>\n",
              "      <td>Yes</td>\n",
              "      <td>No</td>\n",
              "      <td>Yes</td>\n",
              "      <td>Yes</td>\n",
              "      <td>One year</td>\n",
              "      <td>Yes</td>\n",
              "      <td>Credit card (automatic)</td>\n",
              "      <td>103.20</td>\n",
              "      <td>7362.9</td>\n",
              "      <td>No</td>\n",
              "    </tr>\n",
              "    <tr>\n",
              "      <th>7040</th>\n",
              "      <td>4801-JZAZL</td>\n",
              "      <td>Female</td>\n",
              "      <td>0</td>\n",
              "      <td>Yes</td>\n",
              "      <td>Yes</td>\n",
              "      <td>11</td>\n",
              "      <td>No</td>\n",
              "      <td>No phone service</td>\n",
              "      <td>DSL</td>\n",
              "      <td>Yes</td>\n",
              "      <td>No</td>\n",
              "      <td>No</td>\n",
              "      <td>No</td>\n",
              "      <td>No</td>\n",
              "      <td>No</td>\n",
              "      <td>Month-to-month</td>\n",
              "      <td>Yes</td>\n",
              "      <td>Electronic check</td>\n",
              "      <td>29.60</td>\n",
              "      <td>346.45</td>\n",
              "      <td>No</td>\n",
              "    </tr>\n",
              "    <tr>\n",
              "      <th>7041</th>\n",
              "      <td>8361-LTMKD</td>\n",
              "      <td>Male</td>\n",
              "      <td>1</td>\n",
              "      <td>Yes</td>\n",
              "      <td>No</td>\n",
              "      <td>4</td>\n",
              "      <td>Yes</td>\n",
              "      <td>Yes</td>\n",
              "      <td>Fiber optic</td>\n",
              "      <td>No</td>\n",
              "      <td>No</td>\n",
              "      <td>No</td>\n",
              "      <td>No</td>\n",
              "      <td>No</td>\n",
              "      <td>No</td>\n",
              "      <td>Month-to-month</td>\n",
              "      <td>Yes</td>\n",
              "      <td>Mailed check</td>\n",
              "      <td>74.40</td>\n",
              "      <td>306.6</td>\n",
              "      <td>Yes</td>\n",
              "    </tr>\n",
              "    <tr>\n",
              "      <th>7042</th>\n",
              "      <td>3186-AJIEK</td>\n",
              "      <td>Male</td>\n",
              "      <td>0</td>\n",
              "      <td>No</td>\n",
              "      <td>No</td>\n",
              "      <td>66</td>\n",
              "      <td>Yes</td>\n",
              "      <td>No</td>\n",
              "      <td>Fiber optic</td>\n",
              "      <td>Yes</td>\n",
              "      <td>No</td>\n",
              "      <td>Yes</td>\n",
              "      <td>Yes</td>\n",
              "      <td>Yes</td>\n",
              "      <td>Yes</td>\n",
              "      <td>Two year</td>\n",
              "      <td>Yes</td>\n",
              "      <td>Bank transfer (automatic)</td>\n",
              "      <td>105.65</td>\n",
              "      <td>6844.5</td>\n",
              "      <td>No</td>\n",
              "    </tr>\n",
              "  </tbody>\n",
              "</table>\n",
              "</div>"
            ],
            "text/plain": [
              "      customerID  gender  SeniorCitizen  ... MonthlyCharges TotalCharges  Churn\n",
              "7038  6840-RESVB    Male              0  ...          84.80       1990.5     No\n",
              "7039  2234-XADUH  Female              0  ...         103.20       7362.9     No\n",
              "7040  4801-JZAZL  Female              0  ...          29.60       346.45     No\n",
              "7041  8361-LTMKD    Male              1  ...          74.40        306.6    Yes\n",
              "7042  3186-AJIEK    Male              0  ...         105.65       6844.5     No\n",
              "\n",
              "[5 rows x 21 columns]"
            ]
          },
          "metadata": {
            "tags": []
          },
          "execution_count": 5
        }
      ]
    },
    {
      "cell_type": "markdown",
      "metadata": {
        "id": "QGdOH1BM33EN"
      },
      "source": [
        "Informações sobre as variáveis: Das 21 variáveis, 18 são objetos (valores não numéricos), por isso teremos que transformá-las em numéricas para que possam ser aplicadas no processo de *auto machine learning*."
      ]
    },
    {
      "cell_type": "code",
      "metadata": {
        "colab": {
          "base_uri": "https://localhost:8080/"
        },
        "id": "nUxMM-_cw7yW",
        "outputId": "43b23ef9-1c94-489f-91f9-4fc68924ab2d"
      },
      "source": [
        "churn.info()"
      ],
      "execution_count": 6,
      "outputs": [
        {
          "output_type": "stream",
          "text": [
            "<class 'pandas.core.frame.DataFrame'>\n",
            "RangeIndex: 7043 entries, 0 to 7042\n",
            "Data columns (total 21 columns):\n",
            " #   Column            Non-Null Count  Dtype  \n",
            "---  ------            --------------  -----  \n",
            " 0   customerID        7043 non-null   object \n",
            " 1   gender            7043 non-null   object \n",
            " 2   SeniorCitizen     7043 non-null   int64  \n",
            " 3   Partner           7043 non-null   object \n",
            " 4   Dependents        7043 non-null   object \n",
            " 5   tenure            7043 non-null   int64  \n",
            " 6   PhoneService      7043 non-null   object \n",
            " 7   MultipleLines     7043 non-null   object \n",
            " 8   InternetService   7043 non-null   object \n",
            " 9   OnlineSecurity    7043 non-null   object \n",
            " 10  OnlineBackup      7043 non-null   object \n",
            " 11  DeviceProtection  7043 non-null   object \n",
            " 12  TechSupport       7043 non-null   object \n",
            " 13  StreamingTV       7043 non-null   object \n",
            " 14  StreamingMovies   7043 non-null   object \n",
            " 15  Contract          7043 non-null   object \n",
            " 16  PaperlessBilling  7043 non-null   object \n",
            " 17  PaymentMethod     7043 non-null   object \n",
            " 18  MonthlyCharges    7043 non-null   float64\n",
            " 19  TotalCharges      7043 non-null   object \n",
            " 20  Churn             7043 non-null   object \n",
            "dtypes: float64(1), int64(2), object(18)\n",
            "memory usage: 1.1+ MB\n"
          ],
          "name": "stdout"
        }
      ]
    },
    {
      "cell_type": "markdown",
      "metadata": {
        "id": "CgLCLLkVL1x7"
      },
      "source": [
        "Número de valores únicos de cada coluna."
      ]
    },
    {
      "cell_type": "code",
      "metadata": {
        "colab": {
          "base_uri": "https://localhost:8080/"
        },
        "id": "LOptzqMpLc8s",
        "outputId": "3a0e1aa4-dd76-4d93-d0f2-cbe4895832e5"
      },
      "source": [
        "churn.nunique()"
      ],
      "execution_count": 7,
      "outputs": [
        {
          "output_type": "execute_result",
          "data": {
            "text/plain": [
              "customerID          7043\n",
              "gender                 2\n",
              "SeniorCitizen          2\n",
              "Partner                2\n",
              "Dependents             2\n",
              "tenure                73\n",
              "PhoneService           2\n",
              "MultipleLines          3\n",
              "InternetService        3\n",
              "OnlineSecurity         3\n",
              "OnlineBackup           3\n",
              "DeviceProtection       3\n",
              "TechSupport            3\n",
              "StreamingTV            3\n",
              "StreamingMovies        3\n",
              "Contract               3\n",
              "PaperlessBilling       2\n",
              "PaymentMethod          4\n",
              "MonthlyCharges      1585\n",
              "TotalCharges        6531\n",
              "Churn                  2\n",
              "dtype: int64"
            ]
          },
          "metadata": {
            "tags": []
          },
          "execution_count": 7
        }
      ]
    },
    {
      "cell_type": "markdown",
      "metadata": {
        "id": "aFwZcZ2DL7tD"
      },
      "source": [
        "Não há valores faltantes."
      ]
    },
    {
      "cell_type": "code",
      "metadata": {
        "colab": {
          "base_uri": "https://localhost:8080/"
        },
        "id": "XQfVUog0w7we",
        "outputId": "afa95a48-1884-40dd-ede8-a43483365cce"
      },
      "source": [
        "churn.isna().sum()"
      ],
      "execution_count": 8,
      "outputs": [
        {
          "output_type": "execute_result",
          "data": {
            "text/plain": [
              "customerID          0\n",
              "gender              0\n",
              "SeniorCitizen       0\n",
              "Partner             0\n",
              "Dependents          0\n",
              "tenure              0\n",
              "PhoneService        0\n",
              "MultipleLines       0\n",
              "InternetService     0\n",
              "OnlineSecurity      0\n",
              "OnlineBackup        0\n",
              "DeviceProtection    0\n",
              "TechSupport         0\n",
              "StreamingTV         0\n",
              "StreamingMovies     0\n",
              "Contract            0\n",
              "PaperlessBilling    0\n",
              "PaymentMethod       0\n",
              "MonthlyCharges      0\n",
              "TotalCharges        0\n",
              "Churn               0\n",
              "dtype: int64"
            ]
          },
          "metadata": {
            "tags": []
          },
          "execution_count": 8
        }
      ]
    },
    {
      "cell_type": "code",
      "metadata": {
        "colab": {
          "base_uri": "https://localhost:8080/",
          "height": 746
        },
        "id": "z6JWLP_ew70W",
        "outputId": "25e0c5d2-5a52-4456-f793-af0e3072e246"
      },
      "source": [
        "print('Tabela estatística das variáveis numéricas')\n",
        "display(churn.describe().T)\n",
        "print(' '*508)\n",
        "print(\"Tabela estatística das variáveis categóricas\")\n",
        "display(churn.describe(include='O').T)"
      ],
      "execution_count": 9,
      "outputs": [
        {
          "output_type": "stream",
          "text": [
            "Tabela estatística das variáveis numéricas\n"
          ],
          "name": "stdout"
        },
        {
          "output_type": "display_data",
          "data": {
            "text/html": [
              "<div>\n",
              "<style scoped>\n",
              "    .dataframe tbody tr th:only-of-type {\n",
              "        vertical-align: middle;\n",
              "    }\n",
              "\n",
              "    .dataframe tbody tr th {\n",
              "        vertical-align: top;\n",
              "    }\n",
              "\n",
              "    .dataframe thead th {\n",
              "        text-align: right;\n",
              "    }\n",
              "</style>\n",
              "<table border=\"1\" class=\"dataframe\">\n",
              "  <thead>\n",
              "    <tr style=\"text-align: right;\">\n",
              "      <th></th>\n",
              "      <th>count</th>\n",
              "      <th>mean</th>\n",
              "      <th>std</th>\n",
              "      <th>min</th>\n",
              "      <th>25%</th>\n",
              "      <th>50%</th>\n",
              "      <th>75%</th>\n",
              "      <th>max</th>\n",
              "    </tr>\n",
              "  </thead>\n",
              "  <tbody>\n",
              "    <tr>\n",
              "      <th>SeniorCitizen</th>\n",
              "      <td>7043.0</td>\n",
              "      <td>0.162147</td>\n",
              "      <td>0.368612</td>\n",
              "      <td>0.00</td>\n",
              "      <td>0.0</td>\n",
              "      <td>0.00</td>\n",
              "      <td>0.00</td>\n",
              "      <td>1.00</td>\n",
              "    </tr>\n",
              "    <tr>\n",
              "      <th>tenure</th>\n",
              "      <td>7043.0</td>\n",
              "      <td>32.371149</td>\n",
              "      <td>24.559481</td>\n",
              "      <td>0.00</td>\n",
              "      <td>9.0</td>\n",
              "      <td>29.00</td>\n",
              "      <td>55.00</td>\n",
              "      <td>72.00</td>\n",
              "    </tr>\n",
              "    <tr>\n",
              "      <th>MonthlyCharges</th>\n",
              "      <td>7043.0</td>\n",
              "      <td>64.761692</td>\n",
              "      <td>30.090047</td>\n",
              "      <td>18.25</td>\n",
              "      <td>35.5</td>\n",
              "      <td>70.35</td>\n",
              "      <td>89.85</td>\n",
              "      <td>118.75</td>\n",
              "    </tr>\n",
              "  </tbody>\n",
              "</table>\n",
              "</div>"
            ],
            "text/plain": [
              "                 count       mean        std    min   25%    50%    75%     max\n",
              "SeniorCitizen   7043.0   0.162147   0.368612   0.00   0.0   0.00   0.00    1.00\n",
              "tenure          7043.0  32.371149  24.559481   0.00   9.0  29.00  55.00   72.00\n",
              "MonthlyCharges  7043.0  64.761692  30.090047  18.25  35.5  70.35  89.85  118.75"
            ]
          },
          "metadata": {
            "tags": []
          }
        },
        {
          "output_type": "stream",
          "text": [
            "INFO:numexpr.utils:NumExpr defaulting to 2 threads.\n"
          ],
          "name": "stderr"
        },
        {
          "output_type": "stream",
          "text": [
            "                                                                                                                                                                                                                                                                                                                                                                                                                                                                                                                            \n",
            "Tabela estatística das variáveis categóricas\n"
          ],
          "name": "stdout"
        },
        {
          "output_type": "display_data",
          "data": {
            "text/html": [
              "<div>\n",
              "<style scoped>\n",
              "    .dataframe tbody tr th:only-of-type {\n",
              "        vertical-align: middle;\n",
              "    }\n",
              "\n",
              "    .dataframe tbody tr th {\n",
              "        vertical-align: top;\n",
              "    }\n",
              "\n",
              "    .dataframe thead th {\n",
              "        text-align: right;\n",
              "    }\n",
              "</style>\n",
              "<table border=\"1\" class=\"dataframe\">\n",
              "  <thead>\n",
              "    <tr style=\"text-align: right;\">\n",
              "      <th></th>\n",
              "      <th>count</th>\n",
              "      <th>unique</th>\n",
              "      <th>top</th>\n",
              "      <th>freq</th>\n",
              "    </tr>\n",
              "  </thead>\n",
              "  <tbody>\n",
              "    <tr>\n",
              "      <th>customerID</th>\n",
              "      <td>7043</td>\n",
              "      <td>7043</td>\n",
              "      <td>8681-ICONS</td>\n",
              "      <td>1</td>\n",
              "    </tr>\n",
              "    <tr>\n",
              "      <th>gender</th>\n",
              "      <td>7043</td>\n",
              "      <td>2</td>\n",
              "      <td>Male</td>\n",
              "      <td>3555</td>\n",
              "    </tr>\n",
              "    <tr>\n",
              "      <th>Partner</th>\n",
              "      <td>7043</td>\n",
              "      <td>2</td>\n",
              "      <td>No</td>\n",
              "      <td>3641</td>\n",
              "    </tr>\n",
              "    <tr>\n",
              "      <th>Dependents</th>\n",
              "      <td>7043</td>\n",
              "      <td>2</td>\n",
              "      <td>No</td>\n",
              "      <td>4933</td>\n",
              "    </tr>\n",
              "    <tr>\n",
              "      <th>PhoneService</th>\n",
              "      <td>7043</td>\n",
              "      <td>2</td>\n",
              "      <td>Yes</td>\n",
              "      <td>6361</td>\n",
              "    </tr>\n",
              "    <tr>\n",
              "      <th>MultipleLines</th>\n",
              "      <td>7043</td>\n",
              "      <td>3</td>\n",
              "      <td>No</td>\n",
              "      <td>3390</td>\n",
              "    </tr>\n",
              "    <tr>\n",
              "      <th>InternetService</th>\n",
              "      <td>7043</td>\n",
              "      <td>3</td>\n",
              "      <td>Fiber optic</td>\n",
              "      <td>3096</td>\n",
              "    </tr>\n",
              "    <tr>\n",
              "      <th>OnlineSecurity</th>\n",
              "      <td>7043</td>\n",
              "      <td>3</td>\n",
              "      <td>No</td>\n",
              "      <td>3498</td>\n",
              "    </tr>\n",
              "    <tr>\n",
              "      <th>OnlineBackup</th>\n",
              "      <td>7043</td>\n",
              "      <td>3</td>\n",
              "      <td>No</td>\n",
              "      <td>3088</td>\n",
              "    </tr>\n",
              "    <tr>\n",
              "      <th>DeviceProtection</th>\n",
              "      <td>7043</td>\n",
              "      <td>3</td>\n",
              "      <td>No</td>\n",
              "      <td>3095</td>\n",
              "    </tr>\n",
              "    <tr>\n",
              "      <th>TechSupport</th>\n",
              "      <td>7043</td>\n",
              "      <td>3</td>\n",
              "      <td>No</td>\n",
              "      <td>3473</td>\n",
              "    </tr>\n",
              "    <tr>\n",
              "      <th>StreamingTV</th>\n",
              "      <td>7043</td>\n",
              "      <td>3</td>\n",
              "      <td>No</td>\n",
              "      <td>2810</td>\n",
              "    </tr>\n",
              "    <tr>\n",
              "      <th>StreamingMovies</th>\n",
              "      <td>7043</td>\n",
              "      <td>3</td>\n",
              "      <td>No</td>\n",
              "      <td>2785</td>\n",
              "    </tr>\n",
              "    <tr>\n",
              "      <th>Contract</th>\n",
              "      <td>7043</td>\n",
              "      <td>3</td>\n",
              "      <td>Month-to-month</td>\n",
              "      <td>3875</td>\n",
              "    </tr>\n",
              "    <tr>\n",
              "      <th>PaperlessBilling</th>\n",
              "      <td>7043</td>\n",
              "      <td>2</td>\n",
              "      <td>Yes</td>\n",
              "      <td>4171</td>\n",
              "    </tr>\n",
              "    <tr>\n",
              "      <th>PaymentMethod</th>\n",
              "      <td>7043</td>\n",
              "      <td>4</td>\n",
              "      <td>Electronic check</td>\n",
              "      <td>2365</td>\n",
              "    </tr>\n",
              "    <tr>\n",
              "      <th>TotalCharges</th>\n",
              "      <td>7043</td>\n",
              "      <td>6531</td>\n",
              "      <td></td>\n",
              "      <td>11</td>\n",
              "    </tr>\n",
              "    <tr>\n",
              "      <th>Churn</th>\n",
              "      <td>7043</td>\n",
              "      <td>2</td>\n",
              "      <td>No</td>\n",
              "      <td>5174</td>\n",
              "    </tr>\n",
              "  </tbody>\n",
              "</table>\n",
              "</div>"
            ],
            "text/plain": [
              "                 count unique               top  freq\n",
              "customerID        7043   7043        8681-ICONS     1\n",
              "gender            7043      2              Male  3555\n",
              "Partner           7043      2                No  3641\n",
              "Dependents        7043      2                No  4933\n",
              "PhoneService      7043      2               Yes  6361\n",
              "MultipleLines     7043      3                No  3390\n",
              "InternetService   7043      3       Fiber optic  3096\n",
              "OnlineSecurity    7043      3                No  3498\n",
              "OnlineBackup      7043      3                No  3088\n",
              "DeviceProtection  7043      3                No  3095\n",
              "TechSupport       7043      3                No  3473\n",
              "StreamingTV       7043      3                No  2810\n",
              "StreamingMovies   7043      3                No  2785\n",
              "Contract          7043      3    Month-to-month  3875\n",
              "PaperlessBilling  7043      2               Yes  4171\n",
              "PaymentMethod     7043      4  Electronic check  2365\n",
              "TotalCharges      7043   6531                      11\n",
              "Churn             7043      2                No  5174"
            ]
          },
          "metadata": {
            "tags": []
          }
        }
      ]
    },
    {
      "cell_type": "markdown",
      "metadata": {
        "id": "3wMfbqfOQOiW"
      },
      "source": [
        "Dimensão da base de dados."
      ]
    },
    {
      "cell_type": "code",
      "metadata": {
        "colab": {
          "base_uri": "https://localhost:8080/"
        },
        "id": "D-U0WHoVQOtc",
        "outputId": "f5c8c221-a920-4de6-a794-c05cb1bd3baf"
      },
      "source": [
        "churn.shape"
      ],
      "execution_count": 10,
      "outputs": [
        {
          "output_type": "execute_result",
          "data": {
            "text/plain": [
              "(7043, 21)"
            ]
          },
          "metadata": {
            "tags": []
          },
          "execution_count": 10
        }
      ]
    },
    {
      "cell_type": "markdown",
      "metadata": {
        "id": "aZmWdQzlMq6g"
      },
      "source": [
        "## Transformações dos dados\n",
        "\n",
        "Antes de seguir para a análise gráfica é necessário transformar os dados para valores numéricos categóricos, pois muitos estão em formato de texto.\n",
        "\n",
        "Antes irei excluir a coluna *customerID*, pois ele não é relevante para nossa modelagem."
      ]
    },
    {
      "cell_type": "code",
      "metadata": {
        "id": "2j65NW7U-aXZ"
      },
      "source": [
        "#Base que usarei para realizar a análise exploratória de dados\n",
        "churn2=churn\n",
        "churn2['Churn'] = LabelEncoder().fit_transform(churn2['Churn'])"
      ],
      "execution_count": 31,
      "outputs": []
    },
    {
      "cell_type": "code",
      "metadata": {
        "id": "SfMRpxB2NjJU"
      },
      "source": [
        "churn = churn.drop('customerID', axis=1)"
      ],
      "execution_count": 32,
      "outputs": []
    },
    {
      "cell_type": "markdown",
      "metadata": {
        "id": "hjJU4m9VNqk9"
      },
      "source": [
        "Selecionarei todas as colunas que são do tipo objeto."
      ]
    },
    {
      "cell_type": "markdown",
      "metadata": {
        "id": "e20yzvlQReW7"
      },
      "source": [
        "Com o uso do *loop for* irei transformar as variáveis categóricas em numéricas categóricas."
      ]
    },
    {
      "cell_type": "code",
      "metadata": {
        "colab": {
          "base_uri": "https://localhost:8080/"
        },
        "id": "DjZoMWTxebR6",
        "outputId": "e064c540-81b7-44d0-b0de-2510470c37db"
      },
      "source": [
        "churn.select_dtypes(['int64','float64']).columns"
      ],
      "execution_count": 33,
      "outputs": [
        {
          "output_type": "execute_result",
          "data": {
            "text/plain": [
              "Index(['SeniorCitizen', 'tenure', 'MonthlyCharges', 'Churn'], dtype='object')"
            ]
          },
          "metadata": {
            "tags": []
          },
          "execution_count": 33
        }
      ]
    },
    {
      "cell_type": "code",
      "metadata": {
        "id": "DDwJdPUrfX1W"
      },
      "source": [
        "lista3 = ['tenure','MonthlyCharges']\n",
        "for i in lista3:\n",
        "  churn[i] = (churn[i] - churn[i].mean())/(churn[i].std())\n",
        "\n",
        "  #SeniorCitizen não é INT64\n",
        "  #Transformar TotalCharges de object para Float"
      ],
      "execution_count": 34,
      "outputs": []
    },
    {
      "cell_type": "markdown",
      "metadata": {
        "id": "FUAoIumPfWpD"
      },
      "source": [
        "Transformando as variáveis objetos em variáveis numéricas."
      ]
    },
    {
      "cell_type": "code",
      "metadata": {
        "id": "G4bZ5gPSNOK2"
      },
      "source": [
        "#churn['Churn'] = LabelEncoder().fit_transform(churn['Churn'])\n",
        "\n",
        "for i in churn.select_dtypes('object').columns:\n",
        "  churn[i] = LabelEncoder().fit_transform(churn[i])"
      ],
      "execution_count": 35,
      "outputs": []
    },
    {
      "cell_type": "markdown",
      "metadata": {
        "id": "CkMC7OmXRpEm"
      },
      "source": [
        "Abaixo podemos ver que a transformação foi efetuada."
      ]
    },
    {
      "cell_type": "code",
      "metadata": {
        "colab": {
          "base_uri": "https://localhost:8080/",
          "height": 211
        },
        "id": "cIbVmKrfPOZ0",
        "outputId": "52a2d4b1-37b1-46f4-c410-d770cd69f250"
      },
      "source": [
        "churn.head()"
      ],
      "execution_count": 36,
      "outputs": [
        {
          "output_type": "execute_result",
          "data": {
            "text/html": [
              "<div>\n",
              "<style scoped>\n",
              "    .dataframe tbody tr th:only-of-type {\n",
              "        vertical-align: middle;\n",
              "    }\n",
              "\n",
              "    .dataframe tbody tr th {\n",
              "        vertical-align: top;\n",
              "    }\n",
              "\n",
              "    .dataframe thead th {\n",
              "        text-align: right;\n",
              "    }\n",
              "</style>\n",
              "<table border=\"1\" class=\"dataframe\">\n",
              "  <thead>\n",
              "    <tr style=\"text-align: right;\">\n",
              "      <th></th>\n",
              "      <th>gender</th>\n",
              "      <th>SeniorCitizen</th>\n",
              "      <th>Partner</th>\n",
              "      <th>Dependents</th>\n",
              "      <th>tenure</th>\n",
              "      <th>PhoneService</th>\n",
              "      <th>MultipleLines</th>\n",
              "      <th>InternetService</th>\n",
              "      <th>OnlineSecurity</th>\n",
              "      <th>OnlineBackup</th>\n",
              "      <th>DeviceProtection</th>\n",
              "      <th>TechSupport</th>\n",
              "      <th>StreamingTV</th>\n",
              "      <th>StreamingMovies</th>\n",
              "      <th>Contract</th>\n",
              "      <th>PaperlessBilling</th>\n",
              "      <th>PaymentMethod</th>\n",
              "      <th>MonthlyCharges</th>\n",
              "      <th>TotalCharges</th>\n",
              "      <th>Churn</th>\n",
              "    </tr>\n",
              "  </thead>\n",
              "  <tbody>\n",
              "    <tr>\n",
              "      <th>0</th>\n",
              "      <td>0</td>\n",
              "      <td>0</td>\n",
              "      <td>1</td>\n",
              "      <td>0</td>\n",
              "      <td>-1.277354</td>\n",
              "      <td>0</td>\n",
              "      <td>1</td>\n",
              "      <td>0</td>\n",
              "      <td>0</td>\n",
              "      <td>2</td>\n",
              "      <td>0</td>\n",
              "      <td>0</td>\n",
              "      <td>0</td>\n",
              "      <td>0</td>\n",
              "      <td>0</td>\n",
              "      <td>1</td>\n",
              "      <td>2</td>\n",
              "      <td>-1.160241</td>\n",
              "      <td>2505</td>\n",
              "      <td>0</td>\n",
              "    </tr>\n",
              "    <tr>\n",
              "      <th>1</th>\n",
              "      <td>1</td>\n",
              "      <td>0</td>\n",
              "      <td>0</td>\n",
              "      <td>0</td>\n",
              "      <td>0.066323</td>\n",
              "      <td>1</td>\n",
              "      <td>0</td>\n",
              "      <td>0</td>\n",
              "      <td>2</td>\n",
              "      <td>0</td>\n",
              "      <td>2</td>\n",
              "      <td>0</td>\n",
              "      <td>0</td>\n",
              "      <td>0</td>\n",
              "      <td>1</td>\n",
              "      <td>0</td>\n",
              "      <td>3</td>\n",
              "      <td>-0.259611</td>\n",
              "      <td>1466</td>\n",
              "      <td>0</td>\n",
              "    </tr>\n",
              "    <tr>\n",
              "      <th>2</th>\n",
              "      <td>1</td>\n",
              "      <td>0</td>\n",
              "      <td>0</td>\n",
              "      <td>0</td>\n",
              "      <td>-1.236636</td>\n",
              "      <td>1</td>\n",
              "      <td>0</td>\n",
              "      <td>0</td>\n",
              "      <td>2</td>\n",
              "      <td>2</td>\n",
              "      <td>0</td>\n",
              "      <td>0</td>\n",
              "      <td>0</td>\n",
              "      <td>0</td>\n",
              "      <td>0</td>\n",
              "      <td>1</td>\n",
              "      <td>3</td>\n",
              "      <td>-0.362635</td>\n",
              "      <td>157</td>\n",
              "      <td>1</td>\n",
              "    </tr>\n",
              "    <tr>\n",
              "      <th>3</th>\n",
              "      <td>1</td>\n",
              "      <td>0</td>\n",
              "      <td>0</td>\n",
              "      <td>0</td>\n",
              "      <td>0.514215</td>\n",
              "      <td>0</td>\n",
              "      <td>1</td>\n",
              "      <td>0</td>\n",
              "      <td>2</td>\n",
              "      <td>0</td>\n",
              "      <td>2</td>\n",
              "      <td>2</td>\n",
              "      <td>0</td>\n",
              "      <td>0</td>\n",
              "      <td>1</td>\n",
              "      <td>0</td>\n",
              "      <td>0</td>\n",
              "      <td>-0.746482</td>\n",
              "      <td>1400</td>\n",
              "      <td>0</td>\n",
              "    </tr>\n",
              "    <tr>\n",
              "      <th>4</th>\n",
              "      <td>0</td>\n",
              "      <td>0</td>\n",
              "      <td>0</td>\n",
              "      <td>0</td>\n",
              "      <td>-1.236636</td>\n",
              "      <td>1</td>\n",
              "      <td>0</td>\n",
              "      <td>1</td>\n",
              "      <td>0</td>\n",
              "      <td>0</td>\n",
              "      <td>0</td>\n",
              "      <td>0</td>\n",
              "      <td>0</td>\n",
              "      <td>0</td>\n",
              "      <td>0</td>\n",
              "      <td>1</td>\n",
              "      <td>2</td>\n",
              "      <td>0.197351</td>\n",
              "      <td>925</td>\n",
              "      <td>1</td>\n",
              "    </tr>\n",
              "  </tbody>\n",
              "</table>\n",
              "</div>"
            ],
            "text/plain": [
              "   gender  SeniorCitizen  Partner  ...  MonthlyCharges  TotalCharges  Churn\n",
              "0       0              0        1  ...       -1.160241          2505      0\n",
              "1       1              0        0  ...       -0.259611          1466      0\n",
              "2       1              0        0  ...       -0.362635           157      1\n",
              "3       1              0        0  ...       -0.746482          1400      0\n",
              "4       0              0        0  ...        0.197351           925      1\n",
              "\n",
              "[5 rows x 20 columns]"
            ]
          },
          "metadata": {
            "tags": []
          },
          "execution_count": 36
        }
      ]
    },
    {
      "cell_type": "markdown",
      "metadata": {
        "id": "iYG-Aj9YRt0L"
      },
      "source": [
        "E o tipo de dados da base também foi alterado para inteiro (*int64*)."
      ]
    },
    {
      "cell_type": "code",
      "metadata": {
        "colab": {
          "base_uri": "https://localhost:8080/"
        },
        "id": "0holA_xnPOb8",
        "outputId": "d1cabdd9-80c0-464f-d615-685a53825228"
      },
      "source": [
        "churn.dtypes"
      ],
      "execution_count": 37,
      "outputs": [
        {
          "output_type": "execute_result",
          "data": {
            "text/plain": [
              "gender                int64\n",
              "SeniorCitizen         int64\n",
              "Partner               int64\n",
              "Dependents            int64\n",
              "tenure              float64\n",
              "PhoneService          int64\n",
              "MultipleLines         int64\n",
              "InternetService       int64\n",
              "OnlineSecurity        int64\n",
              "OnlineBackup          int64\n",
              "DeviceProtection      int64\n",
              "TechSupport           int64\n",
              "StreamingTV           int64\n",
              "StreamingMovies       int64\n",
              "Contract              int64\n",
              "PaperlessBilling      int64\n",
              "PaymentMethod         int64\n",
              "MonthlyCharges      float64\n",
              "TotalCharges          int64\n",
              "Churn                 int64\n",
              "dtype: object"
            ]
          },
          "metadata": {
            "tags": []
          },
          "execution_count": 37
        }
      ]
    },
    {
      "cell_type": "markdown",
      "metadata": {
        "id": "UQwN-xy_R4ih"
      },
      "source": [
        "Podemos seguir para análise gráfica dos dados."
      ]
    },
    {
      "cell_type": "markdown",
      "metadata": {
        "id": "s-tE9k5V3-IV"
      },
      "source": [
        "### Análise gráfica"
      ]
    },
    {
      "cell_type": "markdown",
      "metadata": {
        "id": "gvN2cIg6C0X1"
      },
      "source": [
        "Conforme os gráficos de barras abaixo temos que:\n",
        "\n",
        "1) Não aparenta haver diferença entre clientes que deixam a empresa quando tratamos de gênero;\n",
        "\n",
        "2) Já para a variável *SeniorCitizen*, aqueles **não idosos** são maioria entre os que deixam de ser clientes da empresa."
      ]
    },
    {
      "cell_type": "code",
      "metadata": {
        "colab": {
          "base_uri": "https://localhost:8080/",
          "height": 213
        },
        "id": "LeOTpT_Il9MJ",
        "outputId": "af0d8b65-2c7e-4769-980a-e3ba721767f9"
      },
      "source": [
        "fig, ax=plt.subplots(1,2,figsize=(20,2.5))\n",
        "ax[0].title.set_text('Gráfico de barras de Churn por gênero')\n",
        "ax[1].title.set_text('Gráfico de barras de Churn se o cliente é idoso ou não')\n",
        "sns.countplot(x='gender', data=churn2, hue='Churn', ax=ax[0])\n",
        "sns.countplot(x='SeniorCitizen', data=churn2, hue='Churn', ax=ax[1]);"
      ],
      "execution_count": 38,
      "outputs": [
        {
          "output_type": "display_data",
          "data": {
            "image/png": "[encoded data removed]",
            "text/plain": [
              "<Figure size 1440x180 with 2 Axes>"
            ]
          },
          "metadata": {
            "tags": [],
            "needs_background": "light"
          }
        }
      ]
    },
    {
      "cell_type": "markdown",
      "metadata": {
        "id": "otQVYK9JNVBi"
      },
      "source": [
        "3) Na variável *MultipleLines*, quem possui e não possui múltiplas linhas telefônicas são os que mais deixam de ser clientes;\n",
        "\n",
        "4) Em *PhoneService*, deixam de ser clientes aqueles indivíduos que possuem algum serviço telefônico."
      ]
    },
    {
      "cell_type": "code",
      "metadata": {
        "colab": {
          "base_uri": "https://localhost:8080/",
          "height": 213
        },
        "id": "c9wE0DcGPOey",
        "outputId": "6aa83e57-2183-467c-efb4-a7332245b773"
      },
      "source": [
        "fig, ax=plt.subplots(1,2,figsize=(20,2.5))\n",
        "ax[0].title.set_text('Gráfico de barras de Churn por MultipleLines')\n",
        "ax[1].title.set_text('Gráfico de barras de Churn por PhoneService')\n",
        "sns.countplot(x='MultipleLines', data=churn2, hue='Churn', ax=ax[0])\n",
        "sns.countplot(x='PhoneService', data=churn2, hue='Churn', ax=ax[1]);"
      ],
      "execution_count": 39,
      "outputs": [
        {
          "output_type": "display_data",
          "data": {
            "image/png": "[encoded data removed]",
            "text/plain": [
              "<Figure size 1440x180 with 2 Axes>"
            ]
          },
          "metadata": {
            "tags": [],
            "needs_background": "light"
          }
        }
      ]
    },
    {
      "cell_type": "markdown",
      "metadata": {
        "id": "Lajk4BulOgCN"
      },
      "source": [
        "No gráfico abaixo vemos o número de meses que um cliente tem até deixar a empresa. Nos primeiros meses, são os meses em que há um maior *churn* de clientes (podemos ver que o primeiro ano como clientes é crucial) e em seguida a quantidade de clientes que deixam a empresa vai caindo."
      ]
    },
    {
      "cell_type": "code",
      "metadata": {
        "colab": {
          "base_uri": "https://localhost:8080/",
          "height": 357
        },
        "id": "O_lBaN6-mVW0",
        "outputId": "c46ea721-22db-4735-eb8e-fe28bb08c854"
      },
      "source": [
        "plt.figure(figsize=(20,5))\n",
        "sns.countplot(x='tenure', data=churn2, hue='Churn')\n",
        "plt.ylabel('')\n",
        "plt.xlabel('Meses até o Churn',size=15)\n",
        "plt.title('Quantidade de meses até o cliente deixar a empresa',size=15);"
      ],
      "execution_count": 40,
      "outputs": [
        {
          "output_type": "display_data",
          "data": {
            "image/png": "[encoded data removed]",
            "text/plain": [
              "<Figure size 1440x360 with 1 Axes>"
            ]
          },
          "metadata": {
            "tags": [],
            "needs_background": "light"
          }
        }
      ]
    },
    {
      "cell_type": "markdown",
      "metadata": {
        "id": "Gnn9ZpkmPfcf"
      },
      "source": [
        "5) Em *InternetService*, a quantidade maior de *churn* vem de clientes que possuíam o serviço de Fibra Ótica;\n",
        "\n",
        "6) E indivíduos que não possuem segurança *online* (*OnlineSecurity*), são os que mais deixam de ser clientes;"
      ]
    },
    {
      "cell_type": "code",
      "metadata": {
        "colab": {
          "base_uri": "https://localhost:8080/",
          "height": 213
        },
        "id": "MPiCQNp8mLSF",
        "outputId": "dc8ee136-6070-426c-b60c-3bcbbf44f0aa"
      },
      "source": [
        "fig, ax=plt.subplots(1,2,figsize=(20,2.5))\n",
        "ax[0].title.set_text('Gráfico de barras de Churn por InternetService')\n",
        "ax[1].title.set_text('Gráfico de barras de Churn por OnlineSecurity')\n",
        "sns.countplot(x='InternetService', data=churn2, hue='Churn', ax=ax[0])\n",
        "sns.countplot(x='OnlineSecurity', data=churn2, hue='Churn', ax=ax[1]);"
      ],
      "execution_count": 41,
      "outputs": [
        {
          "output_type": "display_data",
          "data": {
            "image/png": "[encoded data removed]",
            "text/plain": [
              "<Figure size 1440x180 with 2 Axes>"
            ]
          },
          "metadata": {
            "tags": [],
            "needs_background": "light"
          }
        }
      ]
    },
    {
      "cell_type": "markdown",
      "metadata": {
        "id": "UigMsGOcQtpK"
      },
      "source": [
        "7) Aqueles que não possuem *backup online* são os que mais deixam de ser clientes;\n",
        "\n",
        "8) *DeviceProtection* : Clientes sem proteção de dispositivo são os que mais deixam de ser clientes;"
      ]
    },
    {
      "cell_type": "code",
      "metadata": {
        "colab": {
          "base_uri": "https://localhost:8080/",
          "height": 213
        },
        "id": "BTmToDFfms8M",
        "outputId": "6d3495c8-0d96-4754-9616-f89a1b9da7b4"
      },
      "source": [
        "fig, ax=plt.subplots(1,2,figsize=(20,2.5))\n",
        "ax[0].title.set_text('Gráfico de barras de Churn por OnlineBackup')\n",
        "ax[1].title.set_text('Gráfico de barras de Churn por DeviceProtection')\n",
        "sns.countplot(x='OnlineBackup', data=churn2, hue='Churn', ax=ax[0])\n",
        "sns.countplot(x='DeviceProtection', data=churn2, hue='Churn', ax=ax[1]);"
      ],
      "execution_count": 42,
      "outputs": [
        {
          "output_type": "display_data",
          "data": {
            "image/png": "[encoded data removed]",
            "text/plain": [
              "<Figure size 1440x180 with 2 Axes>"
            ]
          },
          "metadata": {
            "tags": [],
            "needs_background": "light"
          }
        }
      ]
    },
    {
      "cell_type": "markdown",
      "metadata": {
        "id": "PWw20Z1QRdig"
      },
      "source": [
        "9) *TechSupport* : Quem não possui suporte técnico são os que mais deixam de serem clientes;\n",
        "\n",
        "10) *StreamingTV* : Nessa variável que possui e não possui sistema de *Streaming* debandam da carteira de clientes da empresa;"
      ]
    },
    {
      "cell_type": "code",
      "metadata": {
        "colab": {
          "base_uri": "https://localhost:8080/",
          "height": 213
        },
        "id": "lE9-AxUSm4uz",
        "outputId": "804d1b2f-9949-4559-c1a1-864e2e63805b"
      },
      "source": [
        "fig, ax=plt.subplots(1,2,figsize=(20,2.5))\n",
        "ax[0].title.set_text('Gráfico de barras de Churn por TechSupport')\n",
        "ax[1].title.set_text('Gráfico de barras de Churn por StreamingTV')\n",
        "sns.countplot(x='TechSupport', data=churn2, hue='Churn', ax=ax[0])\n",
        "sns.countplot(x='StreamingTV', data=churn2, hue='Churn', ax=ax[1]);"
      ],
      "execution_count": 43,
      "outputs": [
        {
          "output_type": "display_data",
          "data": {
            "image/png": "[encoded data removed]",
            "text/plain": [
              "<Figure size 1440x180 with 2 Axes>"
            ]
          },
          "metadata": {
            "tags": [],
            "needs_background": "light"
          }
        }
      ]
    },
    {
      "cell_type": "markdown",
      "metadata": {
        "id": "7upTeJT9RiBb"
      },
      "source": [
        "11) *StreamingMovies* : Resultado semelhante aos da variável *StreamingTV*;\n",
        "\n",
        "12) Quem faz contrato mês a mês (*month-to-month*) são os que mais deixam de serem clientes;"
      ]
    },
    {
      "cell_type": "code",
      "metadata": {
        "colab": {
          "base_uri": "https://localhost:8080/",
          "height": 213
        },
        "id": "RN3KXrJRnNzn",
        "outputId": "98adbb0e-126f-44ea-d0ca-ad21c332742f"
      },
      "source": [
        "fig, ax=plt.subplots(1,2,figsize=(20,2.5))\n",
        "ax[0].title.set_text('Gráfico de barras de Churn por StreamingMovies')\n",
        "ax[1].title.set_text('Gráfico de barras de Churn por Contract')\n",
        "sns.countplot(x='StreamingMovies', data=churn2, hue='Churn', ax=ax[0])\n",
        "sns.countplot(x='Contract', data=churn2, hue='Churn', ax=ax[1]);"
      ],
      "execution_count": 44,
      "outputs": [
        {
          "output_type": "display_data",
          "data": {
            "image/png": "[encoded data removed]",
            "text/plain": [
              "<Figure size 1440x180 with 2 Axes>"
            ]
          },
          "metadata": {
            "tags": [],
            "needs_background": "light"
          }
        }
      ]
    },
    {
      "cell_type": "markdown",
      "metadata": {
        "id": "HkddkAI8Srs2"
      },
      "source": [
        "13) Quem tem faturamento sem papel são os que mais deixam de serem clientes;\n",
        "\n",
        "14) *PaymentMethod* : Aqueles que pagam com cheque eletrônico são os que mais abandonam a carteira de clientes da empresa."
      ]
    },
    {
      "cell_type": "code",
      "metadata": {
        "colab": {
          "base_uri": "https://localhost:8080/",
          "height": 213
        },
        "id": "DgB0VmI1nc0C",
        "outputId": "7cbbc123-8bb0-4b13-c0f0-e1bbde58e6ba"
      },
      "source": [
        "fig, ax=plt.subplots(1,2,figsize=(20,2.5))\n",
        "ax[0].title.set_text('Gráfico de barras de Churn por PaperlessBilling')\n",
        "ax[1].title.set_text('Gráfico de barras de Churn por PaymentMethod')\n",
        "sns.countplot(x='PaperlessBilling', data=churn2, hue='Churn', ax=ax[0])\n",
        "sns.countplot(x='PaymentMethod', data=churn2, hue='Churn', ax=ax[1]);"
      ],
      "execution_count": 45,
      "outputs": [
        {
          "output_type": "display_data",
          "data": {
            "image/png": "[encoded data removed]",
            "text/plain": [
              "<Figure size 1440x180 with 2 Axes>"
            ]
          },
          "metadata": {
            "tags": [],
            "needs_background": "light"
          }
        }
      ]
    },
    {
      "cell_type": "markdown",
      "metadata": {
        "id": "XwblhN_qUo6r"
      },
      "source": [
        "Abaixo pode-se pobservar o histograma e o *boxplot* da variável *MonthlyCharges*.\n",
        "\n",
        "A distribuição dos dados não possui a aparência de uma distribuição normal (formato de sino) e o seu *boxplot* não mostra a presenta de valores discrepantes nos dados (*outliers*)."
      ]
    },
    {
      "cell_type": "code",
      "metadata": {
        "colab": {
          "base_uri": "https://localhost:8080/",
          "height": 350
        },
        "id": "O0gzfiuTUpF_",
        "outputId": "bc94586b-36e7-4dc1-f79a-9b7977f88280"
      },
      "source": [
        "fig, ax = plt.subplots(1,2,figsize=(20,5))\n",
        "ax[0].title.set_text('Histograma da variável MonthlyCharges')\n",
        "ax[1].title.set_text('Boxplot da variável MonthlyCharges')\n",
        "sns.histplot(x='MonthlyCharges', data=churn2, ax=ax[0])\n",
        "sns.boxplot(x='MonthlyCharges', data=churn2, ax=ax[1]);"
      ],
      "execution_count": 46,
      "outputs": [
        {
          "output_type": "display_data",
          "data": {
            "image/png": "[encoded data removed]",
            "text/plain": [
              "<Figure size 1440x360 with 2 Axes>"
            ]
          },
          "metadata": {
            "tags": [],
            "needs_background": "light"
          }
        }
      ]
    },
    {
      "cell_type": "markdown",
      "metadata": {
        "id": "mZbUtaIiUS3H"
      },
      "source": [
        "## Modelagem de dados\n",
        "\n",
        "Separando as *features* e a variável *target* (alvo)."
      ]
    },
    {
      "cell_type": "code",
      "metadata": {
        "id": "Csvl6H6hR8vm"
      },
      "source": [
        "X=churn.drop([\"Churn\",'TotalCharges'],axis=1)\n",
        "y=churn['Churn']"
      ],
      "execution_count": 47,
      "outputs": []
    },
    {
      "cell_type": "markdown",
      "metadata": {
        "id": "vl_qFJjRX2rD"
      },
      "source": [
        "Um dos problemas da variável *Churn* as suas classes estão desbalanceadas e isso traz um problema na momento de treino do algoritmo em que o modelo irá aprender mais de um padrão de uma classe do que da outra. Para solucionar esse problema é necessário realizar um procedimento chamado de rebalanceamento das classes, que pode ser aumentando artificialmente o número de observações da classe minoritária (*Oversampling*), ou minimizando o número de observações da classe marjoritária (*Undersampling*) ou combinando essas técnicas.\n",
        "\n",
        "Abaixo vemos o desbalancemento das classes: temos mais da classe 0 do que a classe 1 (que é a que queremos prever - se o cliente deixa ou não a empresa)."
      ]
    },
    {
      "cell_type": "code",
      "metadata": {
        "colab": {
          "base_uri": "https://localhost:8080/",
          "height": 357
        },
        "id": "6DR_kCaMY1dn",
        "outputId": "5bf5d30b-fdd3-4314-9e7b-639baa064b54"
      },
      "source": [
        "plt.figure(figsize=(20,5))\n",
        "plt.title('Classes da variável Churn desbalanceadas', size=15)\n",
        "sns.countplot(x='Churn', data=churn2)\n",
        "plt.xlabel('Classes', size=15)\n",
        "plt.ylabel('');"
      ],
      "execution_count": 48,
      "outputs": [
        {
          "output_type": "display_data",
          "data": {
            "image/png": "[encoded data removed]",
            "text/plain": [
              "<Figure size 1440x360 with 1 Axes>"
            ]
          },
          "metadata": {
            "tags": [],
            "needs_background": "light"
          }
        }
      ]
    },
    {
      "cell_type": "markdown",
      "metadata": {
        "id": "_UMv169kvoIe"
      },
      "source": [
        "Rebalanceamento das classes com vários algoritmos de reamostragem de dados. Aqui irei aplicar model0s de *Oversampling*, de *Undersampling* e dessas duas técnicas de forma combinada."
      ]
    },
    {
      "cell_type": "code",
      "metadata": {
        "id": "G4d60myQR8tU"
      },
      "source": [
        "#Algoritmos de Oversampling\n",
        "X1,y1=SMOTE().fit_resample(X,y)\n",
        "X2,y2=ADASYN().fit_resample(X,y)\n",
        "X3,y3=BorderlineSMOTE().fit_resample(X,y)\n",
        "X4,y4=SVMSMOTE().fit_resample(X,y)\n",
        "X5,y5=KMeansSMOTE().fit_resample(X,y)\n",
        "X6,y6=SMOTEN().fit_resample(X,y)\n",
        "#X7,y7=SMOTENC().fit_resample(X,y)\n",
        "X8,y8=RandomOverSampler().fit_resample(X,y)\n",
        "\n",
        "#Algoritmos de Undersampling\n",
        "X9,y9=RandomUnderSampler().fit_resample(X,y)\n",
        "X10,y10=NearMiss().fit_resample(X,y)\n",
        "X11,y11=EditedNearestNeighbours().fit_resample(X,y)\n",
        "X12,y12=RepeatedEditedNearestNeighbours().fit_resample(X,y)\n",
        "X13,y13=AllKNN().fit_resample(X,y)\n",
        "#X14,y14=CondensedNearestNeighbour().fit_resample(X,y)\n",
        "X15,y15=OneSidedSelection().fit_resample(X,y)\n",
        "X16,y16=NeighbourhoodCleaningRule().fit_resample(X,y)\n",
        "X17,y17=InstanceHardnessThreshold().fit_resample(X,y)\n",
        "\n",
        "#Técnicas combinadas\n",
        "X18,y18=SMOTEENN().fit_resample(X,y)\n",
        "X19,y19=SMOTETomek().fit_resample(X,y)\n"
      ],
      "execution_count": 49,
      "outputs": []
    },
    {
      "cell_type": "markdown",
      "metadata": {
        "id": "GNcCanbKhOIP"
      },
      "source": [
        "Exemplo de reamostragem dos dados."
      ]
    },
    {
      "cell_type": "code",
      "metadata": {
        "colab": {
          "base_uri": "https://localhost:8080/",
          "height": 333
        },
        "id": "Ne6xEyKuvACe",
        "outputId": "2fb0943d-8f4e-49f4-e5e4-2a4db53e2170"
      },
      "source": [
        "fig, ax = plt.subplots(1,2, figsize=(20,5))\n",
        "sns.countplot(x='Churn', data=pd.DataFrame(y), ax=ax[0])\n",
        "sns.countplot(x='Churn', data = pd.DataFrame(y9), ax=ax[1]);"
      ],
      "execution_count": 50,
      "outputs": [
        {
          "output_type": "display_data",
          "data": {
            "image/png": "[encoded data removed]",
            "text/plain": [
              "<Figure size 1440x360 with 2 Axes>"
            ]
          },
          "metadata": {
            "tags": [],
            "needs_background": "light"
          }
        }
      ]
    },
    {
      "cell_type": "markdown",
      "metadata": {
        "id": "80SpG2XhZyxK"
      },
      "source": [
        "Separando os dados de treino e de teste."
      ]
    },
    {
      "cell_type": "code",
      "metadata": {
        "id": "3bFBAMFoR8xP"
      },
      "source": [
        "X_treino, X_teste, y_treino, y_teste = train_test_split(X,y, random_state=42)\n",
        "X_treino1, X_teste1, y_treino1, y_teste1 = train_test_split(X1,y1, random_state=42)\n",
        "X_treino2, X_teste2, y_treino2, y_teste2 = train_test_split(X2,y2, random_state=42)\n",
        "X_treino3, X_teste3, y_treino3, y_teste3 = train_test_split(X3,y3, random_state=42)\n",
        "X_treino4, X_teste4, y_treino4, y_teste4 = train_test_split(X4,y4, random_state=42)\n",
        "X_treino5, X_teste5, y_treino5, y_teste5 = train_test_split(X5,y5, random_state=42)\n",
        "X_treino6, X_teste6, y_treino6, y_teste6 = train_test_split(X6,y6, random_state=42)\n",
        "X_treino8, X_teste8, y_treino8, y_teste8 = train_test_split(X8,y8, random_state=42)\n",
        "X_treino9, X_teste9, y_treino9, y_teste9 = train_test_split(X9,y9, random_state=42)\n",
        "X_treino10, X_teste10, y_treino10, y_teste10 = train_test_split(X10,y10, random_state=42)\n",
        "X_treino11, X_teste11, y_treino11, y_teste11 = train_test_split(X11,y11, random_state=42)\n",
        "X_treino12, X_teste12, y_treino12, y_teste12 = train_test_split(X12,y12, random_state=42)\n",
        "X_treino13, X_teste13, y_treino13, y_teste13 = train_test_split(X13,y13, random_state=42)\n",
        "X_treino15, X_teste15, y_treino15, y_teste15 = train_test_split(X15,y15, random_state=42)\n",
        "X_treino16, X_teste16, y_treino16, y_teste16 = train_test_split(X16,y16, random_state=42)\n",
        "X_treino17, X_teste17, y_treino17, y_teste17 = train_test_split(X17,y17, random_state=42)\n",
        "X_treino18, X_teste18, y_treino18, y_teste18 = train_test_split(X18,y18, random_state=42)\n",
        "X_treino19, X_teste19, y_treino19, y_teste19 = train_test_split(X19,y19, random_state=42)"
      ],
      "execution_count": 51,
      "outputs": []
    },
    {
      "cell_type": "markdown",
      "metadata": {
        "id": "E1UBAkHtiUlD"
      },
      "source": [
        "### Treinando os modelos"
      ]
    },
    {
      "cell_type": "code",
      "metadata": {
        "colab": {
          "base_uri": "https://localhost:8080/"
        },
        "id": "MBpznP3ZR8zD",
        "outputId": "9dc0794b-0e2f-4557-b696-28a6393587d3"
      },
      "source": [
        "#Instanciando o modelo\n",
        "automl = autosklearn.classification.AutoSklearnClassifier(time_left_for_this_task=30)\n",
        "automl.fit(pd.DataFrame(X_treino), pd.DataFrame(y_treino), dataset_name='churn')\n",
        "\n",
        "automl1 = autosklearn.classification.AutoSklearnClassifier(time_left_for_this_task=30)\n",
        "automl1.fit(pd.DataFrame(X_treino1), pd.DataFrame(y_treino1), dataset_name='churn')\n",
        "\n",
        "automl2 = autosklearn.classification.AutoSklearnClassifier(time_left_for_this_task=30)\n",
        "automl2.fit(pd.DataFrame(X_treino2), pd.DataFrame(y_treino2), dataset_name='churn')\n",
        "\n",
        "automl3 = autosklearn.classification.AutoSklearnClassifier(time_left_for_this_task=30)\n",
        "automl3.fit(pd.DataFrame(X_treino3), pd.DataFrame(y_treino3), dataset_name='churn')\n",
        "\n",
        "automl4 = autosklearn.classification.AutoSklearnClassifier(time_left_for_this_task=30)\n",
        "automl4.fit(pd.DataFrame(X_treino4), pd.DataFrame(y_treino4), dataset_name='churn')\n",
        "\n",
        "automl5 = autosklearn.classification.AutoSklearnClassifier(time_left_for_this_task=30)\n",
        "automl5.fit(pd.DataFrame(X_treino5), pd.DataFrame(y_treino5), dataset_name='churn')\n",
        "\n",
        "automl6 = autosklearn.classification.AutoSklearnClassifier(time_left_for_this_task=30)\n",
        "automl6.fit(pd.DataFrame(X_treino6), pd.DataFrame(y_treino6), dataset_name='churn')\n",
        "\n",
        "automl8 = autosklearn.classification.AutoSklearnClassifier(time_left_for_this_task=30)\n",
        "automl8.fit(pd.DataFrame(X_treino8), pd.DataFrame(y_treino8), dataset_name='churn')\n",
        "\n",
        "automl9 = autosklearn.classification.AutoSklearnClassifier(time_left_for_this_task=30)\n",
        "automl9.fit(pd.DataFrame(X_treino9), pd.DataFrame(y_treino9), dataset_name='churn')\n",
        "\n",
        "automl10 = autosklearn.classification.AutoSklearnClassifier(time_left_for_this_task=30)\n",
        "automl10.fit(pd.DataFrame(X_treino10), pd.DataFrame(y_treino10), dataset_name='churn')\n",
        "\n",
        "automl11 = autosklearn.classification.AutoSklearnClassifier(time_left_for_this_task=30)\n",
        "automl11.fit(pd.DataFrame(X_treino11), pd.DataFrame(y_treino11), dataset_name='churn')\n",
        "\n",
        "automl12 = autosklearn.classification.AutoSklearnClassifier(time_left_for_this_task=30)\n",
        "automl12.fit(pd.DataFrame(X_treino12), pd.DataFrame(y_treino12), dataset_name='churn')\n",
        "\n",
        "automl13 = autosklearn.classification.AutoSklearnClassifier(time_left_for_this_task=30)\n",
        "automl13.fit(pd.DataFrame(X_treino13), pd.DataFrame(y_treino13), dataset_name='churn')\n",
        "\n",
        "automl15 = autosklearn.classification.AutoSklearnClassifier(time_left_for_this_task=30)\n",
        "automl15.fit(pd.DataFrame(X_treino15), pd.DataFrame(y_treino15), dataset_name='churn')\n",
        "\n",
        "automl16 = autosklearn.classification.AutoSklearnClassifier(time_left_for_this_task=30)\n",
        "automl16.fit(pd.DataFrame(X_treino16), pd.DataFrame(y_treino16), dataset_name='churn')\n",
        "\n",
        "automl17 = autosklearn.classification.AutoSklearnClassifier(time_left_for_this_task=30)\n",
        "automl17.fit(pd.DataFrame(X_treino17), pd.DataFrame(y_treino17), dataset_name='churn')\n",
        "\n",
        "automl18 = autosklearn.classification.AutoSklearnClassifier(time_left_for_this_task=30)\n",
        "automl18.fit(pd.DataFrame(X_treino18), pd.DataFrame(y_treino18), dataset_name='churn')\n",
        "\n",
        "automl19 = autosklearn.classification.AutoSklearnClassifier(time_left_for_this_task=30)\n",
        "automl19.fit(pd.DataFrame(X_treino19), pd.DataFrame(y_treino19), dataset_name='churn')\n",
        "\n",
        "automl = autosklearn.classification.AutoSklearnClassifier(time_left_for_this_task=30)\n",
        "automl.fit(pd.DataFrame(X_treino), pd.DataFrame(y_treino), dataset_name='churn')\n"
      ],
      "execution_count": 52,
      "outputs": [
        {
          "output_type": "stream",
          "text": [
            "[WARNING] [2021-03-28 18:46:00,135:Client-AutoMLSMBO(1)::churn] Dataset churn already in meta-data. Removing occurence.\n",
            "[WARNING] [2021-03-28 18:46:15,289:Client-EnsembleBuilder] No models better than random - using Dummy Score!Number of models besides current dummy model: 1. Number of dummy models: 1\n",
            "[WARNING] [2021-03-28 18:46:19,376:Client-EnsembleBuilder] No models better than random - using Dummy Score!Number of models besides current dummy model: 1. Number of dummy models: 1\n",
            "[WARNING] [2021-03-28 18:46:25,491:Client-AutoMLSMBO(1)::churn] Dataset churn already in meta-data. Removing occurence.\n",
            "[WARNING] [2021-03-28 18:46:49,390:Client-AutoMLSMBO(1)::churn] Dataset churn already in meta-data. Removing occurence.\n",
            "[WARNING] [2021-03-28 18:47:14,461:Client-AutoMLSMBO(1)::churn] Dataset churn already in meta-data. Removing occurence.\n",
            "[WARNING] [2021-03-28 18:47:40,218:Client-AutoMLSMBO(1)::churn] Dataset churn already in meta-data. Removing occurence.\n",
            "[WARNING] [2021-03-28 18:48:04,819:Client-AutoMLSMBO(1)::churn] Dataset churn already in meta-data. Removing occurence.\n",
            "[WARNING] [2021-03-28 18:48:28,674:Client-AutoMLSMBO(1)::churn] Dataset churn already in meta-data. Removing occurence.\n",
            "[WARNING] [2021-03-28 18:48:53,525:Client-AutoMLSMBO(1)::churn] Dataset churn already in meta-data. Removing occurence.\n",
            "[WARNING] [2021-03-28 18:49:17,352:Client-AutoMLSMBO(1)::churn] Dataset churn already in meta-data. Removing occurence.\n",
            "[WARNING] [2021-03-28 18:49:42,169:Client-AutoMLSMBO(1)::churn] Dataset churn already in meta-data. Removing occurence.\n",
            "[WARNING] [2021-03-28 18:50:06,767:Client-AutoMLSMBO(1)::churn] Dataset churn already in meta-data. Removing occurence.\n",
            "[WARNING] [2021-03-28 18:50:31,698:Client-AutoMLSMBO(1)::churn] Dataset churn already in meta-data. Removing occurence.\n",
            "[WARNING] [2021-03-28 18:50:56,105:Client-AutoMLSMBO(1)::churn] Dataset churn already in meta-data. Removing occurence.\n",
            "[WARNING] [2021-03-28 18:51:19,836:Client-AutoMLSMBO(1)::churn] Dataset churn already in meta-data. Removing occurence.\n",
            "[WARNING] [2021-03-28 18:51:43,596:Client-AutoMLSMBO(1)::churn] Dataset churn already in meta-data. Removing occurence.\n",
            "[WARNING] [2021-03-28 18:52:07,760:Client-AutoMLSMBO(1)::churn] Dataset churn already in meta-data. Removing occurence.\n",
            "[WARNING] [2021-03-28 18:52:32,906:Client-AutoMLSMBO(1)::churn] Dataset churn already in meta-data. Removing occurence.\n",
            "[WARNING] [2021-03-28 18:52:56,372:Client-AutoMLSMBO(1)::churn] Dataset churn already in meta-data. Removing occurence.\n",
            "[WARNING] [2021-03-28 18:53:21,720:Client-AutoMLSMBO(1)::churn] Dataset churn already in meta-data. Removing occurence.\n",
            "[WARNING] [2021-03-28 18:53:38,529:Client-EnsembleBuilder] No models better than random - using Dummy Score!Number of models besides current dummy model: 1. Number of dummy models: 1\n",
            "[WARNING] [2021-03-28 18:53:40,654:Client-EnsembleBuilder] No models better than random - using Dummy Score!Number of models besides current dummy model: 1. Number of dummy models: 1\n"
          ],
          "name": "stdout"
        },
        {
          "output_type": "execute_result",
          "data": {
            "text/plain": [
              "AutoSklearnClassifier(per_run_time_limit=3, time_left_for_this_task=30)"
            ]
          },
          "metadata": {
            "tags": []
          },
          "execution_count": 52
        }
      ]
    },
    {
      "cell_type": "markdown",
      "metadata": {
        "id": "RqAc7oQ6bZ4Z"
      },
      "source": [
        "Imprimindo os modelos"
      ]
    },
    {
      "cell_type": "code",
      "metadata": {
        "id": "6n9otpaUbdE-",
        "colab": {
          "base_uri": "https://localhost:8080/"
        },
        "outputId": "a172766b-d25a-470c-ee3b-e9690941aef1"
      },
      "source": [
        "#print(automl.show_models())\n",
        "\n",
        "print(automl1.show_models())\n",
        "\n",
        "print(automl2.show_models())\n",
        "\n",
        "print(automl3.show_models())\n",
        "\n",
        "print(automl4.show_models())\n",
        "\n",
        "print(automl5.show_models())\n",
        "\n",
        "print(automl6.show_models())\n",
        "\n",
        "print(automl8.show_models())\n",
        "\n",
        "print(automl9.show_models())\n",
        "\n",
        "print(automl10.show_models())\n",
        "\n",
        "print(automl11.show_models())\n",
        "\n",
        "print(automl12.show_models())\n",
        "\n",
        "print(automl13.show_models())\n",
        "\n",
        "#print(automl15.show_models())\n",
        "\n",
        "print(automl16.show_models())\n",
        "\n",
        "print(automl17.show_models())\n",
        "\n",
        "print(automl18.show_models())\n",
        "\n",
        "print(automl19.show_models())\n"
      ],
      "execution_count": 58,
      "outputs": [
        {
          "output_type": "stream",
          "text": [
            "[(1.000000, SimpleClassificationPipeline({'balancing:strategy': 'weighting', 'classifier:__choice__': 'gaussian_nb', 'data_preprocessing:categorical_transformer:categorical_encoding:__choice__': 'no_encoding', 'data_preprocessing:categorical_transformer:category_coalescence:__choice__': 'minority_coalescer', 'data_preprocessing:numerical_transformer:imputation:strategy': 'median', 'data_preprocessing:numerical_transformer:rescaling:__choice__': 'minmax', 'feature_preprocessor:__choice__': 'no_preprocessing', 'data_preprocessing:categorical_transformer:category_coalescence:minority_coalescer:minimum_fraction': 0.004240052356842208},\n",
            "dataset_properties={\n",
            "  'task': 1,\n",
            "  'sparse': False,\n",
            "  'multilabel': False,\n",
            "  'multiclass': False,\n",
            "  'target_type': 'classification',\n",
            "  'signed': False})),\n",
            "]\n",
            "[(0.680000, SimpleClassificationPipeline({'balancing:strategy': 'weighting', 'classifier:__choice__': 'gaussian_nb', 'data_preprocessing:categorical_transformer:categorical_encoding:__choice__': 'one_hot_encoding', 'data_preprocessing:categorical_transformer:category_coalescence:__choice__': 'no_coalescense', 'data_preprocessing:numerical_transformer:imputation:strategy': 'median', 'data_preprocessing:numerical_transformer:rescaling:__choice__': 'none', 'feature_preprocessor:__choice__': 'fast_ica', 'feature_preprocessor:fast_ica:algorithm': 'deflation', 'feature_preprocessor:fast_ica:fun': 'cube', 'feature_preprocessor:fast_ica:whiten': 'False'},\n",
            "dataset_properties={\n",
            "  'task': 1,\n",
            "  'sparse': False,\n",
            "  'multilabel': False,\n",
            "  'multiclass': False,\n",
            "  'target_type': 'classification',\n",
            "  'signed': False})),\n",
            "(0.320000, SimpleClassificationPipeline({'balancing:strategy': 'weighting', 'classifier:__choice__': 'gaussian_nb', 'data_preprocessing:categorical_transformer:categorical_encoding:__choice__': 'no_encoding', 'data_preprocessing:categorical_transformer:category_coalescence:__choice__': 'minority_coalescer', 'data_preprocessing:numerical_transformer:imputation:strategy': 'median', 'data_preprocessing:numerical_transformer:rescaling:__choice__': 'minmax', 'feature_preprocessor:__choice__': 'no_preprocessing', 'data_preprocessing:categorical_transformer:category_coalescence:minority_coalescer:minimum_fraction': 0.004240052356842208},\n",
            "dataset_properties={\n",
            "  'task': 1,\n",
            "  'sparse': False,\n",
            "  'multilabel': False,\n",
            "  'multiclass': False,\n",
            "  'target_type': 'classification',\n",
            "  'signed': False})),\n",
            "]\n",
            "[(0.600000, SimpleClassificationPipeline({'balancing:strategy': 'weighting', 'classifier:__choice__': 'gaussian_nb', 'data_preprocessing:categorical_transformer:categorical_encoding:__choice__': 'no_encoding', 'data_preprocessing:categorical_transformer:category_coalescence:__choice__': 'minority_coalescer', 'data_preprocessing:numerical_transformer:imputation:strategy': 'median', 'data_preprocessing:numerical_transformer:rescaling:__choice__': 'minmax', 'feature_preprocessor:__choice__': 'no_preprocessing', 'data_preprocessing:categorical_transformer:category_coalescence:minority_coalescer:minimum_fraction': 0.004240052356842208},\n",
            "dataset_properties={\n",
            "  'task': 1,\n",
            "  'sparse': False,\n",
            "  'multilabel': False,\n",
            "  'multiclass': False,\n",
            "  'target_type': 'classification',\n",
            "  'signed': False})),\n",
            "(0.400000, SimpleClassificationPipeline({'balancing:strategy': 'weighting', 'classifier:__choice__': 'gaussian_nb', 'data_preprocessing:categorical_transformer:categorical_encoding:__choice__': 'one_hot_encoding', 'data_preprocessing:categorical_transformer:category_coalescence:__choice__': 'no_coalescense', 'data_preprocessing:numerical_transformer:imputation:strategy': 'median', 'data_preprocessing:numerical_transformer:rescaling:__choice__': 'none', 'feature_preprocessor:__choice__': 'fast_ica', 'feature_preprocessor:fast_ica:algorithm': 'deflation', 'feature_preprocessor:fast_ica:fun': 'cube', 'feature_preprocessor:fast_ica:whiten': 'False'},\n",
            "dataset_properties={\n",
            "  'task': 1,\n",
            "  'sparse': False,\n",
            "  'multilabel': False,\n",
            "  'multiclass': False,\n",
            "  'target_type': 'classification',\n",
            "  'signed': False})),\n",
            "]\n",
            "[(0.600000, SimpleClassificationPipeline({'balancing:strategy': 'weighting', 'classifier:__choice__': 'gaussian_nb', 'data_preprocessing:categorical_transformer:categorical_encoding:__choice__': 'one_hot_encoding', 'data_preprocessing:categorical_transformer:category_coalescence:__choice__': 'no_coalescense', 'data_preprocessing:numerical_transformer:imputation:strategy': 'median', 'data_preprocessing:numerical_transformer:rescaling:__choice__': 'none', 'feature_preprocessor:__choice__': 'fast_ica', 'feature_preprocessor:fast_ica:algorithm': 'deflation', 'feature_preprocessor:fast_ica:fun': 'cube', 'feature_preprocessor:fast_ica:whiten': 'False'},\n",
            "dataset_properties={\n",
            "  'task': 1,\n",
            "  'sparse': False,\n",
            "  'multilabel': False,\n",
            "  'multiclass': False,\n",
            "  'target_type': 'classification',\n",
            "  'signed': False})),\n",
            "(0.400000, SimpleClassificationPipeline({'balancing:strategy': 'weighting', 'classifier:__choice__': 'gaussian_nb', 'data_preprocessing:categorical_transformer:categorical_encoding:__choice__': 'no_encoding', 'data_preprocessing:categorical_transformer:category_coalescence:__choice__': 'minority_coalescer', 'data_preprocessing:numerical_transformer:imputation:strategy': 'median', 'data_preprocessing:numerical_transformer:rescaling:__choice__': 'minmax', 'feature_preprocessor:__choice__': 'no_preprocessing', 'data_preprocessing:categorical_transformer:category_coalescence:minority_coalescer:minimum_fraction': 0.004240052356842208},\n",
            "dataset_properties={\n",
            "  'task': 1,\n",
            "  'sparse': False,\n",
            "  'multilabel': False,\n",
            "  'multiclass': False,\n",
            "  'target_type': 'classification',\n",
            "  'signed': False})),\n",
            "]\n",
            "[(1.000000, SimpleClassificationPipeline({'balancing:strategy': 'weighting', 'classifier:__choice__': 'gaussian_nb', 'data_preprocessing:categorical_transformer:categorical_encoding:__choice__': 'no_encoding', 'data_preprocessing:categorical_transformer:category_coalescence:__choice__': 'minority_coalescer', 'data_preprocessing:numerical_transformer:imputation:strategy': 'median', 'data_preprocessing:numerical_transformer:rescaling:__choice__': 'minmax', 'feature_preprocessor:__choice__': 'no_preprocessing', 'data_preprocessing:categorical_transformer:category_coalescence:minority_coalescer:minimum_fraction': 0.004240052356842208},\n",
            "dataset_properties={\n",
            "  'task': 1,\n",
            "  'sparse': False,\n",
            "  'multilabel': False,\n",
            "  'multiclass': False,\n",
            "  'target_type': 'classification',\n",
            "  'signed': False})),\n",
            "]\n",
            "[(0.640000, SimpleClassificationPipeline({'balancing:strategy': 'weighting', 'classifier:__choice__': 'gaussian_nb', 'data_preprocessing:categorical_transformer:categorical_encoding:__choice__': 'no_encoding', 'data_preprocessing:categorical_transformer:category_coalescence:__choice__': 'minority_coalescer', 'data_preprocessing:numerical_transformer:imputation:strategy': 'median', 'data_preprocessing:numerical_transformer:rescaling:__choice__': 'minmax', 'feature_preprocessor:__choice__': 'no_preprocessing', 'data_preprocessing:categorical_transformer:category_coalescence:minority_coalescer:minimum_fraction': 0.004240052356842208},\n",
            "dataset_properties={\n",
            "  'task': 1,\n",
            "  'sparse': False,\n",
            "  'multilabel': False,\n",
            "  'multiclass': False,\n",
            "  'target_type': 'classification',\n",
            "  'signed': False})),\n",
            "(0.360000, SimpleClassificationPipeline({'balancing:strategy': 'weighting', 'classifier:__choice__': 'gaussian_nb', 'data_preprocessing:categorical_transformer:categorical_encoding:__choice__': 'one_hot_encoding', 'data_preprocessing:categorical_transformer:category_coalescence:__choice__': 'no_coalescense', 'data_preprocessing:numerical_transformer:imputation:strategy': 'median', 'data_preprocessing:numerical_transformer:rescaling:__choice__': 'none', 'feature_preprocessor:__choice__': 'fast_ica', 'feature_preprocessor:fast_ica:algorithm': 'deflation', 'feature_preprocessor:fast_ica:fun': 'cube', 'feature_preprocessor:fast_ica:whiten': 'False'},\n",
            "dataset_properties={\n",
            "  'task': 1,\n",
            "  'sparse': False,\n",
            "  'multilabel': False,\n",
            "  'multiclass': False,\n",
            "  'target_type': 'classification',\n",
            "  'signed': False})),\n",
            "]\n",
            "[(1.000000, SimpleClassificationPipeline({'balancing:strategy': 'weighting', 'classifier:__choice__': 'gaussian_nb', 'data_preprocessing:categorical_transformer:categorical_encoding:__choice__': 'no_encoding', 'data_preprocessing:categorical_transformer:category_coalescence:__choice__': 'minority_coalescer', 'data_preprocessing:numerical_transformer:imputation:strategy': 'median', 'data_preprocessing:numerical_transformer:rescaling:__choice__': 'minmax', 'feature_preprocessor:__choice__': 'no_preprocessing', 'data_preprocessing:categorical_transformer:category_coalescence:minority_coalescer:minimum_fraction': 0.004240052356842208},\n",
            "dataset_properties={\n",
            "  'task': 1,\n",
            "  'sparse': False,\n",
            "  'multilabel': False,\n",
            "  'multiclass': False,\n",
            "  'target_type': 'classification',\n",
            "  'signed': False})),\n",
            "]\n",
            "[(0.520000, SimpleClassificationPipeline({'balancing:strategy': 'weighting', 'classifier:__choice__': 'gaussian_nb', 'data_preprocessing:categorical_transformer:categorical_encoding:__choice__': 'one_hot_encoding', 'data_preprocessing:categorical_transformer:category_coalescence:__choice__': 'no_coalescense', 'data_preprocessing:numerical_transformer:imputation:strategy': 'median', 'data_preprocessing:numerical_transformer:rescaling:__choice__': 'none', 'feature_preprocessor:__choice__': 'fast_ica', 'feature_preprocessor:fast_ica:algorithm': 'deflation', 'feature_preprocessor:fast_ica:fun': 'cube', 'feature_preprocessor:fast_ica:whiten': 'False'},\n",
            "dataset_properties={\n",
            "  'task': 1,\n",
            "  'sparse': False,\n",
            "  'multilabel': False,\n",
            "  'multiclass': False,\n",
            "  'target_type': 'classification',\n",
            "  'signed': False})),\n",
            "(0.480000, SimpleClassificationPipeline({'balancing:strategy': 'weighting', 'classifier:__choice__': 'gaussian_nb', 'data_preprocessing:categorical_transformer:categorical_encoding:__choice__': 'no_encoding', 'data_preprocessing:categorical_transformer:category_coalescence:__choice__': 'minority_coalescer', 'data_preprocessing:numerical_transformer:imputation:strategy': 'median', 'data_preprocessing:numerical_transformer:rescaling:__choice__': 'minmax', 'feature_preprocessor:__choice__': 'no_preprocessing', 'data_preprocessing:categorical_transformer:category_coalescence:minority_coalescer:minimum_fraction': 0.004240052356842208},\n",
            "dataset_properties={\n",
            "  'task': 1,\n",
            "  'sparse': False,\n",
            "  'multilabel': False,\n",
            "  'multiclass': False,\n",
            "  'target_type': 'classification',\n",
            "  'signed': False})),\n",
            "]\n",
            "[(0.680000, SimpleClassificationPipeline({'balancing:strategy': 'weighting', 'classifier:__choice__': 'gaussian_nb', 'data_preprocessing:categorical_transformer:categorical_encoding:__choice__': 'one_hot_encoding', 'data_preprocessing:categorical_transformer:category_coalescence:__choice__': 'no_coalescense', 'data_preprocessing:numerical_transformer:imputation:strategy': 'median', 'data_preprocessing:numerical_transformer:rescaling:__choice__': 'none', 'feature_preprocessor:__choice__': 'fast_ica', 'feature_preprocessor:fast_ica:algorithm': 'deflation', 'feature_preprocessor:fast_ica:fun': 'cube', 'feature_preprocessor:fast_ica:whiten': 'False'},\n",
            "dataset_properties={\n",
            "  'task': 1,\n",
            "  'sparse': False,\n",
            "  'multilabel': False,\n",
            "  'multiclass': False,\n",
            "  'target_type': 'classification',\n",
            "  'signed': False})),\n",
            "(0.320000, SimpleClassificationPipeline({'balancing:strategy': 'weighting', 'classifier:__choice__': 'gaussian_nb', 'data_preprocessing:categorical_transformer:categorical_encoding:__choice__': 'no_encoding', 'data_preprocessing:categorical_transformer:category_coalescence:__choice__': 'minority_coalescer', 'data_preprocessing:numerical_transformer:imputation:strategy': 'median', 'data_preprocessing:numerical_transformer:rescaling:__choice__': 'minmax', 'feature_preprocessor:__choice__': 'no_preprocessing', 'data_preprocessing:categorical_transformer:category_coalescence:minority_coalescer:minimum_fraction': 0.004240052356842208},\n",
            "dataset_properties={\n",
            "  'task': 1,\n",
            "  'sparse': False,\n",
            "  'multilabel': False,\n",
            "  'multiclass': False,\n",
            "  'target_type': 'classification',\n",
            "  'signed': False})),\n",
            "]\n",
            "[(1.000000, SimpleClassificationPipeline({'balancing:strategy': 'weighting', 'classifier:__choice__': 'libsvm_svc', 'data_preprocessing:categorical_transformer:categorical_encoding:__choice__': 'no_encoding', 'data_preprocessing:categorical_transformer:category_coalescence:__choice__': 'no_coalescense', 'data_preprocessing:numerical_transformer:imputation:strategy': 'mean', 'data_preprocessing:numerical_transformer:rescaling:__choice__': 'none', 'feature_preprocessor:__choice__': 'feature_agglomeration', 'classifier:libsvm_svc:C': 0.96472524110086, 'classifier:libsvm_svc:gamma': 0.32003431657702625, 'classifier:libsvm_svc:kernel': 'poly', 'classifier:libsvm_svc:max_iter': -1, 'classifier:libsvm_svc:shrinking': 'False', 'classifier:libsvm_svc:tol': 0.0005751778021671754, 'feature_preprocessor:feature_agglomeration:affinity': 'euclidean', 'feature_preprocessor:feature_agglomeration:linkage': 'complete', 'feature_preprocessor:feature_agglomeration:n_clusters': 88, 'feature_preprocessor:feature_agglomeration:pooling_func': 'max', 'classifier:libsvm_svc:coef0': 0.07340987235571972, 'classifier:libsvm_svc:degree': 2},\n",
            "dataset_properties={\n",
            "  'task': 1,\n",
            "  'sparse': False,\n",
            "  'multilabel': False,\n",
            "  'multiclass': False,\n",
            "  'target_type': 'classification',\n",
            "  'signed': False})),\n",
            "]\n",
            "[(0.780000, SimpleClassificationPipeline({'balancing:strategy': 'weighting', 'classifier:__choice__': 'gaussian_nb', 'data_preprocessing:categorical_transformer:categorical_encoding:__choice__': 'one_hot_encoding', 'data_preprocessing:categorical_transformer:category_coalescence:__choice__': 'no_coalescense', 'data_preprocessing:numerical_transformer:imputation:strategy': 'median', 'data_preprocessing:numerical_transformer:rescaling:__choice__': 'none', 'feature_preprocessor:__choice__': 'fast_ica', 'feature_preprocessor:fast_ica:algorithm': 'deflation', 'feature_preprocessor:fast_ica:fun': 'cube', 'feature_preprocessor:fast_ica:whiten': 'False'},\n",
            "dataset_properties={\n",
            "  'task': 1,\n",
            "  'sparse': False,\n",
            "  'multilabel': False,\n",
            "  'multiclass': False,\n",
            "  'target_type': 'classification',\n",
            "  'signed': False})),\n",
            "(0.220000, SimpleClassificationPipeline({'balancing:strategy': 'weighting', 'classifier:__choice__': 'lda', 'data_preprocessing:categorical_transformer:categorical_encoding:__choice__': 'no_encoding', 'data_preprocessing:categorical_transformer:category_coalescence:__choice__': 'no_coalescense', 'data_preprocessing:numerical_transformer:imputation:strategy': 'median', 'data_preprocessing:numerical_transformer:rescaling:__choice__': 'quantile_transformer', 'feature_preprocessor:__choice__': 'liblinear_svc_preprocessor', 'classifier:lda:shrinkage': 'manual', 'classifier:lda:tol': 0.0007215763283486354, 'data_preprocessing:numerical_transformer:rescaling:quantile_transformer:n_quantiles': 851, 'data_preprocessing:numerical_transformer:rescaling:quantile_transformer:output_distribution': 'uniform', 'feature_preprocessor:liblinear_svc_preprocessor:C': 2.160480406584884, 'feature_preprocessor:liblinear_svc_preprocessor:dual': 'False', 'feature_preprocessor:liblinear_svc_preprocessor:fit_intercept': 'True', 'feature_preprocessor:liblinear_svc_preprocessor:intercept_scaling': 1, 'feature_preprocessor:liblinear_svc_preprocessor:loss': 'squared_hinge', 'feature_preprocessor:liblinear_svc_preprocessor:multi_class': 'ovr', 'feature_preprocessor:liblinear_svc_preprocessor:penalty': 'l1', 'feature_preprocessor:liblinear_svc_preprocessor:tol': 0.010943990816220809, 'classifier:lda:shrinkage_factor': 0.3306135150299744},\n",
            "dataset_properties={\n",
            "  'task': 1,\n",
            "  'sparse': False,\n",
            "  'multilabel': False,\n",
            "  'multiclass': False,\n",
            "  'target_type': 'classification',\n",
            "  'signed': False})),\n",
            "]\n",
            "[(1.000000, SimpleClassificationPipeline({'balancing:strategy': 'weighting', 'classifier:__choice__': 'libsvm_svc', 'data_preprocessing:categorical_transformer:categorical_encoding:__choice__': 'no_encoding', 'data_preprocessing:categorical_transformer:category_coalescence:__choice__': 'no_coalescense', 'data_preprocessing:numerical_transformer:imputation:strategy': 'mean', 'data_preprocessing:numerical_transformer:rescaling:__choice__': 'none', 'feature_preprocessor:__choice__': 'feature_agglomeration', 'classifier:libsvm_svc:C': 0.96472524110086, 'classifier:libsvm_svc:gamma': 0.32003431657702625, 'classifier:libsvm_svc:kernel': 'poly', 'classifier:libsvm_svc:max_iter': -1, 'classifier:libsvm_svc:shrinking': 'False', 'classifier:libsvm_svc:tol': 0.0005751778021671754, 'feature_preprocessor:feature_agglomeration:affinity': 'euclidean', 'feature_preprocessor:feature_agglomeration:linkage': 'complete', 'feature_preprocessor:feature_agglomeration:n_clusters': 88, 'feature_preprocessor:feature_agglomeration:pooling_func': 'max', 'classifier:libsvm_svc:coef0': 0.07340987235571972, 'classifier:libsvm_svc:degree': 2},\n",
            "dataset_properties={\n",
            "  'task': 1,\n",
            "  'sparse': False,\n",
            "  'multilabel': False,\n",
            "  'multiclass': False,\n",
            "  'target_type': 'classification',\n",
            "  'signed': False})),\n",
            "]\n",
            "[(1.000000, SimpleClassificationPipeline({'balancing:strategy': 'weighting', 'classifier:__choice__': 'libsvm_svc', 'data_preprocessing:categorical_transformer:categorical_encoding:__choice__': 'no_encoding', 'data_preprocessing:categorical_transformer:category_coalescence:__choice__': 'no_coalescense', 'data_preprocessing:numerical_transformer:imputation:strategy': 'mean', 'data_preprocessing:numerical_transformer:rescaling:__choice__': 'none', 'feature_preprocessor:__choice__': 'feature_agglomeration', 'classifier:libsvm_svc:C': 0.96472524110086, 'classifier:libsvm_svc:gamma': 0.32003431657702625, 'classifier:libsvm_svc:kernel': 'poly', 'classifier:libsvm_svc:max_iter': -1, 'classifier:libsvm_svc:shrinking': 'False', 'classifier:libsvm_svc:tol': 0.0005751778021671754, 'feature_preprocessor:feature_agglomeration:affinity': 'euclidean', 'feature_preprocessor:feature_agglomeration:linkage': 'complete', 'feature_preprocessor:feature_agglomeration:n_clusters': 88, 'feature_preprocessor:feature_agglomeration:pooling_func': 'max', 'classifier:libsvm_svc:coef0': 0.07340987235571972, 'classifier:libsvm_svc:degree': 2},\n",
            "dataset_properties={\n",
            "  'task': 1,\n",
            "  'sparse': False,\n",
            "  'multilabel': False,\n",
            "  'multiclass': False,\n",
            "  'target_type': 'classification',\n",
            "  'signed': False})),\n",
            "]\n",
            "[(0.640000, SimpleClassificationPipeline({'balancing:strategy': 'weighting', 'classifier:__choice__': 'gaussian_nb', 'data_preprocessing:categorical_transformer:categorical_encoding:__choice__': 'no_encoding', 'data_preprocessing:categorical_transformer:category_coalescence:__choice__': 'minority_coalescer', 'data_preprocessing:numerical_transformer:imputation:strategy': 'median', 'data_preprocessing:numerical_transformer:rescaling:__choice__': 'minmax', 'feature_preprocessor:__choice__': 'no_preprocessing', 'data_preprocessing:categorical_transformer:category_coalescence:minority_coalescer:minimum_fraction': 0.004240052356842208},\n",
            "dataset_properties={\n",
            "  'task': 1,\n",
            "  'sparse': False,\n",
            "  'multilabel': False,\n",
            "  'multiclass': False,\n",
            "  'target_type': 'classification',\n",
            "  'signed': False})),\n",
            "(0.360000, SimpleClassificationPipeline({'balancing:strategy': 'weighting', 'classifier:__choice__': 'gaussian_nb', 'data_preprocessing:categorical_transformer:categorical_encoding:__choice__': 'one_hot_encoding', 'data_preprocessing:categorical_transformer:category_coalescence:__choice__': 'no_coalescense', 'data_preprocessing:numerical_transformer:imputation:strategy': 'median', 'data_preprocessing:numerical_transformer:rescaling:__choice__': 'none', 'feature_preprocessor:__choice__': 'fast_ica', 'feature_preprocessor:fast_ica:algorithm': 'deflation', 'feature_preprocessor:fast_ica:fun': 'cube', 'feature_preprocessor:fast_ica:whiten': 'False'},\n",
            "dataset_properties={\n",
            "  'task': 1,\n",
            "  'sparse': False,\n",
            "  'multilabel': False,\n",
            "  'multiclass': False,\n",
            "  'target_type': 'classification',\n",
            "  'signed': False})),\n",
            "]\n",
            "[(0.760000, SimpleClassificationPipeline({'balancing:strategy': 'weighting', 'classifier:__choice__': 'libsvm_svc', 'data_preprocessing:categorical_transformer:categorical_encoding:__choice__': 'no_encoding', 'data_preprocessing:categorical_transformer:category_coalescence:__choice__': 'no_coalescense', 'data_preprocessing:numerical_transformer:imputation:strategy': 'mean', 'data_preprocessing:numerical_transformer:rescaling:__choice__': 'none', 'feature_preprocessor:__choice__': 'feature_agglomeration', 'classifier:libsvm_svc:C': 0.96472524110086, 'classifier:libsvm_svc:gamma': 0.32003431657702625, 'classifier:libsvm_svc:kernel': 'poly', 'classifier:libsvm_svc:max_iter': -1, 'classifier:libsvm_svc:shrinking': 'False', 'classifier:libsvm_svc:tol': 0.0005751778021671754, 'feature_preprocessor:feature_agglomeration:affinity': 'euclidean', 'feature_preprocessor:feature_agglomeration:linkage': 'complete', 'feature_preprocessor:feature_agglomeration:n_clusters': 88, 'feature_preprocessor:feature_agglomeration:pooling_func': 'max', 'classifier:libsvm_svc:coef0': 0.07340987235571972, 'classifier:libsvm_svc:degree': 2},\n",
            "dataset_properties={\n",
            "  'task': 1,\n",
            "  'sparse': False,\n",
            "  'multilabel': False,\n",
            "  'multiclass': False,\n",
            "  'target_type': 'classification',\n",
            "  'signed': False})),\n",
            "(0.140000, SimpleClassificationPipeline({'balancing:strategy': 'weighting', 'classifier:__choice__': 'gaussian_nb', 'data_preprocessing:categorical_transformer:categorical_encoding:__choice__': 'no_encoding', 'data_preprocessing:categorical_transformer:category_coalescence:__choice__': 'minority_coalescer', 'data_preprocessing:numerical_transformer:imputation:strategy': 'median', 'data_preprocessing:numerical_transformer:rescaling:__choice__': 'minmax', 'feature_preprocessor:__choice__': 'no_preprocessing', 'data_preprocessing:categorical_transformer:category_coalescence:minority_coalescer:minimum_fraction': 0.004240052356842208},\n",
            "dataset_properties={\n",
            "  'task': 1,\n",
            "  'sparse': False,\n",
            "  'multilabel': False,\n",
            "  'multiclass': False,\n",
            "  'target_type': 'classification',\n",
            "  'signed': False})),\n",
            "(0.100000, SimpleClassificationPipeline({'balancing:strategy': 'weighting', 'classifier:__choice__': 'lda', 'data_preprocessing:categorical_transformer:categorical_encoding:__choice__': 'no_encoding', 'data_preprocessing:categorical_transformer:category_coalescence:__choice__': 'no_coalescense', 'data_preprocessing:numerical_transformer:imputation:strategy': 'median', 'data_preprocessing:numerical_transformer:rescaling:__choice__': 'quantile_transformer', 'feature_preprocessor:__choice__': 'liblinear_svc_preprocessor', 'classifier:lda:shrinkage': 'manual', 'classifier:lda:tol': 0.0007215763283486354, 'data_preprocessing:numerical_transformer:rescaling:quantile_transformer:n_quantiles': 851, 'data_preprocessing:numerical_transformer:rescaling:quantile_transformer:output_distribution': 'uniform', 'feature_preprocessor:liblinear_svc_preprocessor:C': 2.160480406584884, 'feature_preprocessor:liblinear_svc_preprocessor:dual': 'False', 'feature_preprocessor:liblinear_svc_preprocessor:fit_intercept': 'True', 'feature_preprocessor:liblinear_svc_preprocessor:intercept_scaling': 1, 'feature_preprocessor:liblinear_svc_preprocessor:loss': 'squared_hinge', 'feature_preprocessor:liblinear_svc_preprocessor:multi_class': 'ovr', 'feature_preprocessor:liblinear_svc_preprocessor:penalty': 'l1', 'feature_preprocessor:liblinear_svc_preprocessor:tol': 0.010943990816220809, 'classifier:lda:shrinkage_factor': 0.3306135150299744},\n",
            "dataset_properties={\n",
            "  'task': 1,\n",
            "  'sparse': False,\n",
            "  'multilabel': False,\n",
            "  'multiclass': False,\n",
            "  'target_type': 'classification',\n",
            "  'signed': False})),\n",
            "]\n",
            "[(1.000000, SimpleClassificationPipeline({'balancing:strategy': 'weighting', 'classifier:__choice__': 'gaussian_nb', 'data_preprocessing:categorical_transformer:categorical_encoding:__choice__': 'one_hot_encoding', 'data_preprocessing:categorical_transformer:category_coalescence:__choice__': 'no_coalescense', 'data_preprocessing:numerical_transformer:imputation:strategy': 'median', 'data_preprocessing:numerical_transformer:rescaling:__choice__': 'none', 'feature_preprocessor:__choice__': 'fast_ica', 'feature_preprocessor:fast_ica:algorithm': 'deflation', 'feature_preprocessor:fast_ica:fun': 'cube', 'feature_preprocessor:fast_ica:whiten': 'False'},\n",
            "dataset_properties={\n",
            "  'task': 1,\n",
            "  'sparse': False,\n",
            "  'multilabel': False,\n",
            "  'multiclass': False,\n",
            "  'target_type': 'classification',\n",
            "  'signed': False})),\n",
            "]\n"
          ],
          "name": "stdout"
        }
      ]
    },
    {
      "cell_type": "markdown",
      "metadata": {
        "id": "PWsYgSp-9e_E"
      },
      "source": [
        "### Avaliação dos Modelos\n",
        "\n",
        "Abaixo podemos ver o desempenho de cada modelo pela métrica de acurácia. O melhor modelo foi o 17 que usou a algoritmo de *undersampling* *InstanceHardnessThreshold*."
      ]
    },
    {
      "cell_type": "code",
      "metadata": {
        "colab": {
          "base_uri": "https://localhost:8080/"
        },
        "id": "_MIJDBNVR80m",
        "outputId": "4e86686c-484e-49d5-f4a5-05956392b7d3"
      },
      "source": [
        "print(\"Acurácia dos modelos\")\n",
        "print(\"\"*254)\n",
        "print('Modelos com Algoritmos de Oversampling')\n",
        "predictions = automl.predict(X_teste)\n",
        "print(\"Acurária do modelo principal:\", sklearn.metrics.accuracy_score(y_teste, predictions))\n",
        "\n",
        "predictions1 = automl1.predict(X_teste1)\n",
        "print(\"Acurária do modelo 1:\", sklearn.metrics.accuracy_score(y_teste1, predictions1))\n",
        "\n",
        "predictions2 = automl2.predict(X_teste2)\n",
        "print(\"Acurária do modelo 2:\", sklearn.metrics.accuracy_score(y_teste2, predictions2))\n",
        "\n",
        "predictions3 = automl3.predict(X_teste3)\n",
        "print(\"Acurária do modelo 3:\", sklearn.metrics.accuracy_score(y_teste3, predictions3))\n",
        "\n",
        "predictions4 = automl4.predict(X_teste4)\n",
        "print(\"Acurária do modelo 4:\", sklearn.metrics.accuracy_score(y_teste4, predictions4))\n",
        "\n",
        "predictions5 = automl5.predict(X_teste5)\n",
        "print(\"Acurária do modelo 5:\", sklearn.metrics.accuracy_score(y_teste5, predictions5))\n",
        "\n",
        "predictions6 = automl6.predict(X_teste6)\n",
        "print(\"Acurária do modelo 6:\", sklearn.metrics.accuracy_score(y_teste6, predictions6))\n",
        "\n",
        "predictions8 = automl8.predict(X_teste8)\n",
        "print(\"Acurária do modelo 8:\", sklearn.metrics.accuracy_score(y_teste8, predictions8))\n",
        "\n",
        "print(\"\"*254)\n",
        "print('Modelos com Algoritmos de Undersampling')\n",
        "predictions9 = automl9.predict(X_teste9)\n",
        "print(\"Acurária do modelo 9:\", sklearn.metrics.accuracy_score(y_teste9, predictions9))\n",
        "\n",
        "predictions10 = automl10.predict(X_teste10)\n",
        "print(\"Acurária do modelo 10:\", sklearn.metrics.accuracy_score(y_teste10, predictions10))\n",
        "\n",
        "predictions11 = automl11.predict(X_teste11)\n",
        "print(\"Acurária do modelo 11:\", sklearn.metrics.accuracy_score(y_teste11, predictions11))\n",
        "\n",
        "predictions12 = automl12.predict(X_teste12)\n",
        "print(\"Acurária do modelo 12:\", sklearn.metrics.accuracy_score(y_teste12, predictions12))\n",
        "\n",
        "predictions13 = automl13.predict(X_teste13)\n",
        "print(\"Acurária do modelo 13:\", sklearn.metrics.accuracy_score(y_teste13, predictions13))\n",
        "\n",
        "predictions15 = automl15.predict(X_teste15)\n",
        "print(\"Acurária do modelo 15:\", sklearn.metrics.accuracy_score(y_teste15, predictions15))\n",
        "\n",
        "predictions16 = automl16.predict(X_teste16)\n",
        "print(\"Acurária do modelo 16:\", sklearn.metrics.accuracy_score(y_teste16, predictions16))\n",
        "\n",
        "predictions17 = automl17.predict(X_teste17)\n",
        "print(\"Acurária do modelo 17:\", sklearn.metrics.accuracy_score(y_teste17, predictions17))\n",
        "\n",
        "print(\"\"*254)\n",
        "print('Modelos com Algoritmos de Técnica combinadas')\n",
        "predictions18 = automl18.predict(X_teste18)\n",
        "print(\"Acurária do modelo 18:\", sklearn.metrics.accuracy_score(y_teste18, predictions18))\n",
        "\n",
        "predictions19 = automl19.predict(X_teste19)\n",
        "print(\"Acurária do modelo 19:\", sklearn.metrics.accuracy_score(y_teste19, predictions19))"
      ],
      "execution_count": 59,
      "outputs": [
        {
          "output_type": "stream",
          "text": [
            "Acurácia dos modelos\n",
            "\n",
            "Modelos com Algoritmos de Oversampling\n",
            "Acurária do modelo principal: 0.7279954571266326\n",
            "Acurária do modelo 1: 0.7734827986084267\n",
            "Acurária do modelo 2: 0.7364370911889189\n",
            "Acurária do modelo 3: 0.7564746810977967\n",
            "Acurária do modelo 4: 0.7680711248550445\n",
            "Acurária do modelo 5: 0.8318515655199072\n",
            "Acurária do modelo 6: 0.7672980286045613\n",
            "Acurária do modelo 8: 0.766524932354078\n",
            "\n",
            "Modelos com Algoritmos de Undersampling\n",
            "Acurária do modelo 9: 0.7625668449197861\n",
            "Acurária do modelo 10: 0.6524064171122995\n",
            "Acurária do modelo 11: 0.869281045751634\n",
            "Acurária do modelo 12: 0.9138257575757576\n",
            "Acurária do modelo 13: 0.8753292361720808\n",
            "Acurária do modelo 15: 0.7254901960784313\n",
            "Acurária do modelo 16: 0.853125\n",
            "Acurária do modelo 17: 0.9191709844559586\n",
            "\n",
            "Modelos com Algoritmos de Técnica combinadas\n",
            "Acurária do modelo 18: 0.9213973799126638\n",
            "Acurária do modelo 19: 0.7760162601626016\n"
          ],
          "name": "stdout"
        }
      ]
    },
    {
      "cell_type": "markdown",
      "metadata": {
        "id": "blo8fNstabR1"
      },
      "source": [
        "Abaixo vamos ver a diferença de desempenho dos modelos em seus dados de treino e de teste para saber se há algum problema de *overfitting* (sobreajuste do modelo) ou *underfitting* (subajuste do modelo), pois o que quero é um modelo que possa ser generalizável.\n",
        "\n",
        "Novamente o modelo 17 ( que usa o algoritmo *InstanceHardnessThreshold*) de o melhor resultado."
      ]
    },
    {
      "cell_type": "code",
      "metadata": {
        "colab": {
          "base_uri": "https://localhost:8080/"
        },
        "id": "VWpQ8xu6cW3f",
        "outputId": "80891ab2-8e16-4491-f5a5-9d4f6d721303"
      },
      "source": [
        "print('Training score do modelo principal:',round(automl.score(X_treino,y_treino)*100,3),'%')\n",
        "print('Testing score do modelo principal:',round(automl.score(X_teste,y_teste)*100,3),'%')\n",
        "print(''*254)\n",
        "\n",
        "print('Training score do modelo 1:',round(automl1.score(X_treino1,y_treino1)*100,3),'%')\n",
        "print('Testing score do modelo 1:',round(automl1.score(X_teste1,y_teste1)*100,3),'%')\n",
        "print(''*254)\n",
        "\n",
        "print('Training score do modelo 2:',round(automl2.score(X_treino2,y_treino2)*100,3),'%')\n",
        "print('Testing score do modelo 2:',round(automl2.score(X_teste2,y_teste2)*100,3),'%')\n",
        "print(''*254)\n",
        "\n",
        "print('Training score do modelo 3:',round(automl3.score(X_treino3,y_treino3)*100,3),'%')\n",
        "print('Testing score do modelo 3:',round(automl3.score(X_teste3,y_teste3)*100,3),'%')\n",
        "print(''*254)\n",
        "\n",
        "print('Training score do modelo 4:',round(automl4.score(X_treino4,y_treino4)*100,3),'%')\n",
        "print('Testing score do modelo 4:',round(automl4.score(X_teste4,y_teste4)*100,3),'%')\n",
        "print(''*254)\n",
        "\n",
        "print('Training score do modelo 5:',round(automl5.score(X_treino5,y_treino5)*100,3),'%')\n",
        "print('Testing score do modelo 5:',round(automl5.score(X_teste5,y_teste5)*100,3),'%')\n",
        "print(''*254)\n",
        "\n",
        "print('Training score do modelo 6:',round(automl6.score(X_treino6,y_treino6)*100,3),'%')\n",
        "print('Testing score do modelo 6:',round(automl6.score(X_teste6,y_teste6)*100,3),'%')\n",
        "print(''*254)\n",
        "\n",
        "print('Training score do modelo 8:',round(automl8.score(X_treino8,y_treino8)*100,3),'%')\n",
        "print('Testing score do modelo 8:',round(automl8.score(X_teste8,y_teste8)*100,3),'%')\n",
        "print(''*254)\n",
        "\n",
        "print('Training score do modelo 9:',round(automl9.score(X_treino9,y_treino9)*100,3),'%')\n",
        "print('Testing score do modelo 9:',round(automl9.score(X_teste9,y_teste9)*100,3),'%')\n",
        "print(''*254)\n",
        "\n",
        "print('Training score do modelo 10:',round(automl10.score(X_treino10,y_treino10)*100,3),'%')\n",
        "print('Testing score do modelo 10:',round(automl10.score(X_teste10,y_teste10)*100,3),'%')\n",
        "print(''*254)\n",
        "\n",
        "print('Training score do modelo 11:',round(automl11.score(X_treino11,y_treino11)*100,3),'%')\n",
        "print('Testing score do modelo 11:',round(automl11.score(X_teste11,y_teste11)*100,3),'%')\n",
        "print(''*254)\n",
        "\n",
        "print('Training score do modelo 12:',round(automl12.score(X_treino12,y_treino12)*100,3),'%')\n",
        "print('Testing score do modelo 12:',round(automl12.score(X_teste12,y_teste12)*100,3),'%')\n",
        "print(''*254)\n",
        "\n",
        "print('Training score do modelo 13:',round(automl13.score(X_treino13,y_treino13)*100,3),'%')\n",
        "print('Testing score do modelo 13:',round(automl13.score(X_teste13,y_teste13)*100,3),'%')\n",
        "print(''*254)\n",
        "\n",
        "print('Training score do modelo 15:',round(automl15.score(X_treino15,y_treino15)*100,3),'%')\n",
        "print('Testing score do modelo 15:',round(automl15.score(X_teste15,y_teste15)*100,3),'%')\n",
        "print(''*254)\n",
        "\n",
        "print('Training score do modelo 16:',round(automl16.score(X_treino16,y_treino16)*100,3),'%')\n",
        "print('Testing score do modelo 16:',round(automl16.score(X_teste16,y_teste16)*100,3),'%')\n",
        "print(''*254)\n",
        "\n",
        "print('Training score do modelo 17:',round(automl17.score(X_treino17,y_treino17)*100,3),'%')\n",
        "print('Testing score do modelo 17:',round(automl17.score(X_teste17,y_teste17)*100,3),'%')\n",
        "print(''*254)\n",
        "\n",
        "print('Training score do modelo 18:',round(automl18.score(X_treino18,y_treino18)*100,3),'%')\n",
        "print('Testing score do modelo 18:',round(automl18.score(X_teste18,y_teste18)*100,3),'%')\n",
        "print(''*254)\n",
        "\n",
        "print('Training score do modelo 19:',round(automl19.score(X_treino19,y_treino19)*100,3),'%')\n",
        "print('Testing score do modelo 19:',round(automl19.score(X_teste19,y_teste19)*100,3),'%')"
      ],
      "execution_count": 60,
      "outputs": [
        {
          "output_type": "stream",
          "text": [
            "Training score do modelo principal: 73.684 %\n",
            "Testing score do modelo principal: 72.8 %\n",
            "\n",
            "Training score do modelo 1: 76.768 %\n",
            "Testing score do modelo 1: 77.348 %\n",
            "\n",
            "Training score do modelo 2: 74.304 %\n",
            "Testing score do modelo 2: 73.644 %\n",
            "\n",
            "Training score do modelo 3: 75.596 %\n",
            "Testing score do modelo 3: 75.647 %\n",
            "\n",
            "Training score do modelo 4: 76.794 %\n",
            "Testing score do modelo 4: 76.807 %\n",
            "\n",
            "Training score do modelo 5: 81.33 %\n",
            "Testing score do modelo 5: 83.185 %\n",
            "\n",
            "Training score do modelo 6: 76.82 %\n",
            "Testing score do modelo 6: 76.73 %\n",
            "\n",
            "Training score do modelo 8: 74.939 %\n",
            "Testing score do modelo 8: 76.652 %\n",
            "\n",
            "Training score do modelo 9: 75.598 %\n",
            "Testing score do modelo 9: 76.257 %\n",
            "\n",
            "Training score do modelo 10: 68.498 %\n",
            "Testing score do modelo 10: 65.241 %\n",
            "\n",
            "Training score do modelo 11: 87.745 %\n",
            "Testing score do modelo 11: 86.928 %\n",
            "\n",
            "Training score do modelo 12: 90.625 %\n",
            "Testing score do modelo 12: 91.383 %\n",
            "\n",
            "Training score do modelo 13: 90.305 %\n",
            "Testing score do modelo 13: 87.533 %\n",
            "\n",
            "Training score do modelo 15: 70.964 %\n",
            "Testing score do modelo 15: 72.549 %\n",
            "\n",
            "Training score do modelo 16: 86.917 %\n",
            "Testing score do modelo 16: 85.312 %\n",
            "\n",
            "Training score do modelo 17: 92.707 %\n",
            "Testing score do modelo 17: 91.917 %\n",
            "\n",
            "Training score do modelo 18: 93.487 %\n",
            "Testing score do modelo 18: 92.14 %\n",
            "\n",
            "Training score do modelo 19: 78.219 %\n",
            "Testing score do modelo 19: 77.602 %\n"
          ],
          "name": "stdout"
        }
      ]
    },
    {
      "cell_type": "markdown",
      "metadata": {
        "id": "grPLYFSltgr0"
      },
      "source": [
        "#### Relatórios dos melhores modelos\n",
        "\n",
        "Aqui só serão analisados as métricas de avaliação dos modelos que tiveram melhor desempenho anteriormente. Destaquei os modelos 12, 13, 17 e 18.\n",
        "\n",
        "Abaixo podemos ver o relatório das métricas do modelo 12 e é importante notar aqui que tanto a precisão das classes (*precision*) quanto a sensibilidade (*recall*) estão bem próximos; e as métricas desse modelo estão acima de 90%, que mostra que esse é um bom modelo preditor."
      ]
    },
    {
      "cell_type": "code",
      "metadata": {
        "colab": {
          "background_save": true
        },
        "id": "IH1Fi3wXtG2_",
        "outputId": "d99119e8-c40e-4904-c724-5ce3a9b8cbc5"
      },
      "source": [
        "valor_classe=[0,1]\n",
        "print(classification_report(y12,cross_val_predict(automl12,X12,y12,cv=10),valor_classe))"
      ],
      "execution_count": null,
      "outputs": [
        {
          "output_type": "stream",
          "text": [
            "              precision    recall  f1-score   support\n",
            "\n",
            "           0       0.92      0.96      0.94      2378\n",
            "           1       0.94      0.90      0.92      1869\n",
            "\n",
            "    accuracy                           0.93      4247\n",
            "   macro avg       0.93      0.93      0.93      4247\n",
            "weighted avg       0.93      0.93      0.93      4247\n",
            "\n"
          ],
          "name": "stdout"
        },
        {
          "output_type": "stream",
          "text": [
            "/usr/local/lib/python3.7/dist-packages/sklearn/utils/validation.py:72: FutureWarning: Pass labels=[0, 1] as keyword args. From version 1.0 (renaming of 0.25) passing these as positional arguments will result in an error\n",
            "  \"will result in an error\", FutureWarning)\n"
          ],
          "name": "stderr"
        }
      ]
    },
    {
      "cell_type": "markdown",
      "metadata": {
        "id": "HubCr3Qvdl-H"
      },
      "source": [
        "O modelo 13 já possui um desempenho menor na classe 1 (deixou de ser cliente), mas a suas métricas estão bem próximas uma das outras e bem próximas de 90% no geral."
      ]
    },
    {
      "cell_type": "code",
      "metadata": {
        "colab": {
          "base_uri": "https://localhost:8080/"
        },
        "id": "16BkNJs0tHAG",
        "outputId": "631ace11-3f0d-4f8b-b69c-152c02404478"
      },
      "source": [
        "valor_classe=[0,1]\n",
        "print(classification_report(y13,cross_val_predict(automl13,X13,y13,cv=10),valor_classe))"
      ],
      "execution_count": null,
      "outputs": [
        {
          "output_type": "stream",
          "text": [
            "              precision    recall  f1-score   support\n",
            "\n",
            "           0       0.90      0.92      0.91      2652\n",
            "           1       0.88      0.85      0.87      1869\n",
            "\n",
            "    accuracy                           0.89      4521\n",
            "   macro avg       0.89      0.89      0.89      4521\n",
            "weighted avg       0.89      0.89      0.89      4521\n",
            "\n"
          ],
          "name": "stdout"
        },
        {
          "output_type": "stream",
          "text": [
            "/usr/local/lib/python3.7/dist-packages/sklearn/utils/validation.py:72: FutureWarning: Pass labels=[0, 1] as keyword args. From version 1.0 (renaming of 0.25) passing these as positional arguments will result in an error\n",
            "  \"will result in an error\", FutureWarning)\n"
          ],
          "name": "stderr"
        }
      ]
    },
    {
      "cell_type": "markdown",
      "metadata": {
        "id": "Cc-1MQx_eKjq"
      },
      "source": [
        "O desempenho do modelo 18 foi um pouco pior na classe 0, mas teve um bom resultado para prever a classe 1 (93% de precisão e 90% de *recall*)."
      ]
    },
    {
      "cell_type": "code",
      "metadata": {
        "colab": {
          "base_uri": "https://localhost:8080/"
        },
        "id": "Kkk9E8MVP9_Z",
        "outputId": "f9c252a4-d0b8-47d2-ba8a-73dd46410a3c"
      },
      "source": [
        "valor_classe=[0,1]\n",
        "print(classification_report(y18,cross_val_predict(automl18,X18,y18,cv=10),valor_classe))"
      ],
      "execution_count": null,
      "outputs": [
        {
          "output_type": "stream",
          "text": [
            "              precision    recall  f1-score   support\n",
            "\n",
            "           0       0.88      0.92      0.90      2792\n",
            "           1       0.93      0.90      0.92      3516\n",
            "\n",
            "    accuracy                           0.91      6308\n",
            "   macro avg       0.91      0.91      0.91      6308\n",
            "weighted avg       0.91      0.91      0.91      6308\n",
            "\n"
          ],
          "name": "stdout"
        },
        {
          "output_type": "stream",
          "text": [
            "/usr/local/lib/python3.7/dist-packages/sklearn/utils/validation.py:72: FutureWarning: Pass labels=[0, 1] as keyword args. From version 1.0 (renaming of 0.25) passing these as positional arguments will result in an error\n",
            "  \"will result in an error\", FutureWarning)\n"
          ],
          "name": "stderr"
        }
      ]
    },
    {
      "cell_type": "markdown",
      "metadata": {
        "id": "47KLdg6Ud-ty"
      },
      "source": [
        "O modelo 17 foi o melhor, tanto em acurácia, como em *testing score* e *training score*, com nas métricas de precisão e *recall*.\n",
        "\n",
        "Esse modelo está usando uma técnica de reamostragem *undersampling*, ou seja, houve uma redução nos dados de marjoritários."
      ]
    },
    {
      "cell_type": "code",
      "metadata": {
        "colab": {
          "base_uri": "https://localhost:8080/"
        },
        "id": "-KUvshQhwWe8",
        "outputId": "64d96f1b-1a09-45e0-da57-f1e83ab56f35"
      },
      "source": [
        "valor_classe=[0,1]\n",
        "print(classification_report(y17,cross_val_predict(automl17,X17,y17,cv=10),valor_classe))"
      ],
      "execution_count": null,
      "outputs": [
        {
          "output_type": "stream",
          "text": [
            "              precision    recall  f1-score   support\n",
            "\n",
            "           0       0.94      0.97      0.95      1961\n",
            "           1       0.97      0.93      0.95      1869\n",
            "\n",
            "    accuracy                           0.95      3830\n",
            "   macro avg       0.95      0.95      0.95      3830\n",
            "weighted avg       0.95      0.95      0.95      3830\n",
            "\n"
          ],
          "name": "stdout"
        },
        {
          "output_type": "stream",
          "text": [
            "/usr/local/lib/python3.7/dist-packages/sklearn/utils/validation.py:72: FutureWarning: Pass labels=[0, 1] as keyword args. From version 1.0 (renaming of 0.25) passing these as positional arguments will result in an error\n",
            "  \"will result in an error\", FutureWarning)\n"
          ],
          "name": "stderr"
        }
      ]
    },
    {
      "cell_type": "markdown",
      "metadata": {
        "id": "j_Yw75Ih2qDe"
      },
      "source": [
        "#### Matrizes de confusão\n",
        "\n",
        "Uma outra forma de avaliar o desempenho dos modelos é usar a matriz de confusão, que compara os valores preditos com os valores reais de forma visual."
      ]
    },
    {
      "cell_type": "code",
      "metadata": {
        "colab": {
          "base_uri": "https://localhost:8080/",
          "height": 606
        },
        "id": "52P5mYKTR84v",
        "outputId": "d89cf1e1-5e43-49b2-864b-a94c4d604c9f"
      },
      "source": [
        "fig, ax= plt.subplots(2,2, figsize=(20,10))\n",
        "disp=plot_confusion_matrix(automl12,X_teste12,y_teste12,cmap='Blues',values_format='.5g', ax=ax[0][0])\n",
        "disp=plot_confusion_matrix(automl13,X_teste13,y_teste13,cmap='Reds',values_format='.5g', ax=ax[0][1])\n",
        "disp=plot_confusion_matrix(automl17,X_teste17,y_teste17,cmap='Greens',values_format='.5g', ax=ax[1][0])\n",
        "disp=plot_confusion_matrix(automl18,X_teste18,y_teste18,cmap='Oranges',values_format='.5g', ax=ax[1][1])"
      ],
      "execution_count": null,
      "outputs": [
        {
          "output_type": "display_data",
          "data": {
            "image/png": "[encoded data removed]",
            "text/plain": [
              "<Figure size 1440x720 with 8 Axes>"
            ]
          },
          "metadata": {
            "tags": []
          }
        }
      ]
    },
    {
      "cell_type": "markdown",
      "metadata": {
        "id": "c6NqH47B2iTE"
      },
      "source": [
        "#### Curva *ROC* e AUC\n",
        "\n",
        "Por fim, vamos plotar a curva *ROC* e gerar o AUC.\n",
        "\n",
        "A curva ROC mostra o quão bom o modelo criado pode distinguir entre duas coisas (já que é utilizado para classificação). Essas duas coisas podem ser 0 ou 1, ou positivo e negativo. Os melhores modelos conseguem distinguir com precisão o binômio.\n",
        "\n",
        "A curva *ROC* possui dois parâmetros:\n",
        "\n",
        "1) Taxa de verdadeiro positivo (True Positive Rate), que é dado por \n",
        "\n",
        "$\\frac{true positives}{(true positives + false negatives)}$\n",
        "\n",
        "Taxa de falso positivo (False Positive Rate), que é dado por $\\frac{false positives}{(true positives + false negatives)}$\n",
        "\n",
        "O valor do AUC varia de 0.0 até 1.0 e é a área abaixo da curva *ROC*, tendo comoo limiar entre as classes o valor de 0.5. Ou seja, acima desse limite, o algoritmo classifica em uma classe e abaixo na outra classe.\n",
        "\n",
        "Abaixo geramos as curvas *ROC* e os valores de *AUC* para cada modelo treinado. Vê-se que o melhor modelo foi o 17."
      ]
    },
    {
      "cell_type": "code",
      "metadata": {
        "colab": {
          "base_uri": "https://localhost:8080/",
          "height": 295
        },
        "id": "DXHP67JOg95I",
        "outputId": "a4a98436-e155-4840-9d5c-d198cb392314"
      },
      "source": [
        "plt.figure(figsize=(20,10))\n",
        "disp=plot_roc_curve(automl,X_teste,y_teste)\n",
        "plot_roc_curve(automl12,X_teste12,y_teste12, ax=disp.ax_);\n",
        "plot_roc_curve(automl13,X_teste13,y_teste13, ax=disp.ax_);\n",
        "plot_roc_curve(automl17,X_teste17,y_teste17, ax=disp.ax_);\n",
        "plot_roc_curve(automl18,X_teste18,y_teste18, ax=disp.ax_);\n",
        "plt.show()"
      ],
      "execution_count": null,
      "outputs": [
        {
          "output_type": "display_data",
          "data": {
            "text/plain": [
              "<Figure size 1440x720 with 0 Axes>"
            ]
          },
          "metadata": {
            "tags": []
          }
        },
        {
          "output_type": "display_data",
          "data": {
            "image/png": "[encoded data removed]",
            "text/plain": [
              "<Figure size 432x288 with 1 Axes>"
            ]
          },
          "metadata": {
            "tags": []
          }
        }
      ]
    },
    {
      "cell_type": "markdown",
      "metadata": {
        "id": "WBT_fBES9je6"
      },
      "source": [
        "## Conclusão\n",
        "\n",
        "Nesse pequeno projeto apliquei a biblioteca *Auto-Sklearn* para modelagem de dados de *churn* de clientes de uma empresa e classificá-los com base nas suas *features*. O uso dessa ferramenta também dispensou a uso de vários modelos de classificação.\n",
        "\n",
        "Além disso, utilizei algoritmos da biblioteca *imblearn* para reamostragem dos dados, pois as classes da variável alvo *Churn* estavam desbalanceadas.\n",
        "\n",
        "Encontrei, então, um modelo que classifica a classe 1 com uma acurácia de 93%, precisão de 97%, *recall* de 94% e um AUC de 98%."
      ]
    }
  ]
}